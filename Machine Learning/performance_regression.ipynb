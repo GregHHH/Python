{
  "cells": [
    {
      "cell_type": "code",
      "execution_count": null,
      "metadata": {
        "colab": {
          "base_uri": "https://localhost:8080/",
          "height": 129
        },
        "id": "iu5Yx4nWjhR_",
        "outputId": "674b6d39-691a-420c-8a10-eb3885d99de0"
      },
      "outputs": [
        {
          "name": "stdout",
          "output_type": "stream",
          "text": [
            "Go to this URL in a browser: https://accounts.google.com/o/oauth2/auth?client_id=947318989803-6bn6qk8qdgf4n4g3pfee6491hc0brc4i.apps.googleusercontent.com&redirect_uri=urn%3aietf%3awg%3aoauth%3a2.0%3aoob&response_type=code&scope=email%20https%3a%2f%2fwww.googleapis.com%2fauth%2fdocs.test%20https%3a%2f%2fwww.googleapis.com%2fauth%2fdrive%20https%3a%2f%2fwww.googleapis.com%2fauth%2fdrive.photos.readonly%20https%3a%2f%2fwww.googleapis.com%2fauth%2fpeopleapi.readonly\n",
            "\n",
            "Enter your authorization code:\n",
            "··········\n",
            "Mounted at /content/drive\n"
          ]
        }
      ],
      "source": []
    },
    {
      "cell_type": "markdown",
      "metadata": {
        "id": "1WoijL3e0dbw"
      },
      "source": [
        "# Les librairies"
      ]
    },
    {
      "cell_type": "code",
      "execution_count": null,
      "metadata": {
        "colab": {
          "base_uri": "https://localhost:8080/",
          "height": 35
        },
        "id": "on8pBtO-IjQh",
        "outputId": "1bfb2339-259d-4c68-84a0-4c310d7bf6f2"
      },
      "outputs": [
        {
          "name": "stdout",
          "output_type": "stream",
          "text": [
            "Importations effectuées\n"
          ]
        }
      ],
      "source": []
    },
    {
      "cell_type": "markdown",
      "metadata": {
        "id": "s7s9c3wJ0fRP"
      },
      "source": [
        "# Les fichiers"
      ]
    },
    {
      "cell_type": "code",
      "execution_count": null,
      "metadata": {
        "colab": {
          "base_uri": "https://localhost:8080/",
          "height": 35
        },
        "id": "FmFAOqjqjVbD",
        "outputId": "b2542b42-a0c6-422a-d034-a2d508f5b90b"
      },
      "outputs": [
        {
          "name": "stdout",
          "output_type": "stream",
          "text": [
            "Dataframe créé !\n"
          ]
        }
      ],
      "source": []
    },
    {
      "cell_type": "markdown",
      "metadata": {
        "id": "BCVfHICX0icv"
      },
      "source": [
        "# Les copies"
      ]
    },
    {
      "cell_type": "code",
      "execution_count": null,
      "metadata": {
        "colab": {
          "base_uri": "https://localhost:8080/",
          "height": 35
        },
        "id": "2VCJywq_jk9P",
        "outputId": "4b510da6-70af-4ef4-bc1a-52718b2b3908"
      },
      "outputs": [
        {
          "name": "stdout",
          "output_type": "stream",
          "text": [
            "Copie effectuée\n"
          ]
        }
      ],
      "source": []
    },
    {
      "cell_type": "markdown",
      "metadata": {
        "id": "7ubaZmu90kYJ"
      },
      "source": [
        "# La situation initiale"
      ]
    },
    {
      "cell_type": "code",
      "execution_count": null,
      "metadata": {
        "colab": {
          "base_uri": "https://localhost:8080/",
          "height": 424
        },
        "id": "TZfvHTO8mQA1",
        "outputId": "19b098b4-f6b8-4c8b-905e-25a093d143fe"
      },
      "outputs": [
        {
          "data": {
            "text/html": [
              "<div>\n",
              "<style scoped>\n",
              "    .dataframe tbody tr th:only-of-type {\n",
              "        vertical-align: middle;\n",
              "    }\n",
              "\n",
              "    .dataframe tbody tr th {\n",
              "        vertical-align: top;\n",
              "    }\n",
              "\n",
              "    .dataframe thead th {\n",
              "        text-align: right;\n",
              "    }\n",
              "</style>\n",
              "<table border=\"1\" class=\"dataframe\">\n",
              "  <thead>\n",
              "    <tr style=\"text-align: right;\">\n",
              "      <th></th>\n",
              "      <th>marque</th>\n",
              "      <th>lib_version</th>\n",
              "      <th>entree_stock</th>\n",
              "      <th>prix_initial</th>\n",
              "      <th>Prix predit1</th>\n",
              "      <th>Prix predit2</th>\n",
              "      <th>Prix predit3</th>\n",
              "    </tr>\n",
              "  </thead>\n",
              "  <tbody>\n",
              "    <tr>\n",
              "      <th>0</th>\n",
              "      <td>BMW</td>\n",
              "      <td>Serie 3 Gran Turismo 320dA 190ch Luxury</td>\n",
              "      <td>2018-12-30T00:00:00.000Z</td>\n",
              "      <td>40590</td>\n",
              "      <td>39129</td>\n",
              "      <td>40712</td>\n",
              "      <td>42647</td>\n",
              "    </tr>\n",
              "    <tr>\n",
              "      <th>1</th>\n",
              "      <td>OPEL</td>\n",
              "      <td>Corsa 1.2 70ch Dynamic 5p</td>\n",
              "      <td>2019-01-08T00:00:00.000Z</td>\n",
              "      <td>10480</td>\n",
              "      <td>10973</td>\n",
              "      <td>10208</td>\n",
              "      <td>8308</td>\n",
              "    </tr>\n",
              "    <tr>\n",
              "      <th>2</th>\n",
              "      <td>PEUGEOT</td>\n",
              "      <td>2008 1.2 PureTech 82ch Style</td>\n",
              "      <td>2018-12-21T00:00:00.000Z</td>\n",
              "      <td>15990</td>\n",
              "      <td>17557</td>\n",
              "      <td>16758</td>\n",
              "      <td>15782</td>\n",
              "    </tr>\n",
              "    <tr>\n",
              "      <th>3</th>\n",
              "      <td>RENAULT</td>\n",
              "      <td>Megane 1.5 dCi 110ch energy Limited</td>\n",
              "      <td>2018-12-24T00:00:00.000Z</td>\n",
              "      <td>21490</td>\n",
              "      <td>22393</td>\n",
              "      <td>20695</td>\n",
              "      <td>19082</td>\n",
              "    </tr>\n",
              "    <tr>\n",
              "      <th>4</th>\n",
              "      <td>RENAULT</td>\n",
              "      <td>Clio 0.9 TCe 90ch Zen 5p</td>\n",
              "      <td>2018-12-25T00:00:00.000Z</td>\n",
              "      <td>13490</td>\n",
              "      <td>12330</td>\n",
              "      <td>13841</td>\n",
              "      <td>12178</td>\n",
              "    </tr>\n",
              "    <tr>\n",
              "      <th>...</th>\n",
              "      <td>...</td>\n",
              "      <td>...</td>\n",
              "      <td>...</td>\n",
              "      <td>...</td>\n",
              "      <td>...</td>\n",
              "      <td>...</td>\n",
              "      <td>...</td>\n",
              "    </tr>\n",
              "    <tr>\n",
              "      <th>76</th>\n",
              "      <td>PEUGEOT</td>\n",
              "      <td>4008 1.6 HDi115 FAP Style STT</td>\n",
              "      <td>2019-01-06T00:00:00.000Z</td>\n",
              "      <td>19499</td>\n",
              "      <td>21176</td>\n",
              "      <td>21098</td>\n",
              "      <td>20746</td>\n",
              "    </tr>\n",
              "    <tr>\n",
              "      <th>77</th>\n",
              "      <td>CITROEN</td>\n",
              "      <td>C3 PureTech 110ch Shine S&amp;S EAT6</td>\n",
              "      <td>2018-12-12T00:00:00.000Z</td>\n",
              "      <td>17690</td>\n",
              "      <td>17177</td>\n",
              "      <td>17212</td>\n",
              "      <td>16465</td>\n",
              "    </tr>\n",
              "    <tr>\n",
              "      <th>78</th>\n",
              "      <td>CITROEN</td>\n",
              "      <td>C3 BlueHDi 75ch Feel S&amp;S</td>\n",
              "      <td>2019-01-11T00:00:00.000Z</td>\n",
              "      <td>10990</td>\n",
              "      <td>11254</td>\n",
              "      <td>12023</td>\n",
              "      <td>11067</td>\n",
              "    </tr>\n",
              "    <tr>\n",
              "      <th>79</th>\n",
              "      <td>CITROEN</td>\n",
              "      <td>C4 Picasso PureTech 130ch Shine S&amp;S</td>\n",
              "      <td>2018-12-27T00:00:00.000Z</td>\n",
              "      <td>22490</td>\n",
              "      <td>20533</td>\n",
              "      <td>21455</td>\n",
              "      <td>21755</td>\n",
              "    </tr>\n",
              "    <tr>\n",
              "      <th>80</th>\n",
              "      <td>PEUGEOT</td>\n",
              "      <td>208 1.6 BlueHDi 100ch Active 5p</td>\n",
              "      <td>2019-01-10T00:00:00.000Z</td>\n",
              "      <td>12490</td>\n",
              "      <td>13177</td>\n",
              "      <td>12428</td>\n",
              "      <td>11716</td>\n",
              "    </tr>\n",
              "  </tbody>\n",
              "</table>\n",
              "<p>81 rows × 7 columns</p>\n",
              "</div>"
            ],
            "text/plain": [
              "     marque  ... Prix predit3\n",
              "0       BMW  ...        42647\n",
              "1      OPEL  ...         8308\n",
              "2   PEUGEOT  ...        15782\n",
              "3   RENAULT  ...        19082\n",
              "4   RENAULT  ...        12178\n",
              "..      ...  ...          ...\n",
              "76  PEUGEOT  ...        20746\n",
              "77  CITROEN  ...        16465\n",
              "78  CITROEN  ...        11067\n",
              "79  CITROEN  ...        21755\n",
              "80  PEUGEOT  ...        11716\n",
              "\n",
              "[81 rows x 7 columns]"
            ]
          },
          "execution_count": 5,
          "metadata": {
            "tags": []
          },
          "output_type": "execute_result"
        }
      ],
      "source": []
    },
    {
      "cell_type": "markdown",
      "metadata": {
        "id": "Noafy9jWnvRs"
      },
      "source": []
    },
    {
      "cell_type": "code",
      "execution_count": null,
      "metadata": {
        "id": "i9qmCLmxzt7Y"
      },
      "outputs": [],
      "source": [
        "colonnes = ['Prix predit1', 'Prix predit2', 'Prix predit3']"
      ]
    },
    {
      "cell_type": "markdown",
      "metadata": {
        "id": "4kYviNZd0VYU"
      },
      "source": [
        "## L'erreur moyenne absolue (ou mean absolute error, MAE)"
      ]
    },
    {
      "cell_type": "code",
      "execution_count": null,
      "metadata": {
        "colab": {
          "base_uri": "https://localhost:8080/",
          "height": 35
        },
        "id": "FZrDoDxtpdpo",
        "outputId": "d70aac9f-a2fe-4bc9-c8e3-4c91afc4fe6d"
      },
      "outputs": [
        {
          "name": "stdout",
          "output_type": "stream",
          "text": [
            "Importation effectuée\n"
          ]
        }
      ],
      "source": []
    },
    {
      "cell_type": "code",
      "execution_count": null,
      "metadata": {
        "colab": {
          "base_uri": "https://localhost:8080/",
          "height": 72
        },
        "id": "1LMsdgxJ1buH",
        "outputId": "ad6c3b11-b698-4d32-86a2-d683c451f987"
      },
      "outputs": [
        {
          "name": "stdout",
          "output_type": "stream",
          "text": [
            "1177.962962962963\n",
            "943.2716049382716\n",
            "1184.7777777777778\n"
          ]
        }
      ],
      "source": [
        "### calculer de maniere brute et via scikit"
      ]
    },
    {
      "cell_type": "code",
      "execution_count": null,
      "metadata": {
        "colab": {
          "base_uri": "https://localhost:8080/",
          "height": 72
        },
        "id": "5bwJk7sBwhRE",
        "outputId": "b0907d5a-83d7-482c-9bc4-6ac9b6d947d6"
      },
      "outputs": [
        {
          "name": "stdout",
          "output_type": "stream",
          "text": [
            "1177.962962962963\n",
            "943.2716049382716\n",
            "1184.7777777777778\n"
          ]
        }
      ],
      "source": []
    },
    {
      "cell_type": "code",
      "execution_count": null,
      "metadata": {
        "colab": {
          "base_uri": "https://localhost:8080/",
          "height": 72
        },
        "id": "tmSz50bAxWXn",
        "outputId": "c08b2c58-7354-47c0-8d96-175b17f5d2a3"
      },
      "outputs": [
        {
          "name": "stdout",
          "output_type": "stream",
          "text": [
            "1177.962962962963\n",
            "943.2716049382716\n",
            "1184.7777777777778\n"
          ]
        }
      ],
      "source": []
    },
    {
      "cell_type": "markdown",
      "metadata": {
        "id": "nmS79-rf0-Vf"
      },
      "source": [
        "## Le poucentage d'erreur moyenne absolue (ou mean absolute percentage error, MAPE)"
      ]
    },
    {
      "cell_type": "code",
      "execution_count": null,
      "metadata": {
        "colab": {
          "base_uri": "https://localhost:8080/",
          "height": 72
        },
        "id": "MkG9bnDjxpX_",
        "outputId": "377a15be-3f42-4d0d-a973-73eaf2f4a825"
      },
      "outputs": [
        {
          "name": "stdout",
          "output_type": "stream",
          "text": [
            "4.511140769094064\n",
            "4.0978044837222924\n",
            "6.346343933047671\n"
          ]
        }
      ],
      "source": []
    },
    {
      "cell_type": "markdown",
      "metadata": {
        "id": "NQDCYRBz11BK"
      },
      "source": [
        "## La somme des carrés des résidus (ou RSS)"
      ]
    },
    {
      "cell_type": "code",
      "execution_count": null,
      "metadata": {
        "colab": {
          "base_uri": "https://localhost:8080/",
          "height": 72
        },
        "id": "b4TATgEG2kX4",
        "outputId": "9155d324-f9fc-4d48-c389-dd50a43ec82d"
      },
      "outputs": [
        {
          "name": "stdout",
          "output_type": "stream",
          "text": [
            "338685035\n",
            "142827229\n",
            "147420667\n"
          ]
        }
      ],
      "source": []
    },
    {
      "cell_type": "markdown",
      "metadata": {
        "id": "tq0MUZ9-1SW_"
      },
      "source": [
        "## Le carré de l'erreur moyenne (ou mean squared error, MSE)"
      ]
    },
    {
      "cell_type": "code",
      "execution_count": null,
      "metadata": {
        "colab": {
          "base_uri": "https://localhost:8080/",
          "height": 35
        },
        "id": "yltW_0hTsrNP",
        "outputId": "45a1b82a-fc12-4003-e7bf-2a8fb6cbf912"
      },
      "outputs": [
        {
          "name": "stdout",
          "output_type": "stream",
          "text": [
            "Importation effectuée\n"
          ]
        }
      ],
      "source": []
    },
    {
      "cell_type": "code",
      "execution_count": null,
      "metadata": {
        "colab": {
          "base_uri": "https://localhost:8080/",
          "height": 72
        },
        "id": "gUsrT5yQ1kRg",
        "outputId": "0e45fa11-473e-42f6-95e9-633e3d390f5e"
      },
      "outputs": [
        {
          "name": "stdout",
          "output_type": "stream",
          "text": [
            "4181296.7283950616\n",
            "1763299.12345679\n",
            "1820008.2345679011\n"
          ]
        }
      ],
      "source": [
        "### calculer de maniere brute et via scikit"
      ]
    },
    {
      "cell_type": "code",
      "execution_count": null,
      "metadata": {
        "colab": {
          "base_uri": "https://localhost:8080/",
          "height": 72
        },
        "id": "Rl2i0slN4Eu8",
        "outputId": "72d3883a-5d70-402d-e7c7-092767b170fd"
      },
      "outputs": [
        {
          "name": "stdout",
          "output_type": "stream",
          "text": [
            "4181296.7283950616\n",
            "1763299.12345679\n",
            "1820008.2345679011\n"
          ]
        }
      ],
      "source": []
    },
    {
      "cell_type": "markdown",
      "metadata": {
        "id": "nPDMba9E4osk"
      },
      "source": [
        "## La racine carré de l'erreur moyenne (ou root mean squared error, RMSE)"
      ]
    },
    {
      "cell_type": "code",
      "execution_count": null,
      "metadata": {
        "colab": {
          "base_uri": "https://localhost:8080/",
          "height": 72
        },
        "id": "vnFSswbz4nNB",
        "outputId": "17ac14f7-8aba-4599-dfc8-139336383416"
      },
      "outputs": [
        {
          "name": "stdout",
          "output_type": "stream",
          "text": [
            "2044.8219307301704\n",
            "1327.8927379335992\n",
            "1349.076808253667\n"
          ]
        }
      ],
      "source": []
    },
    {
      "cell_type": "markdown",
      "metadata": {
        "id": "N04_eVeS5ULk"
      },
      "source": [
        "## La racine carré logarithmique de l'erreur moyenne (ou root mean squared log error, RMSLE)"
      ]
    },
    {
      "cell_type": "code",
      "execution_count": null,
      "metadata": {
        "colab": {
          "base_uri": "https://localhost:8080/",
          "height": 72
        },
        "id": "6nffBBB65k1L",
        "outputId": "8fc11427-f243-4bed-d1a3-64693681f6b3"
      },
      "outputs": [
        {
          "name": "stdout",
          "output_type": "stream",
          "text": [
            "0.05488734474859316\n",
            "0.04853033470293221\n",
            "0.08119714434694017\n"
          ]
        }
      ],
      "source": []
    },
    {
      "cell_type": "markdown",
      "metadata": {
        "id": "ZAbKzQceArzZ"
      },
      "source": [
        "## Le logarithme du carré de l'erreur moyenne (ou mean squared log error, MSLE)"
      ]
    },
    {
      "cell_type": "code",
      "execution_count": null,
      "metadata": {
        "colab": {
          "base_uri": "https://localhost:8080/",
          "height": 35
        },
        "id": "wKmTFf5Yt_bW",
        "outputId": "21ae342e-04f9-4591-d9aa-eb8f83a36eaf"
      },
      "outputs": [
        {
          "name": "stdout",
          "output_type": "stream",
          "text": [
            "Importation effectuée\n"
          ]
        }
      ],
      "source": [
        "from sklearn.metrics import mean_squared_log_error\n",
        "\n",
        "print(\"Importation effectuée\")"
      ]
    },
    {
      "cell_type": "code",
      "execution_count": null,
      "metadata": {
        "colab": {
          "base_uri": "https://localhost:8080/",
          "height": 72
        },
        "id": "n2JjV2HIA6ba",
        "outputId": "14d119c9-b1b0-4abc-e669-4e234568230f"
      },
      "outputs": [
        {
          "name": "stdout",
          "output_type": "stream",
          "text": [
            "0.0030126206135509172\n",
            "0.0023551933863786255\n",
            "0.006592976250097835\n"
          ]
        }
      ],
      "source": []
    },
    {
      "cell_type": "markdown",
      "metadata": {
        "id": "Jsd8aQYQBFkI"
      },
      "source": [
        "## L'erreur carré relative (ou relative squared error, RSE)"
      ]
    },
    {
      "cell_type": "code",
      "execution_count": null,
      "metadata": {
        "id": "ZYQTOIacBet3"
      },
      "outputs": [],
      "source": []
    },
    {
      "cell_type": "code",
      "execution_count": null,
      "metadata": {
        "colab": {
          "base_uri": "https://localhost:8080/",
          "height": 72
        },
        "id": "2fKsg0vsCUhA",
        "outputId": "1bbdb13a-ac8a-42ce-8f5e-c368ee796d26"
      },
      "outputs": [
        {
          "name": "stdout",
          "output_type": "stream",
          "text": [
            "0.00856304087802424\n",
            "0.0036111291436952005\n",
            "0.003727265947214346\n"
          ]
        }
      ],
      "source": []
    },
    {
      "cell_type": "markdown",
      "metadata": {
        "id": "1K0-CoHGCftQ"
      },
      "source": [
        "## Le carré de la corrélation de Pearson (ou R²)"
      ]
    },
    {
      "cell_type": "code",
      "execution_count": null,
      "metadata": {
        "colab": {
          "base_uri": "https://localhost:8080/",
          "height": 35
        },
        "id": "pkQtlu8ACd0t",
        "outputId": "a998fabb-7c0e-4316-dea9-8a5d693388b1"
      },
      "outputs": [
        {
          "name": "stdout",
          "output_type": "stream",
          "text": [
            "Importation effectuée\n"
          ]
        }
      ],
      "source": []
    },
    {
      "cell_type": "code",
      "execution_count": null,
      "metadata": {
        "colab": {
          "base_uri": "https://localhost:8080/",
          "height": 72
        },
        "id": "eJRZihimCql6",
        "outputId": "c17b8b50-fa9d-405c-b3bf-a115f16b9a35"
      },
      "outputs": [
        {
          "name": "stdout",
          "output_type": "stream",
          "text": [
            "0.9914369591219757\n",
            "0.9963888708563048\n",
            "0.9962727340527856\n"
          ]
        }
      ],
      "source": []
    },
    {
      "cell_type": "code",
      "execution_count": null,
      "metadata": {
        "colab": {
          "base_uri": "https://localhost:8080/",
          "height": 72
        },
        "id": "TMhzvxchFW4s",
        "outputId": "661f8c05-7b66-4a4a-c86c-1bb1a9be29f0"
      },
      "outputs": [
        {
          "name": "stdout",
          "output_type": "stream",
          "text": [
            "0.9914369591219757\n",
            "0.9963888708563048\n",
            "0.9962727340527856\n"
          ]
        }
      ],
      "source": []
    },
    {
      "cell_type": "code",
      "execution_count": null,
      "metadata": {
        "id": "x-ewDc8QCuaC"
      },
      "outputs": [],
      "source": []
    },
    {
      "cell_type": "code",
      "execution_count": null,
      "metadata": {
        "colab": {
          "base_uri": "https://localhost:8080/",
          "height": 72
        },
        "id": "SJHMC0NtDhuA",
        "outputId": "5f124f40-f098-4a3a-d2f8-7d5106181d9e"
      },
      "outputs": [
        {
          "name": "stdout",
          "output_type": "stream",
          "text": [
            "0.9969883201802772\n",
            "0.998758856931936\n",
            "0.99823455183159\n"
          ]
        }
      ],
      "source": []
    },
    {
      "cell_type": "code",
      "execution_count": null,
      "metadata": {
        "id": "1iPWNtjMD6Bh"
      },
      "outputs": [],
      "source": []
    },
    {
      "cell_type": "code",
      "execution_count": null,
      "metadata": {
        "colab": {
          "base_uri": "https://localhost:8080/",
          "height": 678
        },
        "id": "hweeIYa-FB-9",
        "outputId": "bac68ce4-9d3d-45c0-fb38-d6a973c409fe"
      },
      "outputs": [
        {
          "name": "stdout",
          "output_type": "stream",
          "text": [
            "0    -0.000004\n",
            "1     0.000005\n",
            "2     0.000003\n",
            "3     0.000001\n",
            "4     0.000004\n",
            "        ...   \n",
            "76    0.000001\n",
            "77    0.000003\n",
            "78    0.000005\n",
            "79    0.000002\n",
            "80    0.000004\n",
            "Name: Prix predit1, Length: 81, dtype: float64\n",
            "0    -0.000005\n",
            "1     0.000006\n",
            "2     0.000003\n",
            "3     0.000002\n",
            "4     0.000004\n",
            "        ...   \n",
            "76    0.000002\n",
            "77    0.000003\n",
            "78    0.000005\n",
            "79    0.000002\n",
            "80    0.000005\n",
            "Name: Prix predit2, Length: 81, dtype: float64\n",
            "0    -0.000006\n",
            "1     0.000006\n",
            "2     0.000003\n",
            "3     0.000002\n",
            "4     0.000005\n",
            "        ...   \n",
            "76    0.000002\n",
            "77    0.000003\n",
            "78    0.000005\n",
            "79    0.000001\n",
            "80    0.000005\n",
            "Name: Prix predit3, Length: 81, dtype: float64\n"
          ]
        }
      ],
      "source": []
    }
  ],
  "metadata": {
    "colab": {
      "collapsed_sections": [],
      "name": "Copie de Les indices de performances (mesures de l_erreur).ipnyb",
      "provenance": []
    },
    "kernelspec": {
      "display_name": "Python 3",
      "name": "python3"
    }
  },
  "nbformat": 4,
  "nbformat_minor": 0
}
