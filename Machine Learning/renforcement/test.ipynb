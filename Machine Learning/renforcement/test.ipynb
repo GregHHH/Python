{
 "cells": [
  {
   "cell_type": "code",
   "execution_count": 1,
   "metadata": {},
   "outputs": [],
   "source": [
    "import pandas as pd\n",
    "import numpy as np"
   ]
  },
  {
   "cell_type": "code",
   "execution_count": 2,
   "metadata": {},
   "outputs": [],
   "source": [
    "# mapping = { 'A': 0,\n",
    "#             'B': 1,\n",
    "#             'C': 2,\n",
    "#             'D': 3,\n",
    "#             'E': 4,\n",
    "#             'F': 5,\n",
    "#             'G': 6,\n",
    "#             'H': 7,\n",
    "#             'I': 8,\n",
    "#             'J': 9,\n",
    "#             'K': 10,\n",
    "#             'L': 11,\n",
    "#             'M': 12,\n",
    "#             'N': 13,\n",
    "#             'O': 14,\n",
    "#             'P': 15,\n",
    "#             'Q': 16,\n",
    "#             'R': 17,\n",
    "#             'S': 18,\n",
    "#             'T': 19,}\n",
    "\n",
    "mapping_lake = {'S': 0,\n",
    "                'H': 0,\n",
    "                'F': -1,\n",
    "                'G': 1000,}"
   ]
  },
  {
   "cell_type": "code",
   "execution_count": 3,
   "metadata": {},
   "outputs": [],
   "source": [
    "actions = [0, 1, 2, 3, 4, 5, 6, 7, 8, 9, 10, 11, 12, 13, 14, 15, 16, 17, 18, 19, 20]\n",
    "action_lake = ['N', 'S', 'E', 'W']"
   ]
  },
  {
   "cell_type": "code",
   "execution_count": 8,
   "metadata": {},
   "outputs": [],
   "source": [
    "# R = np.array([[1000, 0, 0, 0, 0, 1, 0, 0, 0, 0, 0, 0, 0, 0, 0, 0, 0, 0, 0, 0, ],\n",
    "#               [0, 0, 1, 0, 0, 0, 1, 0, 0, 0, 0, 0, 0, 0, 0, 0, 0, 0, 0, 0, ],\n",
    "#               [0, 1, 0, 1, 0, 0, 0, 0, 0, 0, 0, 0, 0, 0, 0, 0, 0, 0, 0, 0, ],\n",
    "#               [0, 0, 1, 0, 0, 0, 0, 0, 1, 0, 0, 0, 0, 0, 0, 0, 0, 0, 0, 0, ],\n",
    "#               [0, 0, 0, 0, 0, 0, 0, 0, 0, 1, 0, 0, 0, 0, 0, 0, 0, 0, 0, 0, ],\n",
    "#               [1, 0, 0, 0, 0, 0, 0, 0, 0, 0, 1, 0, 0, 0, 0, 0, 0, 0, 0, 0, ],\n",
    "#               [0, 1, 0, 0, 0, 0, 0, 0, 0, 0, 0, 1, 0, 0, 0, 0, 0, 0, 0, 0, ],\n",
    "#               [0, 0, 0, 0, 0, 0, 0, 0, 0, 0, 0, 0, 1, 0, 0, 0, 0, 0, 0, 0, ],\n",
    "#               [0, 0, 0, 1, 0, 0, 0, 0, 0, 0, 0, 0, 0, 1, 0, 0, 0, 0, 0, 0, ],\n",
    "#               [0, 0, 0, 0, 1, 0, 0, 0, 0, 0, 0, 0, 0, 0, 1, 0, 0, 0, 0, 0, ],\n",
    "#               [0, 0, 0, 0, 0, 1, 0, 0, 0, 0, 0, 1, 0, 0, 0, 0, 0, 0, 0, 0, ],\n",
    "#               [0, 0, 0, 0, 0, 0, 1, 0, 0, 0, 1, 0, 0, 0, 0, 0, 0, 0, 0, 0, ],\n",
    "#               [0, 0, 0, 0, 0, 0, 0, 1, 0, 0, 0, 0, 0, 0, 0, 0, 0, 0, 0, 0, ],\n",
    "#               [0, 0, 0, 0, 0, 0, 0, 0, 1, 0, 0, 0, 0, 0, 0, 0, 0, 0, 1, 0, ],\n",
    "#               [0, 0, 0, 0, 0, 0, 0, 0, 0, 1, 0, 0, 0, 0, 0, 0, 0, 0, 0, 1, ],\n",
    "#               [0, 0, 0, 0, 0, 0, 0, 0, 0, 0, 0, 0, 0, 0, 0, 0, 1, 0, 0, 0, ],\n",
    "#               [0, 0, 0, 0, 0, 0, 0, 0, 0, 0, 0, 0, 0, 0, 0, 1, 0, 1, 0, 0, ],\n",
    "#               [0, 0, 0, 0, 0, 0, 0, 0, 0, 0, 0, 0, 0, 0, 0, 0, 1, 0, 1, 0, ],\n",
    "#               [0, 0, 0, 0, 0, 0, 0, 0, 0, 0, 0, 0, 0, 1, 0, 0, 0, 1, 0, 1, ],\n",
    "#               [0, 0, 0, 0, 0, 0, 0, 0, 0, 0, 0, 0, 0, 0, 1, 0, 0, 0, 1, 0, ]])\n",
    "\n",
    "\n",
    "R_lake = np.array([\t['S','F','F','F'],\n",
    "\t\t\t\t\t['F','H','F','H'],\n",
    "\t\t\t\t\t['F','F','F','H'],\n",
    "\t\t\t\t\t['H','F','F','G']])"
   ]
  },
  {
   "cell_type": "code",
   "execution_count": 9,
   "metadata": {},
   "outputs": [
    {
     "data": {
      "text/html": [
       "<style type=\"text/css\">\n",
       "</style>\n",
       "<table id=\"T_9c218\">\n",
       "  <caption>les récompenses.</caption>\n",
       "  <thead>\n",
       "    <tr>\n",
       "      <th class=\"blank level0\" >&nbsp;</th>\n",
       "      <th id=\"T_9c218_level0_col0\" class=\"col_heading level0 col0\" >A</th>\n",
       "      <th id=\"T_9c218_level0_col1\" class=\"col_heading level0 col1\" >B</th>\n",
       "      <th id=\"T_9c218_level0_col2\" class=\"col_heading level0 col2\" >C</th>\n",
       "      <th id=\"T_9c218_level0_col3\" class=\"col_heading level0 col3\" >D</th>\n",
       "    </tr>\n",
       "  </thead>\n",
       "  <tbody>\n",
       "    <tr>\n",
       "      <th id=\"T_9c218_level0_row0\" class=\"row_heading level0 row0\" >A</th>\n",
       "      <td id=\"T_9c218_row0_col0\" class=\"data row0 col0\" >S</td>\n",
       "      <td id=\"T_9c218_row0_col1\" class=\"data row0 col1\" >F</td>\n",
       "      <td id=\"T_9c218_row0_col2\" class=\"data row0 col2\" >F</td>\n",
       "      <td id=\"T_9c218_row0_col3\" class=\"data row0 col3\" >F</td>\n",
       "    </tr>\n",
       "    <tr>\n",
       "      <th id=\"T_9c218_level0_row1\" class=\"row_heading level0 row1\" >B</th>\n",
       "      <td id=\"T_9c218_row1_col0\" class=\"data row1 col0\" >F</td>\n",
       "      <td id=\"T_9c218_row1_col1\" class=\"data row1 col1\" >H</td>\n",
       "      <td id=\"T_9c218_row1_col2\" class=\"data row1 col2\" >F</td>\n",
       "      <td id=\"T_9c218_row1_col3\" class=\"data row1 col3\" >H</td>\n",
       "    </tr>\n",
       "    <tr>\n",
       "      <th id=\"T_9c218_level0_row2\" class=\"row_heading level0 row2\" >C</th>\n",
       "      <td id=\"T_9c218_row2_col0\" class=\"data row2 col0\" >F</td>\n",
       "      <td id=\"T_9c218_row2_col1\" class=\"data row2 col1\" >F</td>\n",
       "      <td id=\"T_9c218_row2_col2\" class=\"data row2 col2\" >F</td>\n",
       "      <td id=\"T_9c218_row2_col3\" class=\"data row2 col3\" >H</td>\n",
       "    </tr>\n",
       "    <tr>\n",
       "      <th id=\"T_9c218_level0_row3\" class=\"row_heading level0 row3\" >D</th>\n",
       "      <td id=\"T_9c218_row3_col0\" class=\"data row3 col0\" >H</td>\n",
       "      <td id=\"T_9c218_row3_col1\" class=\"data row3 col1\" >F</td>\n",
       "      <td id=\"T_9c218_row3_col2\" class=\"data row3 col2\" >F</td>\n",
       "      <td id=\"T_9c218_row3_col3\" class=\"data row3 col3\" >G</td>\n",
       "    </tr>\n",
       "  </tbody>\n",
       "</table>\n"
      ],
      "text/plain": [
       "<pandas.io.formats.style.Styler at 0x11dbf3160>"
      ]
     },
     "execution_count": 9,
     "metadata": {},
     "output_type": "execute_result"
    }
   ],
   "source": [
    "# affich_R = pd.DataFrame(data=R ,columns = [\"A\",\"B\",\"C\",\"D\",\"E\",\"F\",\"G\",\"H\",\"I\",\"J\",\"K\",\"L\",\"M\",\"N\",\"O\",\"P\",\"Q\",\"R\",\"S\",\"T\"],index = [\"A\",\"B\",\"C\",\"D\",\"E\",\"F\",\"G\",\"H\",\"I\",\"J\",\"K\",\"L\",\"M\",\"N\",\"O\",\"P\",\"Q\",\"R\",\"S\",\"T\"])\n",
    "# affich_R = affich_R.style.set_caption('les recompenses.').background_gradient()\n",
    "# affich_R\n",
    "\n",
    "affich_R = pd.DataFrame(data=R_lake ,columns = [\"A\",\"B\",\"C\",\"D\"],index = [\"A\",\"B\",\"C\",\"D\"])\n",
    "affich_R = affich_R.style.set_caption('les récompenses.').background_gradient()\n",
    "affich_R"
   ]
  },
  {
   "cell_type": "code",
   "execution_count": 6,
   "metadata": {},
   "outputs": [
    {
     "ename": "SyntaxError",
     "evalue": "invalid character '—' (U+2014) (3188573145.py, line 2)",
     "output_type": "error",
     "traceback": [
      "\u001b[0;36m  Input \u001b[0;32mIn [6]\u001b[0;36m\u001b[0m\n\u001b[0;31m    Q[state, action] = Q[state, action] + lr * (reward + gamma * np.max(R[new_state, :]) — Q[state, action])\u001b[0m\n\u001b[0m                                                                                         ^\u001b[0m\n\u001b[0;31mSyntaxError\u001b[0m\u001b[0;31m:\u001b[0m invalid character '—' (U+2014)\n"
     ]
    }
   ],
   "source": [
    "# Update q values\n",
    "Q[state, action] = Q[state, action] + lr * (reward + gamma * np.max(R[new_state, :]) — Q[state, action])"
   ]
  },
  {
   "cell_type": "code",
   "execution_count": null,
   "metadata": {},
   "outputs": [],
   "source": [
    "# Gamma ou γ est un facteur d’actualisation / (amortissement ?). Il est utilisé pour équilibrer la récompense immédiate et future. Dans notre règle de mise à jour ci-dessus, vous pouvez voir que nous appliquons la décote à la récompense future.\n",
    "gamma = 0.70\n",
    "# Lr, souvent appelé alpha, peut être défini comme le degré d’acceptation de la nouvelle valeur par rapport à l’ancienne. Ci-dessus, nous prenons la différence entre la nouvelle et l’ancienne valeur, puis nous multiplions cette valeur par le taux d’apprentissage. Cette valeur est ensuite ajoutée à notre valeur q précédente, ce qui la fait évoluer dans la direction de notre dernière mise à jour.\n",
    "lr = 0.85 \n",
    "# reward est la valeur reçue après avoir effectué une certaine action à un état donné. Une récompense peut survenir à n’importe quel pas de temps donné ou seulement au pas de temps terminal.\n",
    "reward = "
   ]
  },
  {
   "cell_type": "code",
   "execution_count": null,
   "metadata": {},
   "outputs": [],
   "source": []
  }
 ],
 "metadata": {
  "interpreter": {
   "hash": "aee8b7b246df8f9039afb4144a1f6fd8d2ca17a180786b69acc140d282b71a49"
  },
  "kernelspec": {
   "display_name": "Python 3.10.0 64-bit",
   "language": "python",
   "name": "python3"
  },
  "language_info": {
   "codemirror_mode": {
    "name": "ipython",
    "version": 3
   },
   "file_extension": ".py",
   "mimetype": "text/x-python",
   "name": "python",
   "nbconvert_exporter": "python",
   "pygments_lexer": "ipython3",
   "version": "3.10.0"
  },
  "orig_nbformat": 4
 },
 "nbformat": 4,
 "nbformat_minor": 2
}
