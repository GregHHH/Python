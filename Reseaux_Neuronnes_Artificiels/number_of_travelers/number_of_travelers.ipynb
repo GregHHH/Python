{
 "cells": [
  {
   "cell_type": "code",
   "execution_count": 28,
   "metadata": {},
   "outputs": [],
   "source": [
    "import pandas as pd\n",
    "import matplotlib.pyplot as plt\n",
    "import numpy as np\n",
    "import seaborn as sns"
   ]
  },
  {
   "cell_type": "code",
   "execution_count": 29,
   "metadata": {},
   "outputs": [
    {
     "data": {
      "text/html": [
       "<div>\n",
       "<style scoped>\n",
       "    .dataframe tbody tr th:only-of-type {\n",
       "        vertical-align: middle;\n",
       "    }\n",
       "\n",
       "    .dataframe tbody tr th {\n",
       "        vertical-align: top;\n",
       "    }\n",
       "\n",
       "    .dataframe thead th {\n",
       "        text-align: right;\n",
       "    }\n",
       "</style>\n",
       "<table border=\"1\" class=\"dataframe\">\n",
       "  <thead>\n",
       "    <tr style=\"text-align: right;\">\n",
       "      <th></th>\n",
       "      <th>month</th>\n",
       "      <th>passengers</th>\n",
       "    </tr>\n",
       "  </thead>\n",
       "  <tbody>\n",
       "    <tr>\n",
       "      <th>0</th>\n",
       "      <td>2000-01-01</td>\n",
       "      <td>46492</td>\n",
       "    </tr>\n",
       "    <tr>\n",
       "      <th>1</th>\n",
       "      <td>2000-02-01</td>\n",
       "      <td>48526</td>\n",
       "    </tr>\n",
       "    <tr>\n",
       "      <th>2</th>\n",
       "      <td>2000-03-01</td>\n",
       "      <td>58764</td>\n",
       "    </tr>\n",
       "    <tr>\n",
       "      <th>3</th>\n",
       "      <td>2000-04-01</td>\n",
       "      <td>56033</td>\n",
       "    </tr>\n",
       "    <tr>\n",
       "      <th>4</th>\n",
       "      <td>2000-05-01</td>\n",
       "      <td>58201</td>\n",
       "    </tr>\n",
       "    <tr>\n",
       "      <th>...</th>\n",
       "      <td>...</td>\n",
       "      <td>...</td>\n",
       "    </tr>\n",
       "    <tr>\n",
       "      <th>235</th>\n",
       "      <td>2019-08-01</td>\n",
       "      <td>83784</td>\n",
       "    </tr>\n",
       "    <tr>\n",
       "      <th>236</th>\n",
       "      <td>2019-09-01</td>\n",
       "      <td>72590</td>\n",
       "    </tr>\n",
       "    <tr>\n",
       "      <th>237</th>\n",
       "      <td>2019-10-01</td>\n",
       "      <td>78617</td>\n",
       "    </tr>\n",
       "    <tr>\n",
       "      <th>238</th>\n",
       "      <td>2019-11-01</td>\n",
       "      <td>73074</td>\n",
       "    </tr>\n",
       "    <tr>\n",
       "      <th>239</th>\n",
       "      <td>2019-12-01</td>\n",
       "      <td>79302</td>\n",
       "    </tr>\n",
       "  </tbody>\n",
       "</table>\n",
       "<p>240 rows × 2 columns</p>\n",
       "</div>"
      ],
      "text/plain": [
       "          month  passengers\n",
       "0    2000-01-01       46492\n",
       "1    2000-02-01       48526\n",
       "2    2000-03-01       58764\n",
       "3    2000-04-01       56033\n",
       "4    2000-05-01       58201\n",
       "..          ...         ...\n",
       "235  2019-08-01       83784\n",
       "236  2019-09-01       72590\n",
       "237  2019-10-01       78617\n",
       "238  2019-11-01       73074\n",
       "239  2019-12-01       79302\n",
       "\n",
       "[240 rows x 2 columns]"
      ]
     },
     "execution_count": 29,
     "metadata": {},
     "output_type": "execute_result"
    }
   ],
   "source": [
    "df = pd.read_csv('number of travelers.csv');df"
   ]
  },
  {
   "cell_type": "code",
   "execution_count": 30,
   "metadata": {},
   "outputs": [
    {
     "data": {
      "text/html": [
       "<div>\n",
       "<style scoped>\n",
       "    .dataframe tbody tr th:only-of-type {\n",
       "        vertical-align: middle;\n",
       "    }\n",
       "\n",
       "    .dataframe tbody tr th {\n",
       "        vertical-align: top;\n",
       "    }\n",
       "\n",
       "    .dataframe thead th {\n",
       "        text-align: right;\n",
       "    }\n",
       "</style>\n",
       "<table border=\"1\" class=\"dataframe\">\n",
       "  <thead>\n",
       "    <tr style=\"text-align: right;\">\n",
       "      <th></th>\n",
       "      <th>passengers</th>\n",
       "    </tr>\n",
       "  </thead>\n",
       "  <tbody>\n",
       "    <tr>\n",
       "      <th>count</th>\n",
       "      <td>240.000000</td>\n",
       "    </tr>\n",
       "    <tr>\n",
       "      <th>mean</th>\n",
       "      <td>62263.220833</td>\n",
       "    </tr>\n",
       "    <tr>\n",
       "      <th>std</th>\n",
       "      <td>8664.881540</td>\n",
       "    </tr>\n",
       "    <tr>\n",
       "      <th>min</th>\n",
       "      <td>34608.000000</td>\n",
       "    </tr>\n",
       "    <tr>\n",
       "      <th>25%</th>\n",
       "      <td>56913.750000</td>\n",
       "    </tr>\n",
       "    <tr>\n",
       "      <th>50%</th>\n",
       "      <td>61680.000000</td>\n",
       "    </tr>\n",
       "    <tr>\n",
       "      <th>75%</th>\n",
       "      <td>67725.250000</td>\n",
       "    </tr>\n",
       "    <tr>\n",
       "      <th>max</th>\n",
       "      <td>86957.000000</td>\n",
       "    </tr>\n",
       "  </tbody>\n",
       "</table>\n",
       "</div>"
      ],
      "text/plain": [
       "         passengers\n",
       "count    240.000000\n",
       "mean   62263.220833\n",
       "std     8664.881540\n",
       "min    34608.000000\n",
       "25%    56913.750000\n",
       "50%    61680.000000\n",
       "75%    67725.250000\n",
       "max    86957.000000"
      ]
     },
     "execution_count": 30,
     "metadata": {},
     "output_type": "execute_result"
    }
   ],
   "source": [
    "df.describe()"
   ]
  },
  {
   "cell_type": "code",
   "execution_count": 31,
   "metadata": {},
   "outputs": [
    {
     "data": {
      "text/plain": [
       "month\n",
       "2000-01-01    46492\n",
       "2000-02-01    48526\n",
       "2000-03-01    58764\n",
       "2000-04-01    56033\n",
       "2000-05-01    58201\n",
       "              ...  \n",
       "2019-08-01    83784\n",
       "2019-09-01    72590\n",
       "2019-10-01    78617\n",
       "2019-11-01    73074\n",
       "2019-12-01    79302\n",
       "Name: passengers, Length: 240, dtype: int64"
      ]
     },
     "execution_count": 31,
     "metadata": {},
     "output_type": "execute_result"
    }
   ],
   "source": [
    "# write a program that prints the number of passengers per month\n",
    "df['passengers'].groupby(df['month']).sum()"
   ]
  },
  {
   "cell_type": "code",
   "execution_count": 32,
   "metadata": {},
   "outputs": [
    {
     "data": {
      "text/plain": [
       "<AxesSubplot:ylabel='passengers'>"
      ]
     },
     "execution_count": 32,
     "metadata": {},
     "output_type": "execute_result"
    },
    {
     "data": {
      "image/png": "[encoded data removed]",
      "text/plain": [
       "<Figure size 1080x432 with 1 Axes>"
      ]
     },
     "metadata": {},
     "output_type": "display_data"
    }
   ],
   "source": [
    "plt.figure(figsize=(15,6))\n",
    "f = [i for i in range(0,240)]\n",
    "sns.scatterplot(x=f , y='passengers' , data =df)"
   ]
  },
  {
   "cell_type": "code",
   "execution_count": 33,
   "metadata": {},
   "outputs": [],
   "source": [
    "# normalize the data\n",
    "# pas besoin de normaliser si pas de fonction d'activation (normalement)\n",
    "#df['passengers'] = df['passengers']/df['passengers'].sum()"
   ]
  },
  {
   "cell_type": "code",
   "execution_count": 34,
   "metadata": {},
   "outputs": [],
   "source": [
    "index_split = len(df)*0.8\n",
    "df_train = df.loc[:index_split]\n",
    "df_test = df.loc[index_split:]"
   ]
  },
  {
   "cell_type": "code",
   "execution_count": 37,
   "metadata": {},
   "outputs": [],
   "source": [
    "t_train = [index for index in range(len(df_train))]\n",
    "t_test = [index for index in range(len(df_test))]\n",
    "\n",
    "y_train = df_train['passengers'].values\n",
    "y_test = df_test['passengers'].values"
   ]
  },
  {
   "cell_type": "markdown",
   "metadata": {},
   "source": [
    "a linear regression using gradient descent"
   ]
  },
  {
   "cell_type": "code",
   "execution_count": 35,
   "metadata": {},
   "outputs": [
    {
     "data": {
      "text/plain": [
       "month\n",
       "2000-01-01    46492.0\n",
       "2000-02-01    48526.0\n",
       "2000-03-01    58764.0\n",
       "2000-04-01    56033.0\n",
       "2000-05-01    58201.0\n",
       "               ...   \n",
       "2015-09-01    63741.0\n",
       "2015-10-01    68733.0\n",
       "2015-11-01    64589.0\n",
       "2015-12-01    66402.0\n",
       "2016-01-01    60808.0\n",
       "Name: passengers, Length: 193, dtype: float64"
      ]
     },
     "execution_count": 35,
     "metadata": {},
     "output_type": "execute_result"
    }
   ],
   "source": [
    "def predict(t):\n",
    "\treturn coeff[0]*t + coeff[1] "
   ]
  },
  {
   "cell_type": "code",
   "execution_count": 38,
   "metadata": {},
   "outputs": [],
   "source": [
    "def loss(predictions, y):\n",
    "\tdataset_lenght = len(predictions)\n",
    "\treturn (1/2* dataset_lenght) * sum([(predictions[index_value] - y_train[index_value])**2 for index_value in range(dataset_lenght)])\n",
    "\t"
   ]
  },
  {
   "cell_type": "code",
   "execution_count": 55,
   "metadata": {},
   "outputs": [],
   "source": [
    "def gradient_descent(x_train, y, epochs=10000, learning_rate=0.0001):\n",
    "\tdataset_lenght = len(x_train)\n",
    "\n",
    "\tfor index_epoch in range(epochs):\n",
    "\t\tpredictions = list(map(predic, t_train))\n",
    "\t\tdloss_da = (1/dataset_lenght) * np.sum([(predictions[t] - y[t])*t for t in range(dataset_lenght)])\n",
    "\t\tdloss_db = (1/dataset_lenght) * np.sum([(predictions[t] - y[t]) for t in range(dataset_lenght)])\n",
    "\n",
    "\t\tcoeff[0] = coeff[0] - learning_rate * dloss_da # a\n",
    "\t\tcoeff[1] = coeff[1] - learning_rate * dloss_db # b\n",
    "\n",
    "\t\tif index_epoch % 100 == 0:\n",
    "\t\t\tprint(f'loss = (loss(predictions, y_train)')\n",
    "\t\treturn a, b "
   ]
  },
  {
   "cell_type": "code",
   "execution_count": 56,
   "metadata": {},
   "outputs": [
    {
     "ename": "TypeError",
     "evalue": "'list' object cannot be interpreted as an integer",
     "output_type": "error",
     "traceback": [
      "\u001b[0;31m---------------------------------------------------------------------------\u001b[0m",
      "\u001b[0;31mTypeError\u001b[0m                                 Traceback (most recent call last)",
      "\u001b[1;32m/Users/greg/Documents/Code/HETIC/MD4/Python/Reseaux_Neuronnes_Artificiels/number_of_travelers/number_of_travelers.ipynb Cell 13'\u001b[0m in \u001b[0;36m<module>\u001b[0;34m\u001b[0m\n\u001b[1;32m      <a href='vscode-notebook-cell:/Users/greg/Documents/Code/HETIC/MD4/Python/Reseaux_Neuronnes_Artificiels/number_of_travelers/number_of_travelers.ipynb#ch0000016?line=0'>1</a>\u001b[0m coeff \u001b[39m=\u001b[39m [\u001b[39m1\u001b[39m,\u001b[39m1\u001b[39m]\n\u001b[0;32m----> <a href='vscode-notebook-cell:/Users/greg/Documents/Code/HETIC/MD4/Python/Reseaux_Neuronnes_Artificiels/number_of_travelers/number_of_travelers.ipynb#ch0000016?line=1'>2</a>\u001b[0m gradient_descent(t_train, y_train, coeff)\n\u001b[1;32m      <a href='vscode-notebook-cell:/Users/greg/Documents/Code/HETIC/MD4/Python/Reseaux_Neuronnes_Artificiels/number_of_travelers/number_of_travelers.ipynb#ch0000016?line=2'>3</a>\u001b[0m \u001b[39mprint\u001b[39m(\u001b[39m\"\u001b[39m\u001b[39my = (:.3f) t + (:.3f)\u001b[39m\u001b[39m\"\u001b[39m\u001b[39m.\u001b[39mformat(coeff[\u001b[39m0\u001b[39m], coeff[\u001b[39m1\u001b[39m]))\n",
      "\u001b[1;32m/Users/greg/Documents/Code/HETIC/MD4/Python/Reseaux_Neuronnes_Artificiels/number_of_travelers/number_of_travelers.ipynb Cell 12'\u001b[0m in \u001b[0;36mgradient_descent\u001b[0;34m(x_train, y, epochs, learning_rate)\u001b[0m\n\u001b[1;32m      <a href='vscode-notebook-cell:/Users/greg/Documents/Code/HETIC/MD4/Python/Reseaux_Neuronnes_Artificiels/number_of_travelers/number_of_travelers.ipynb#ch0000015?line=0'>1</a>\u001b[0m \u001b[39mdef\u001b[39;00m \u001b[39mgradient_descent\u001b[39m(x_train, y, epochs\u001b[39m=\u001b[39m\u001b[39m10000\u001b[39m, learning_rate\u001b[39m=\u001b[39m\u001b[39m0.0001\u001b[39m):\n\u001b[1;32m      <a href='vscode-notebook-cell:/Users/greg/Documents/Code/HETIC/MD4/Python/Reseaux_Neuronnes_Artificiels/number_of_travelers/number_of_travelers.ipynb#ch0000015?line=1'>2</a>\u001b[0m \tdataset_lenght \u001b[39m=\u001b[39m \u001b[39mlen\u001b[39m(x_train)\n\u001b[0;32m----> <a href='vscode-notebook-cell:/Users/greg/Documents/Code/HETIC/MD4/Python/Reseaux_Neuronnes_Artificiels/number_of_travelers/number_of_travelers.ipynb#ch0000015?line=3'>4</a>\u001b[0m \t\u001b[39mfor\u001b[39;00m index_epoch \u001b[39min\u001b[39;00m \u001b[39mrange\u001b[39;49m(epochs):\n\u001b[1;32m      <a href='vscode-notebook-cell:/Users/greg/Documents/Code/HETIC/MD4/Python/Reseaux_Neuronnes_Artificiels/number_of_travelers/number_of_travelers.ipynb#ch0000015?line=4'>5</a>\u001b[0m \t\tpredictions \u001b[39m=\u001b[39m \u001b[39mlist\u001b[39m(\u001b[39mmap\u001b[39m(predic, t_train))\n\u001b[1;32m      <a href='vscode-notebook-cell:/Users/greg/Documents/Code/HETIC/MD4/Python/Reseaux_Neuronnes_Artificiels/number_of_travelers/number_of_travelers.ipynb#ch0000015?line=5'>6</a>\u001b[0m \t\tdloss_da \u001b[39m=\u001b[39m (\u001b[39m1\u001b[39m\u001b[39m/\u001b[39mdataset_lenght) \u001b[39m*\u001b[39m np\u001b[39m.\u001b[39msum([(predictions[t] \u001b[39m-\u001b[39m y[t])\u001b[39m*\u001b[39mt \u001b[39mfor\u001b[39;00m t \u001b[39min\u001b[39;00m \u001b[39mrange\u001b[39m(dataset_lenght)])\n",
      "\u001b[0;31mTypeError\u001b[0m: 'list' object cannot be interpreted as an integer"
     ]
    }
   ],
   "source": [
    "coeff = [1,1]\n",
    "gradient_descent(t_train, y_train, coeff)\n",
    "print(\"y = (:.3f) t + (:.3f)\".format(coeff[0], coeff[1]))"
   ]
  },
  {
   "cell_type": "code",
   "execution_count": null,
   "metadata": {},
   "outputs": [],
   "source": []
  }
 ],
 "metadata": {
  "interpreter": {
   "hash": "aee8b7b246df8f9039afb4144a1f6fd8d2ca17a180786b69acc140d282b71a49"
  },
  "kernelspec": {
   "display_name": "Python 3.10.0 64-bit",
   "language": "python",
   "name": "python3"
  },
  "language_info": {
   "codemirror_mode": {
    "name": "ipython",
    "version": 3
   },
   "file_extension": ".py",
   "mimetype": "text/x-python",
   "name": "python",
   "nbconvert_exporter": "python",
   "pygments_lexer": "ipython3",
   "version": "3.10.0"
  },
  "orig_nbformat": 4
 },
 "nbformat": 4,
 "nbformat_minor": 2
}
