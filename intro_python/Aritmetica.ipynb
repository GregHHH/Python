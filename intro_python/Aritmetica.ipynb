{
 "cells": [
  {
   "cell_type": "code",
   "execution_count": 5,
   "id": "bf5bde8d-509d-4aef-bd2e-a077ea671d17",
   "metadata": {},
   "outputs": [],
   "source": [
    "#CTRL + ENTER ON ROW TO START SCRIPT\n",
    "#Import Math module IPython\n",
    "from IPython.display import display, Math"
   ]
  },
  {
   "cell_type": "code",
   "execution_count": 4,
   "id": "12786730-08d2-4130-8a5f-dff51c5cb954",
   "metadata": {},
   "outputs": [
    {
     "data": {
      "text/plain": [
       "7"
      ]
     },
     "execution_count": 4,
     "metadata": {},
     "output_type": "execute_result"
    }
   ],
   "source": [
    "#Basic Addition\n",
    "4 + 1 + 2"
   ]
  },
  {
   "cell_type": "code",
   "execution_count": 5,
   "id": "33c66036-2281-412d-a8f8-265d71bedffc",
   "metadata": {},
   "outputs": [
    {
     "data": {
      "text/plain": [
       "25"
      ]
     },
     "execution_count": 5,
     "metadata": {},
     "output_type": "execute_result"
    }
   ],
   "source": [
    "#Basic substraction with addition\n",
    "12 - 2 + 15 "
   ]
  },
  {
   "cell_type": "code",
   "execution_count": 6,
   "id": "df1a21e1-26b8-463a-b973-aa5ab4e32974",
   "metadata": {},
   "outputs": [
    {
     "data": {
      "text/plain": [
       "12"
      ]
     },
     "execution_count": 6,
     "metadata": {},
     "output_type": "execute_result"
    }
   ],
   "source": [
    "#Basic Multiplication\n",
    "4 * 3"
   ]
  },
  {
   "cell_type": "code",
   "execution_count": 7,
   "id": "383d149f-ca32-4c7e-b9f1-6e7ff6549c1d",
   "metadata": {},
   "outputs": [
    {
     "data": {
      "text/plain": [
       "30"
      ]
     },
     "execution_count": 7,
     "metadata": {},
     "output_type": "execute_result"
    }
   ],
   "source": [
    "15 * 2"
   ]
  },
  {
   "cell_type": "code",
   "execution_count": 8,
   "id": "3c091e11-ccd0-4772-97ff-4773b4025900",
   "metadata": {},
   "outputs": [
    {
     "data": {
      "text/plain": [
       "9"
      ]
     },
     "execution_count": 8,
     "metadata": {},
     "output_type": "execute_result"
    }
   ],
   "source": [
    "3 * 3"
   ]
  },
  {
   "cell_type": "code",
   "execution_count": 9,
   "id": "59673e09-581c-465a-ab44-8e69942b8771",
   "metadata": {},
   "outputs": [
    {
     "data": {
      "text/plain": [
       "8"
      ]
     },
     "execution_count": 9,
     "metadata": {},
     "output_type": "execute_result"
    }
   ],
   "source": [
    "#Basic Equation\n",
    "3 * 3 + 5 - 6"
   ]
  },
  {
   "cell_type": "code",
   "execution_count": 10,
   "id": "95606421-8e56-4d9a-a7af-331edc90350d",
   "metadata": {},
   "outputs": [
    {
     "data": {
      "text/plain": [
       "7.5"
      ]
     },
     "execution_count": 10,
     "metadata": {},
     "output_type": "execute_result"
    }
   ],
   "source": [
    "#Basic Division\n",
    "15 / 2"
   ]
  },
  {
   "cell_type": "code",
   "execution_count": 11,
   "id": "2a0d1a5d-a09b-4b95-9760-e26d2ba36e28",
   "metadata": {},
   "outputs": [
    {
     "data": {
      "text/plain": [
       "0.75"
      ]
     },
     "execution_count": 11,
     "metadata": {},
     "output_type": "execute_result"
    }
   ],
   "source": [
    "3 / 4"
   ]
  },
  {
   "cell_type": "code",
   "execution_count": 12,
   "id": "af2865a5-3b2e-4164-b155-88c6feb8f47b",
   "metadata": {},
   "outputs": [
    {
     "data": {
      "text/plain": [
       "1.0"
      ]
     },
     "execution_count": 12,
     "metadata": {},
     "output_type": "execute_result"
    }
   ],
   "source": [
    "(1+3) / 4"
   ]
  },
  {
   "cell_type": "code",
   "execution_count": 13,
   "id": "b471ef55-6f55-49e2-91c0-f117a1276cc2",
   "metadata": {},
   "outputs": [
    {
     "data": {
      "text/plain": [
       "4.7"
      ]
     },
     "execution_count": 13,
     "metadata": {},
     "output_type": "execute_result"
    }
   ],
   "source": [
    "5 - (2/4) * (3/5)"
   ]
  },
  {
   "cell_type": "code",
   "execution_count": 14,
   "id": "b51c3708-ff5e-467a-8ce4-ea29fa154d16",
   "metadata": {},
   "outputs": [
    {
     "name": "stdout",
     "output_type": "stream",
     "text": [
      "-0.030303030303030304\n"
     ]
    },
    {
     "data": {
      "text/plain": [
       "32.333333333333336"
      ]
     },
     "execution_count": 14,
     "metadata": {},
     "output_type": "execute_result"
    }
   ],
   "source": [
    "#With & Without Brackets\n",
    "print((4 - 5) / (3 + 5 * 6))\n",
    "4 - 5 / 3 + 5 * 6"
   ]
  },
  {
   "cell_type": "code",
   "execution_count": 15,
   "id": "ac9c165c-8838-4678-8726-3807186a9b2d",
   "metadata": {},
   "outputs": [
    {
     "data": {
      "text/plain": [
       "0.96"
      ]
     },
     "execution_count": 15,
     "metadata": {},
     "output_type": "execute_result"
    }
   ],
   "source": [
    "#Using Variables\n",
    "x = 3 / 5\n",
    "y = 5 / 8\n",
    "\n",
    "\n",
    "x / y"
   ]
  },
  {
   "cell_type": "code",
   "execution_count": 16,
   "id": "48f11912-a6a8-478f-bcef-97000e39f200",
   "metadata": {},
   "outputs": [],
   "source": [
    "x = 7\n",
    "y = -2 \n",
    "z = 5"
   ]
  },
  {
   "cell_type": "code",
   "execution_count": 17,
   "id": "34aa51f8-28e9-4672-beec-dc9b521edadb",
   "metadata": {},
   "outputs": [
    {
     "data": {
      "text/plain": [
       "0.0"
      ]
     },
     "execution_count": 17,
     "metadata": {},
     "output_type": "execute_result"
    }
   ],
   "source": [
    "#Equation with variables\n",
    "- y - (x+3) / z"
   ]
  },
  {
   "cell_type": "code",
   "execution_count": 18,
   "id": "6f4174c4-be5b-42f0-9763-1fcb934404d6",
   "metadata": {},
   "outputs": [
    {
     "data": {
      "text/plain": [
       "42"
      ]
     },
     "execution_count": 18,
     "metadata": {},
     "output_type": "execute_result"
    }
   ],
   "source": [
    "# 3x(4+y) | 3*7*(4+-2) but in Python\n",
    "3*x*(4+y)"
   ]
  },
  {
   "cell_type": "code",
   "execution_count": 19,
   "id": "9dd29cf8-6b08-4de2-848e-c08069708553",
   "metadata": {},
   "outputs": [
    {
     "data": {
      "text/plain": [
       "5.666666666666667"
      ]
     },
     "metadata": {},
     "output_type": "display_data"
    }
   ],
   "source": [
    "#Using display to show math in a better way\n",
    "display(4 + (5 / 6) * 2)"
   ]
  },
  {
   "cell_type": "code",
   "execution_count": 20,
   "id": "80fc0b79-ae65-4c7a-a8af-1c922419779b",
   "metadata": {},
   "outputs": [
    {
     "data": {
      "text/plain": [
       "'3 + 5 / 2 = 5.5'"
      ]
     },
     "metadata": {},
     "output_type": "display_data"
    }
   ],
   "source": [
    "#display and the inevitable use of strings\n",
    "display('3 + 5 / 2 = ' + str(3+5/2))"
   ]
  },
  {
   "cell_type": "code",
   "execution_count": 21,
   "id": "f24056bc-470f-4985-ab2f-fb678dea28f9",
   "metadata": {},
   "outputs": [
    {
     "data": {
      "text/latex": [
       "$\\displaystyle 3 = 2 * 5 / 6 - (2 * 4 / 6)$"
      ],
      "text/plain": [
       "<IPython.core.display.Math object>"
      ]
     },
     "metadata": {},
     "output_type": "display_data"
    }
   ],
   "source": [
    "#display + Math module = Best visual Result\n",
    "display(Math('3 = 2 * 5 / 6 - (2 * 4 / 6)'))"
   ]
  },
  {
   "cell_type": "code",
   "execution_count": 22,
   "id": "dcce5ac3-87f6-4a8b-942b-b92da52ecb20",
   "metadata": {},
   "outputs": [
    {
     "data": {
      "text/latex": [
       "$\\displaystyle 4 + 5 = 9$"
      ],
      "text/plain": [
       "<IPython.core.display.Math object>"
      ]
     },
     "metadata": {},
     "output_type": "display_data"
    }
   ],
   "source": [
    "#Variables + Display + Math Module + Strings Use + Equation =\n",
    "x = 4\n",
    "y = 5\n",
    "\n",
    "display(Math( str(x) + ' + ' + str(y) + ' = ' + str(x+y) ))"
   ]
  },
  {
   "cell_type": "code",
   "execution_count": 23,
   "id": "227338f4-a6af-42a1-813f-b13ef2213bad",
   "metadata": {},
   "outputs": [
    {
     "data": {
      "text/latex": [
       "$\\displaystyle 4 + 5 = 9$"
      ],
      "text/plain": [
       "<IPython.core.display.Math object>"
      ]
     },
     "metadata": {},
     "output_type": "display_data"
    }
   ],
   "source": [
    "#Using %g to simplify equations in python using hierarchy\n",
    "display(Math( '%g + %g = %g' %(x, y, x+y) ))"
   ]
  },
  {
   "cell_type": "code",
   "execution_count": 24,
   "id": "2e8420ff-c758-4a3e-8f48-799b3fd72f93",
   "metadata": {},
   "outputs": [
    {
     "data": {
      "text/latex": [
       "$\\displaystyle \\frac{4}{5} = 0.8$"
      ],
      "text/plain": [
       "<IPython.core.display.Math object>"
      ]
     },
     "metadata": {},
     "output_type": "display_data"
    }
   ],
   "source": [
    "#using \\\\frac to display Fractions\n",
    "display(Math( '\\\\frac{4}{5} = ' + str(4/5) ))"
   ]
  },
  {
   "cell_type": "code",
   "execution_count": 25,
   "id": "177e4376-97de-4f6a-af9b-cd441bff4613",
   "metadata": {},
   "outputs": [
    {
     "data": {
      "text/latex": [
       "$\\displaystyle \\frac{13}{15} = 0.8666666666666667$"
      ],
      "text/plain": [
       "<IPython.core.display.Math object>"
      ]
     },
     "metadata": {},
     "output_type": "display_data"
    }
   ],
   "source": [
    "display(Math( '\\\\frac{13}{15} = ' + str(13/15) ))"
   ]
  },
  {
   "cell_type": "code",
   "execution_count": 26,
   "id": "f144eddd-3461-428c-8cf7-e6a137e891fb",
   "metadata": {},
   "outputs": [
    {
     "data": {
      "text/latex": [
       "$\\displaystyle \\frac{32}{5}+\\frac{12}{3} = 10.4$"
      ],
      "text/plain": [
       "<IPython.core.display.Math object>"
      ]
     },
     "metadata": {},
     "output_type": "display_data"
    }
   ],
   "source": [
    "display(Math(  '\\\\frac{32}{5}' + '+' + '\\\\frac{12}{3}' + ' = ' + str( (32/5)+(12/3) )  ))"
   ]
  },
  {
   "cell_type": "code",
   "execution_count": 27,
   "id": "3fecd245-738f-415c-9554-1d4ba449c4ff",
   "metadata": {},
   "outputs": [
    {
     "data": {
      "text/latex": [
       "$\\displaystyle 3.4 \\times 17 = 57.8$"
      ],
      "text/plain": [
       "<IPython.core.display.Math object>"
      ]
     },
     "metadata": {},
     "output_type": "display_data"
    }
   ],
   "source": [
    "#Using \\\\times to display multiplications\n",
    "x = 3.4\n",
    "y = 17\n",
    "\n",
    "display(Math( '%g \\\\times %g = %g' %(x, y, x*y) ))"
   ]
  },
  {
   "cell_type": "code",
   "execution_count": 28,
   "id": "2ccc5613-f75a-4702-83db-daf06ddbae71",
   "metadata": {},
   "outputs": [],
   "source": [
    "#Equations to train\n",
    "\n",
    "x = 7\n",
    "y = -2 \n",
    "z = 5"
   ]
  },
  {
   "cell_type": "code",
   "execution_count": 29,
   "id": "db085517-83ec-4a39-b3f7-142a96b171e2",
   "metadata": {},
   "outputs": [
    {
     "data": {
      "text/latex": [
       "$\\displaystyle 3x( 4+y ) = 42$"
      ],
      "text/plain": [
       "<IPython.core.display.Math object>"
      ]
     },
     "metadata": {},
     "output_type": "display_data"
    }
   ],
   "source": [
    "display(Math( '3x( 4+y ) = ' + str(3*x*(4+y)) ))"
   ]
  },
  {
   "cell_type": "code",
   "execution_count": 3,
   "id": "ae6859bb-fa6f-49b2-b25f-448fd08b0b0d",
   "metadata": {},
   "outputs": [
    {
     "data": {
      "text/latex": [
       "$\\displaystyle 3\\times7(4 + -2) = 42$"
      ],
      "text/plain": [
       "<IPython.core.display.Math object>"
      ]
     },
     "metadata": {},
     "output_type": "display_data"
    }
   ],
   "source": [
    "display(Math( '3\\\\times7(4 + -2)' + ' = ' + str(3*7*(4 + -2)) ))"
   ]
  },
  {
   "cell_type": "code",
   "execution_count": 31,
   "id": "80d6c028-1184-49c5-94bb-cc3fe5ab6d99",
   "metadata": {},
   "outputs": [
    {
     "data": {
      "text/latex": [
       "$\\displaystyle -y -\\frac{x+3}{z}=0.0$"
      ],
      "text/plain": [
       "<IPython.core.display.Math object>"
      ]
     },
     "metadata": {},
     "output_type": "display_data"
    }
   ],
   "source": [
    "display(Math( '-y -'+ '\\\\frac{x+3}{z}' + '=' + str(-y-(x+3)/z)  ))"
   ]
  },
  {
   "cell_type": "code",
   "execution_count": 32,
   "id": "cc16f4cf-fa73-4306-ae42-7c698cccd2b9",
   "metadata": {},
   "outputs": [
    {
     "data": {
      "text/latex": [
       "$\\displaystyle --2-\\frac{7+3}{5}=0.0$"
      ],
      "text/plain": [
       "<IPython.core.display.Math object>"
      ]
     },
     "metadata": {},
     "output_type": "display_data"
    }
   ],
   "source": [
    "display(Math( '--2-' + '\\\\frac{7+3}{5}' + '=' + str(--2-(7+3)/5)  ))"
   ]
  },
  {
   "cell_type": "code",
   "execution_count": 33,
   "id": "501d8337-a454-4b4b-bd09-4c43e944735b",
   "metadata": {},
   "outputs": [],
   "source": [
    "#going for EXPONENTS | Powers"
   ]
  },
  {
   "cell_type": "code",
   "execution_count": 35,
   "id": "c3ddd1c6-b2be-499a-8c0c-c642211b2561",
   "metadata": {},
   "outputs": [
    {
     "data": {
      "text/plain": [
       "9"
      ]
     },
     "execution_count": 35,
     "metadata": {},
     "output_type": "execute_result"
    }
   ],
   "source": [
    "# '**' = Exponential in Python \n",
    "3**2"
   ]
  },
  {
   "cell_type": "code",
   "execution_count": 36,
   "id": "29417c01-bc74-4747-bfb4-7f103d0006ec",
   "metadata": {},
   "outputs": [
    {
     "data": {
      "text/plain": [
       "729"
      ]
     },
     "execution_count": 36,
     "metadata": {},
     "output_type": "execute_result"
    }
   ],
   "source": [
    "#Exponents with Variables\n",
    "x = 6\n",
    "\n",
    "3**x"
   ]
  },
  {
   "cell_type": "code",
   "execution_count": 40,
   "id": "9f29012f-0ffb-427f-8d2c-401fa1379c20",
   "metadata": {},
   "outputs": [
    {
     "name": "stdout",
     "output_type": "stream",
     "text": [
      "27\n"
     ]
    },
    {
     "data": {
      "text/plain": [
       "27"
      ]
     },
     "execution_count": 40,
     "metadata": {},
     "output_type": "execute_result"
    }
   ],
   "source": [
    "#Demonstration\n",
    "print(3**3)\n",
    "3*3*3"
   ]
  },
  {
   "cell_type": "code",
   "execution_count": 96,
   "id": "e4c3fdd7-bc9b-48f6-8a83-ee2153963b6c",
   "metadata": {},
   "outputs": [
    {
     "name": "stdout",
     "output_type": "stream",
     "text": [
      "729\n",
      "729\n",
      "729\n"
     ]
    }
   ],
   "source": [
    "#Spaces & No Spaces |  Same Result in this case\n",
    "print( 3**2 * 3**4 )\n",
    "print( 3**2*3**4 )\n",
    "print( 3**(4+2) )"
   ]
  },
  {
   "cell_type": "code",
   "execution_count": 95,
   "id": "3f39334c-c69c-4c62-8f0b-be16eda9c2b2",
   "metadata": {},
   "outputs": [
    {
     "name": "stdout",
     "output_type": "stream",
     "text": [
      "3.0\n",
      "4.5\n"
     ]
    }
   ],
   "source": [
    "#Parenthesis & No Parenthesis difference\n",
    "print(9**(1/2))\n",
    "print(9**1/2)"
   ]
  },
  {
   "cell_type": "code",
   "execution_count": 75,
   "id": "7d53a5f2-481e-47cd-b6c1-9006ddb31cf2",
   "metadata": {},
   "outputs": [
    {
     "data": {
      "text/latex": [
       "$\\displaystyle 9^3 =729$"
      ],
      "text/plain": [
       "<IPython.core.display.Math object>"
      ]
     },
     "metadata": {},
     "output_type": "display_data"
    }
   ],
   "source": [
    "#Using Display and Math Modules to show bEaUtIfUl Exponents (WITH THE CAROT SIMBOL | ^ )\n",
    "display(Math( '9^3 =' + str(9**3) ))"
   ]
  },
  {
   "cell_type": "code",
   "execution_count": 94,
   "id": "f6959a43-28fe-4c7b-9f59-21f1ebf296cb",
   "metadata": {},
   "outputs": [
    {
     "data": {
      "text/latex": [
       "$\\displaystyle 5 * \\frac{9^5}{3^2} + \\frac{2^5}{4^{15}} = 32805.0000000298$"
      ],
      "text/plain": [
       "<IPython.core.display.Math object>"
      ]
     },
     "metadata": {},
     "output_type": "display_data"
    }
   ],
   "source": [
    "#Random Tests\n",
    "display(Math( '5 * \\\\frac{9^5}{3^2} + \\\\frac{2^5}{4^{15}} = ' + str(5*(9**5)/(3**2)+(2**5)/(4**15)  ) ))"
   ]
  },
  {
   "cell_type": "code",
   "execution_count": 76,
   "id": "9973c765-2ec4-47e2-8e30-6ed80da6ab54",
   "metadata": {},
   "outputs": [
    {
     "data": {
      "text/latex": [
       "$\\displaystyle 3^2\\times 3^4 = 3^2 + 4$"
      ],
      "text/plain": [
       "<IPython.core.display.Math object>"
      ]
     },
     "metadata": {},
     "output_type": "display_data"
    }
   ],
   "source": [
    "display(Math('3^2\\\\times 3^4 = 3^2 + 4'  ))"
   ]
  },
  {
   "cell_type": "code",
   "execution_count": 87,
   "id": "d62b9ef3-025f-49a1-bc01-1f8579c8d18f",
   "metadata": {},
   "outputs": [
    {
     "data": {
      "text/latex": [
       "$\\displaystyle 4^{15} = 1073741824$"
      ],
      "text/plain": [
       "<IPython.core.display.Math object>"
      ]
     },
     "metadata": {},
     "output_type": "display_data"
    }
   ],
   "source": [
    "display(Math( '4^{15} = ' + str(4**15) ))"
   ]
  },
  {
   "cell_type": "code",
   "execution_count": 99,
   "id": "17240145-3f68-43b0-bbaf-ae8a4bc03978",
   "metadata": {},
   "outputs": [
    {
     "data": {
      "text/latex": [
       "$\\displaystyle 6^{66} * \\frac{33^6}{33^6} * \\frac{66^3}{66^3} = 1.4873082067728706e+58$"
      ],
      "text/plain": [
       "<IPython.core.display.Math object>"
      ]
     },
     "metadata": {},
     "output_type": "display_data"
    }
   ],
   "source": [
    "display(Math( '6^{66} * \\\\frac{33^6}{33^6} * \\\\frac{66^3}{66^3} = ' + str(6**66 * (33**6) / (33*6) * (66**3)/(66**3) )))"
   ]
  },
  {
   "cell_type": "code",
   "execution_count": null,
   "id": "ffb0a430-01c1-40b3-b083-01fbb6d978b5",
   "metadata": {},
   "outputs": [],
   "source": [
    "#excercise"
   ]
  },
  {
   "cell_type": "code",
   "execution_count": 6,
   "id": "7849e18c-d3e2-40c3-a10e-12f96cef07ed",
   "metadata": {},
   "outputs": [
    {
     "data": {
      "text/latex": [
       "$\\displaystyle 4^{20+666} =103075167919539362737878941695671096927792562532006181489457016172426249969978700941327803302214895580818494901679453603431156074155042347331258021971034545205239481632524915575922202175699365126489916269602259901666017026544977942158509882349776653560749789673308632667869401599817187059222269590222045799953579470369098385832411910277770514312692055886863990658502951108997494531238882767713060684543954513821696$"
      ],
      "text/plain": [
       "<IPython.core.display.Math object>"
      ]
     },
     "metadata": {},
     "output_type": "display_data"
    }
   ],
   "source": [
    "display(Math( '4^{20+666} =' + str(4**(20+666)) ))"
   ]
  },
  {
   "cell_type": "code",
   "execution_count": 4,
   "id": "4dc5b381-446a-43e9-a408-a154a95ecbd9",
   "metadata": {},
   "outputs": [
    {
     "data": {
      "text/latex": [
       "$\\displaystyle x^{3/4}\\times 4^t=3933.086147822751$"
      ],
      "text/plain": [
       "<IPython.core.display.Math object>"
      ]
     },
     "metadata": {},
     "output_type": "display_data"
    }
   ],
   "source": [
    "x = 5\n",
    "t = 5.1\n",
    "\n",
    "display(Math( 'x^{3/4}\\\\times 4^t=' + str(x**(3/4) * (4**t) ))) #Always use multiple Brackets around operation for correct result"
   ]
  },
  {
   "cell_type": "code",
   "execution_count": 13,
   "id": "e2f77fa3-c862-4060-ad03-5b40efb3be43",
   "metadata": {},
   "outputs": [
    {
     "data": {
      "text/latex": [
       "$\\displaystyle \\frac{3^3}{x^t} =0.007355576930579584$"
      ],
      "text/plain": [
       "<IPython.core.display.Math object>"
      ]
     },
     "metadata": {},
     "output_type": "display_data"
    }
   ],
   "source": [
    "display(Math( '\\\\frac{3^3}{x^t} =' + str((3**3)/(x**t)) ))"
   ]
  },
  {
   "cell_type": "markdown",
   "id": "997f888b-5d12-4c09-ba35-f35e6850907b",
   "metadata": {},
   "source": [
    "# display(Math( '10^{x-4} = ' + str(10**(x-4) )))\n",
    "+ì6"
   ]
  },
  {
   "cell_type": "code",
   "execution_count": 28,
   "id": "5e770eb5-0aa5-4f0b-8230-edef2a94f76f",
   "metadata": {},
   "outputs": [
    {
     "name": "stdout",
     "output_type": "stream",
     "text": [
      "0\n",
      "2\n",
      "4\n",
      "6\n"
     ]
    }
   ],
   "source": [
    "#For Loops\n",
    "for i in [0, 1, 2, 3]:\n",
    "    print(i*2)"
   ]
  },
  {
   "cell_type": "code",
   "execution_count": 6,
   "id": "025d0706-2802-43ab-aee5-207b6928b57c",
   "metadata": {},
   "outputs": [
    {
     "data": {
      "text/plain": [
       "[0, 1, 2]"
      ]
     },
     "execution_count": 6,
     "metadata": {},
     "output_type": "execute_result"
    }
   ],
   "source": [
    "#Print a list with Range function\n",
    "list(range(0, 3))"
   ]
  },
  {
   "cell_type": "code",
   "execution_count": 8,
   "id": "0566585e-1ca0-42c6-acbe-2ce86fb1344b",
   "metadata": {},
   "outputs": [
    {
     "name": "stdout",
     "output_type": "stream",
     "text": [
      "This is the 0th iteration.\n",
      "This is the 1th iteration.\n",
      "This is the 2th iteration.\n"
     ]
    }
   ],
   "source": [
    "#print an iteration using %g \n",
    "for qwerty in range(0,3):\n",
    "    print('This is the %gth iteration.' %qwerty)"
   ]
  },
  {
   "cell_type": "code",
   "execution_count": 13,
   "id": "fc6705da-478d-4aa6-b295-ceacaa3ba42f",
   "metadata": {},
   "outputs": [
    {
     "name": "stdout",
     "output_type": "stream",
     "text": [
      "0\n",
      "1\n",
      "4\n",
      "9\n",
      "16\n"
     ]
    }
   ],
   "source": [
    "# Doing powers with For Loops\n",
    "for t in range(0, 5):\n",
    "    num = t**2\n",
    "    print(num)"
   ]
  },
  {
   "cell_type": "code",
   "execution_count": 36,
   "id": "3624c6fa-bb02-4fc1-8225-b4836619612a",
   "metadata": {},
   "outputs": [
    {
     "name": "stdout",
     "output_type": "stream",
     "text": [
      "2 to the power of 0 is 1\n",
      "2 to the power of 1 is 2\n",
      "2 to the power of 2 is 4\n",
      "2 to the power of 3 is 8\n",
      "2 to the power of 4 is 16\n",
      "2 to the power of 5 is 32\n",
      "2 to the power of 6 is 64\n",
      "2 to the power of 7 is 128\n",
      "2 to the power of 8 is 256\n",
      "2 to the power of 9 is 512\n"
     ]
    }
   ],
   "source": [
    "#Excercise\n",
    "\n",
    "for t in range(0,10):\n",
    "    power = 2**t \n",
    "    print('2 to the power of %g is %g' %(t, power))"
   ]
  },
  {
   "cell_type": "code",
   "execution_count": 40,
   "id": "8c87b051-b2be-4134-b175-1b45cc8d9f0c",
   "metadata": {},
   "outputs": [
    {
     "name": "stdout",
     "output_type": "stream",
     "text": [
      "17 to the power of 0 is 1\n",
      "17 to the power of 1 is 17\n",
      "17 to the power of 2 is 289\n",
      "17 to the power of 3 is 4913\n",
      "17 to the power of 4 is 83521\n",
      "17 to the power of 5 is 1.41986e+06\n",
      "17 to the power of 6 is 2.41376e+07\n",
      "17 to the power of 7 is 4.10339e+08\n",
      "17 to the power of 8 is 6.97576e+09\n",
      "17 to the power of 9 is 1.18588e+11\n"
     ]
    }
   ],
   "source": [
    "for t in range(0, 10):\n",
    "    power_two = 17**t\n",
    "    print('17 to the power of %g is %g' %(t, power_two))"
   ]
  },
  {
   "cell_type": "code",
   "execution_count": 46,
   "id": "7b138cf8-a558-474b-b535-303caa9bd8fa",
   "metadata": {},
   "outputs": [
    {
     "name": "stdout",
     "output_type": "stream",
     "text": [
      "5 to the power of 0 is 1\n",
      "5 to the power of 1 is 5\n",
      "5 to the power of 2 is 25\n",
      "5 to the power of 3 is 125\n",
      "5 to the power of 4 is 625\n",
      "5 to the power of 5 is 3125\n"
     ]
    }
   ],
   "source": [
    "base = 5\n",
    "\n",
    "for t in range(0,6):\n",
    "    print( '%g to the power of %g is %g' %(base, t, base**t) )"
   ]
  },
  {
   "cell_type": "code",
   "execution_count": 7,
   "id": "c4493ba2-c4df-4709-b0cb-a767735e4d4a",
   "metadata": {},
   "outputs": [
    {
     "name": "stdout",
     "output_type": "stream",
     "text": [
      "Insert the base number\n"
     ]
    },
    {
     "name": "stdout",
     "output_type": "stream",
     "text": [
      " 25\n"
     ]
    },
    {
     "name": "stdout",
     "output_type": "stream",
     "text": [
      "Insert the iterations number\n"
     ]
    },
    {
     "name": "stdout",
     "output_type": "stream",
     "text": [
      " 9\n"
     ]
    },
    {
     "name": "stdout",
     "output_type": "stream",
     "text": [
      "25 to the power of 0 is 1\n"
     ]
    },
    {
     "data": {
      "text/latex": [
       "$\\displaystyle 25^9 = 1$"
      ],
      "text/plain": [
       "<IPython.core.display.Math object>"
      ]
     },
     "metadata": {},
     "output_type": "display_data"
    },
    {
     "name": "stdout",
     "output_type": "stream",
     "text": [
      "25 to the power of 1 is 25\n"
     ]
    },
    {
     "data": {
      "text/latex": [
       "$\\displaystyle 25^9 = 25$"
      ],
      "text/plain": [
       "<IPython.core.display.Math object>"
      ]
     },
     "metadata": {},
     "output_type": "display_data"
    },
    {
     "name": "stdout",
     "output_type": "stream",
     "text": [
      "25 to the power of 2 is 625\n"
     ]
    },
    {
     "data": {
      "text/latex": [
       "$\\displaystyle 25^9 = 625$"
      ],
      "text/plain": [
       "<IPython.core.display.Math object>"
      ]
     },
     "metadata": {},
     "output_type": "display_data"
    },
    {
     "name": "stdout",
     "output_type": "stream",
     "text": [
      "25 to the power of 3 is 15625\n"
     ]
    },
    {
     "data": {
      "text/latex": [
       "$\\displaystyle 25^9 = 15625$"
      ],
      "text/plain": [
       "<IPython.core.display.Math object>"
      ]
     },
     "metadata": {},
     "output_type": "display_data"
    },
    {
     "name": "stdout",
     "output_type": "stream",
     "text": [
      "25 to the power of 4 is 390625\n"
     ]
    },
    {
     "data": {
      "text/latex": [
       "$\\displaystyle 25^9 = 390625$"
      ],
      "text/plain": [
       "<IPython.core.display.Math object>"
      ]
     },
     "metadata": {},
     "output_type": "display_data"
    },
    {
     "name": "stdout",
     "output_type": "stream",
     "text": [
      "25 to the power of 5 is 9.76562e+06\n"
     ]
    },
    {
     "data": {
      "text/latex": [
       "$\\displaystyle 25^9 = 9765625$"
      ],
      "text/plain": [
       "<IPython.core.display.Math object>"
      ]
     },
     "metadata": {},
     "output_type": "display_data"
    },
    {
     "name": "stdout",
     "output_type": "stream",
     "text": [
      "25 to the power of 6 is 2.44141e+08\n"
     ]
    },
    {
     "data": {
      "text/latex": [
       "$\\displaystyle 25^9 = 244140625$"
      ],
      "text/plain": [
       "<IPython.core.display.Math object>"
      ]
     },
     "metadata": {},
     "output_type": "display_data"
    },
    {
     "name": "stdout",
     "output_type": "stream",
     "text": [
      "25 to the power of 7 is 6.10352e+09\n"
     ]
    },
    {
     "data": {
      "text/latex": [
       "$\\displaystyle 25^9 = 6103515625$"
      ],
      "text/plain": [
       "<IPython.core.display.Math object>"
      ]
     },
     "metadata": {},
     "output_type": "display_data"
    },
    {
     "name": "stdout",
     "output_type": "stream",
     "text": [
      "25 to the power of 8 is 1.52588e+11\n"
     ]
    },
    {
     "data": {
      "text/latex": [
       "$\\displaystyle 25^9 = 152587890625$"
      ],
      "text/plain": [
       "<IPython.core.display.Math object>"
      ]
     },
     "metadata": {},
     "output_type": "display_data"
    },
    {
     "name": "stdout",
     "output_type": "stream",
     "text": [
      "25 to the power of 9 is 3.8147e+12\n"
     ]
    },
    {
     "data": {
      "text/latex": [
       "$\\displaystyle 25^9 = 3814697265625$"
      ],
      "text/plain": [
       "<IPython.core.display.Math object>"
      ]
     },
     "metadata": {},
     "output_type": "display_data"
    }
   ],
   "source": [
    "#Little Script to do Exponents\n",
    "#Launch using CTRL + Enter\n",
    "print('Insert the base number')\n",
    "basenum = input()\n",
    "intbase = int(basenum) #Always create another Variable to make modifications \n",
    "\n",
    "print('Insert the iterations number')\n",
    "iterations = input()\n",
    "intiter = int(iterations) \n",
    "\n",
    "# \n",
    "for i in range(0, intiter+1):\n",
    "    print('%g to the power of %g is %g' %(intbase, i, intbase**i))\n",
    "    display(Math( f'{intbase}^{intiter} = {intbase**i}' ))\n"
   ]
  },
  {
   "cell_type": "code",
   "execution_count": 79,
   "id": "30c3fe41-f33a-4e75-af45-37d79af5aedd",
   "metadata": {},
   "outputs": [
    {
     "name": "stdout",
     "output_type": "stream",
     "text": [
      "7\n",
      "13\n",
      "9\n"
     ]
    }
   ],
   "source": [
    "#Order of operations\n",
    "#Spaces improve readibility | brackets improve grouping\n",
    "#Order: Parentheses > Exponents > Multiplication > Division > Addition > Subtraction\n",
    "#PEMDAS\n",
    "\n",
    " \n",
    "print( (4+3) * (2-1)  )\n",
    "print( (4+3) * 2 - 1  )\n",
    "print( 4 + 3 * 2 - 1  )"
   ]
  },
  {
   "cell_type": "code",
   "execution_count": 27,
   "id": "5b605d37-64a7-46d7-9ffd-dad0d65e872c",
   "metadata": {},
   "outputs": [
    {
     "data": {
      "text/latex": [
       "$\\displaystyle \\frac{4*5}{7+3} =2.0$"
      ],
      "text/plain": [
       "<IPython.core.display.Math object>"
      ]
     },
     "metadata": {},
     "output_type": "display_data"
    },
    {
     "data": {
      "text/latex": [
       "$\\displaystyle \\frac{9}{3+6} - 1 =0.0$"
      ],
      "text/plain": [
       "<IPython.core.display.Math object>"
      ]
     },
     "metadata": {},
     "output_type": "display_data"
    }
   ],
   "source": [
    "#excercises\n",
    "\n",
    "display(Math( '\\\\frac{4*5}{7+3} =' + str((4*5) / (7+3)) )) \n",
    "display(Math( '\\\\frac{9}{3+6} - 1 ='  + str(9/(3+6) - 1) ))  "
   ]
  },
  {
   "cell_type": "code",
   "execution_count": 93,
   "id": "4c213714-fdb0-4fdf-920e-87ec2fe13ee2",
   "metadata": {},
   "outputs": [
    {
     "name": "stdout",
     "output_type": "stream",
     "text": [
      " 4 > 3  | 4 is grater than 3\n",
      " 4 < 5  | 4 is less than 5\n"
     ]
    },
    {
     "data": {
      "text/latex": [
       "$\\displaystyle 4 \\leq 5 $"
      ],
      "text/plain": [
       "<IPython.core.display.Math object>"
      ]
     },
     "metadata": {},
     "output_type": "display_data"
    },
    {
     "data": {
      "text/latex": [
       "$\\displaystyle 5 \\geq 4$"
      ],
      "text/plain": [
       "<IPython.core.display.Math object>"
      ]
     },
     "metadata": {},
     "output_type": "display_data"
    }
   ],
   "source": [
    "#Inequalities \n",
    "# x > y  | x is grater than y\n",
    "# x < y  | x is less than y\n",
    "# x ≥ y | x is greater or equal to y \n",
    "# x ≤ y | X is less or equal to y\n",
    "\n",
    "print( ' 4 > 3  | 4 is grater than 3' )\n",
    "print( ' 4 < 5  | 4 is less than 5' )\n",
    "\n",
    "display(Math( '4 \\leq 5 ' )) \n",
    "display(Math( '5 \\geq 4' ))\n"
   ]
  },
  {
   "cell_type": "code",
   "execution_count": 3,
   "id": "8a824022-03ef-4df0-ab1e-bc80e82fad4f",
   "metadata": {},
   "outputs": [
    {
     "name": "stdout",
     "output_type": "stream",
     "text": [
      "Insert first number to compare\n"
     ]
    },
    {
     "name": "stdout",
     "output_type": "stream",
     "text": [
      " 3.21\n"
     ]
    },
    {
     "name": "stdout",
     "output_type": "stream",
     "text": [
      "Insert second number to compare\n"
     ]
    },
    {
     "name": "stdout",
     "output_type": "stream",
     "text": [
      " 5.43\n"
     ]
    },
    {
     "name": "stdout",
     "output_type": "stream",
     "text": [
      "3.21 Is less than 5.43\n"
     ]
    }
   ],
   "source": [
    "#Little Script to represent inequalities\n",
    "\n",
    "print( 'Insert first number to compare' )\n",
    "x = input()\n",
    "print( 'Insert second number to compare' )\n",
    "y = input()\n",
    "\n",
    "calc = x > y\n",
    "\n",
    "if calc == True:\n",
    "    print( x + ' Is greater than ' + y)\n",
    "elif x == y:\n",
    "    print( x + ' Is equal to ' + y)\n",
    "else:\n",
    "    print( x + ' Is less than ' + y )\n",
    "\n",
    "    "
   ]
  },
  {
   "cell_type": "code",
   "execution_count": 86,
   "id": "39255124-cb39-4c75-ae57-9f2966db6ec1",
   "metadata": {},
   "outputs": [
    {
     "name": "stdout",
     "output_type": "stream",
     "text": [
      "<class 'bool'>\n",
      "True\n"
     ]
    }
   ],
   "source": [
    "#Check variable Type \n",
    "\n",
    "b = 4 > 3\n",
    "\n",
    "print(type(b))\n",
    "print(b)"
   ]
  },
  {
   "cell_type": "code",
   "execution_count": 96,
   "id": "b365fad5-eb8a-4801-9eca-00f26eacfad9",
   "metadata": {},
   "outputs": [
    {
     "name": "stdout",
     "output_type": "stream",
     "text": [
      "True\n",
      "False\n"
     ]
    }
   ],
   "source": [
    "a = 4 >= 2+2 #is greater or equal to\n",
    "b = 4 <= 2+1 #is less or equal to\n",
    "\n",
    "print(a)\n",
    "print(b)"
   ]
  },
  {
   "cell_type": "code",
   "execution_count": 106,
   "id": "c545fe5e-64d8-4328-899d-ffeceb4cf44e",
   "metadata": {},
   "outputs": [
    {
     "name": "stdout",
     "output_type": "stream",
     "text": [
      "x = 2 \n",
      "\n",
      "y = 3 \n",
      "\n",
      "z = 5 \n",
      "\n"
     ]
    },
    {
     "data": {
      "text/latex": [
       "$\\displaystyle 4x + 3 < 17 - x^2 =  True$"
      ],
      "text/plain": [
       "<IPython.core.display.Math object>"
      ]
     },
     "metadata": {},
     "output_type": "display_data"
    },
    {
     "data": {
      "text/latex": [
       "$\\displaystyle 4y + 3 < 17 - y^2 =  False$"
      ],
      "text/plain": [
       "<IPython.core.display.Math object>"
      ]
     },
     "metadata": {},
     "output_type": "display_data"
    },
    {
     "data": {
      "text/latex": [
       "$\\displaystyle 4z + 3 < 17 - z^2 =  False$"
      ],
      "text/plain": [
       "<IPython.core.display.Math object>"
      ]
     },
     "metadata": {},
     "output_type": "display_data"
    },
    {
     "data": {
      "text/latex": [
       "$\\displaystyle 8x - 2 \\leq 17 - 3x + 42 = True$"
      ],
      "text/plain": [
       "<IPython.core.display.Math object>"
      ]
     },
     "metadata": {},
     "output_type": "display_data"
    },
    {
     "data": {
      "text/latex": [
       "$\\displaystyle 8y - 2 \\leq 17 - 3y + 42 = True$"
      ],
      "text/plain": [
       "<IPython.core.display.Math object>"
      ]
     },
     "metadata": {},
     "output_type": "display_data"
    },
    {
     "data": {
      "text/latex": [
       "$\\displaystyle 8z - 2 \\leq 17 - 3z + 42 = True$"
      ],
      "text/plain": [
       "<IPython.core.display.Math object>"
      ]
     },
     "metadata": {},
     "output_type": "display_data"
    }
   ],
   "source": [
    "#excercises\n",
    "\n",
    "x = 2\n",
    "y = 3\n",
    "z = 4\n",
    "\n",
    "print('x = 2 \\n')\n",
    "print('y = 3 \\n')\n",
    "print('z = 5 \\n')\n",
    "#-------\n",
    "\n",
    "display(Math( '4x + 3 < 17 - x^2 =  ' + str((4*x) + 3 < 17 - x**2) ))\n",
    "display(Math( '4y + 3 < 17 - y^2 =  ' + str((4*y) + 3 < 17 - y**2) ))\n",
    "display(Math( '4z + 3 < 17 - z^2 =  ' + str((4*z) + 3 < 17 - z**2) ))\n",
    "\n",
    "#-----\n",
    "\n",
    "display(Math( '8x - 2 \\leq 17 - 3x + 42 = ' + str((8*x) - 2 <= - (3*x) + 42) ))\n",
    "display(Math( '8y - 2 \\leq 17 - 3y + 42 = ' + str((8*y) - 2 <= - (3*y) + 42) ))\n",
    "display(Math( '8z - 2 \\leq 17 - 3z + 42 = ' + str((8*z) - 2 <= - (3*z) + 42) ))"
   ]
  },
  {
   "cell_type": "code",
   "execution_count": 81,
   "id": "e6df4747-fac8-45d0-97a2-a7c34090022f",
   "metadata": {},
   "outputs": [
    {
     "name": "stdout",
     "output_type": "stream",
     "text": [
      "Is it raining, sunny or boring?\n"
     ]
    },
    {
     "name": "stdout",
     "output_type": "stream",
     "text": [
      " SuNNy\n"
     ]
    },
    {
     "name": "stdout",
     "output_type": "stream",
     "text": [
      "Why not an icrecream?\n"
     ]
    }
   ],
   "source": [
    "#if Statements\n",
    "\n",
    "#  if it's raining:\n",
    "#     i'll bring an umbrella\n",
    "#  elif it's sunny:\n",
    "#     i'il buy an icecream,\n",
    "#  else:\n",
    "#     i'il learn math\n",
    "\n",
    "print('Is it raining, sunny or boring?')\n",
    "today = input().lower()\n",
    "\n",
    "if today == 'raining':\n",
    "    print('dont forget coat and umbrella!')\n",
    "elif today == 'sunny':\n",
    "    print('Why not an icrecream?')\n",
    "else:\n",
    "    print('Go and study then!')"
   ]
  },
  {
   "cell_type": "code",
   "execution_count": 121,
   "id": "51158b66-5219-4f3c-894e-96409038a554",
   "metadata": {},
   "outputs": [
    {
     "name": "stdout",
     "output_type": "stream",
     "text": [
      "True\n",
      "Out of the if\n"
     ]
    }
   ],
   "source": [
    "if 4+2==6:\n",
    "    print('Inside the if')\n",
    "#no indentation = stop if\n",
    "print('Out of the if')"
   ]
  },
  {
   "cell_type": "code",
   "execution_count": 145,
   "id": "57bd7298-c24a-4430-9393-8f333a9ede70",
   "metadata": {},
   "outputs": [
    {
     "data": {
      "text/latex": [
       "$\\displaystyle 1^{-1} = 1$"
      ],
      "text/plain": [
       "<IPython.core.display.Math object>"
      ]
     },
     "metadata": {},
     "output_type": "display_data"
    },
    {
     "data": {
      "text/latex": [
       "$\\displaystyle 1^{-2} = 1$"
      ],
      "text/plain": [
       "<IPython.core.display.Math object>"
      ]
     },
     "metadata": {},
     "output_type": "display_data"
    },
    {
     "data": {
      "text/latex": [
       "$\\displaystyle 1^{-3} = 1$"
      ],
      "text/plain": [
       "<IPython.core.display.Math object>"
      ]
     },
     "metadata": {},
     "output_type": "display_data"
    },
    {
     "data": {
      "text/latex": [
       "$\\displaystyle 1^{-4} = 1$"
      ],
      "text/plain": [
       "<IPython.core.display.Math object>"
      ]
     },
     "metadata": {},
     "output_type": "display_data"
    },
    {
     "data": {
      "text/latex": [
       "$\\displaystyle 2^{-1} = 0.5$"
      ],
      "text/plain": [
       "<IPython.core.display.Math object>"
      ]
     },
     "metadata": {},
     "output_type": "display_data"
    },
    {
     "data": {
      "text/latex": [
       "$\\displaystyle 2^{-2} = 0.25$"
      ],
      "text/plain": [
       "<IPython.core.display.Math object>"
      ]
     },
     "metadata": {},
     "output_type": "display_data"
    },
    {
     "data": {
      "text/latex": [
       "$\\displaystyle 2^{-3} = 0.125$"
      ],
      "text/plain": [
       "<IPython.core.display.Math object>"
      ]
     },
     "metadata": {},
     "output_type": "display_data"
    },
    {
     "data": {
      "text/latex": [
       "$\\displaystyle 2^{-4} = 0.0625$"
      ],
      "text/plain": [
       "<IPython.core.display.Math object>"
      ]
     },
     "metadata": {},
     "output_type": "display_data"
    },
    {
     "data": {
      "text/latex": [
       "$\\displaystyle 3^{-1} = 0.333333$"
      ],
      "text/plain": [
       "<IPython.core.display.Math object>"
      ]
     },
     "metadata": {},
     "output_type": "display_data"
    },
    {
     "data": {
      "text/latex": [
       "$\\displaystyle 3^{-2} = 0.111111$"
      ],
      "text/plain": [
       "<IPython.core.display.Math object>"
      ]
     },
     "metadata": {},
     "output_type": "display_data"
    },
    {
     "data": {
      "text/latex": [
       "$\\displaystyle 3^{-3} = 0.037037$"
      ],
      "text/plain": [
       "<IPython.core.display.Math object>"
      ]
     },
     "metadata": {},
     "output_type": "display_data"
    },
    {
     "data": {
      "text/latex": [
       "$\\displaystyle 3^{-4} = 0.0123457$"
      ],
      "text/plain": [
       "<IPython.core.display.Math object>"
      ]
     },
     "metadata": {},
     "output_type": "display_data"
    }
   ],
   "source": [
    "#Excercise\n",
    "\n",
    "for i in range(0,4): #i going from 0 to 3\n",
    "    for j in range(0,5): #j going from 0 to 4\n",
    "        if i and j > 0: #if i and j are greater than 0 display\n",
    "            display(Math( '%g^{-%g} = %g' %(i, j, i**(-j)) ))\n",
    "        else: #else ignore using pass\n",
    "            pass\n",
    "            "
   ]
  },
  {
   "cell_type": "code",
   "execution_count": 194,
   "id": "7d87e8c8-cdc9-40c6-b058-764521099b37",
   "metadata": {},
   "outputs": [
    {
     "data": {
      "text/latex": [
       "$\\displaystyle |-4.3| = 4.3$"
      ],
      "text/plain": [
       "<IPython.core.display.Math object>"
      ]
     },
     "metadata": {},
     "output_type": "display_data"
    }
   ],
   "source": [
    "#Absolute Values\n",
    "\n",
    "x = -4.3\n",
    "y = abs(x)\n",
    "\n",
    "display(Math( '|%g| = %g' %(x, y) ))"
   ]
  },
  {
   "cell_type": "code",
   "execution_count": 239,
   "id": "59fd4a71-795b-435a-94f5-7730cc7f4a39",
   "metadata": {},
   "outputs": [
    {
     "name": "stdout",
     "output_type": "stream",
     "text": [
      "insert the number you want to check absolute value\n"
     ]
    },
    {
     "name": "stdout",
     "output_type": "stream",
     "text": [
      " -456\n"
     ]
    },
    {
     "data": {
      "text/plain": [
       "'The absolute value of -456 is 456'"
      ]
     },
     "metadata": {},
     "output_type": "display_data"
    }
   ],
   "source": [
    "print('insert the number you want to check absolute value')\n",
    "\n",
    "x = input()\n",
    "x = float(x)\n",
    "y = abs(x)\n",
    "\n",
    "\n",
    "if x > 0 or x < 0:\n",
    "    display('The absolute value of %g is %g' %(x, y) )\n",
    "else:\n",
    "    print('Everything but not Zero')"
   ]
  },
  {
   "cell_type": "code",
   "execution_count": 77,
   "id": "e8d9da16-5dee-4ba7-9cb9-148cf9a8eeb6",
   "metadata": {},
   "outputs": [
    {
     "name": "stdout",
     "output_type": "stream",
     "text": [
      "-4 was not tested\n",
      "The absolute value of 6 is 6\n",
      "-1 was not tested\n",
      "The absolute value of 43 is 43\n",
      "The absolute value of -18 is 18\n",
      "2 was not tested\n",
      "0 was not tested\n"
     ]
    }
   ],
   "source": [
    "set_numbers = [-4, 6, -1, 43, -18, 2, 0]\n",
    "\n",
    "\n",
    "for i in range(0, 7):\n",
    "    set_upd = set_numbers[i]\n",
    "    if set_upd < -5 or set_upd >2:\n",
    "        print('The absolute value of %g is %g' %(set_upd, abs(set_upd)))\n",
    "    else:\n",
    "        print('%g was not tested' %(set_upd))"
   ]
  },
  {
   "cell_type": "code",
   "execution_count": 78,
   "id": "44ff8664-acf8-4bbe-9f7a-517fb157f698",
   "metadata": {},
   "outputs": [
    {
     "data": {
      "text/plain": [
       "'-4 was not tested'"
      ]
     },
     "metadata": {},
     "output_type": "display_data"
    },
    {
     "data": {
      "text/plain": [
       "'The absolute value of 6 is 6'"
      ]
     },
     "metadata": {},
     "output_type": "display_data"
    },
    {
     "data": {
      "text/plain": [
       "'-1 was not tested'"
      ]
     },
     "metadata": {},
     "output_type": "display_data"
    },
    {
     "data": {
      "text/plain": [
       "'The absolute value of 43 is 43'"
      ]
     },
     "metadata": {},
     "output_type": "display_data"
    },
    {
     "data": {
      "text/plain": [
       "'The absolute value of -18 is 18'"
      ]
     },
     "metadata": {},
     "output_type": "display_data"
    },
    {
     "data": {
      "text/plain": [
       "'2 was not tested'"
      ]
     },
     "metadata": {},
     "output_type": "display_data"
    },
    {
     "data": {
      "text/plain": [
       "'0 was not tested'"
      ]
     },
     "metadata": {},
     "output_type": "display_data"
    }
   ],
   "source": [
    "for i in set_numbers:\n",
    "    if i < -5 or i >2:\n",
    "        display( f'The absolute value of {i} is {abs(i)}' )\n",
    "    else:\n",
    "        display( f'{i} was not tested')"
   ]
  },
  {
   "cell_type": "code",
   "execution_count": 269,
   "id": "bde91e07-b8fd-4635-ae35-34c11cbbef5b",
   "metadata": {},
   "outputs": [
    {
     "name": "stdout",
     "output_type": "stream",
     "text": [
      "80.0\n",
      "80\n",
      "0\n",
      "240 goes into 3, 80 times with a remainder of 0\n"
     ]
    }
   ],
   "source": [
    "#Remainder after division (Modulus)\n",
    "\n",
    "a = 240\n",
    "b = 3\n",
    "divis = a/b\n",
    "rema =  a%b\n",
    "\n",
    "\n",
    "print(divis)\n",
    "\n",
    "#integer division\n",
    "\n",
    "print(int(divis)) #Press SHIFT + TAB inside int Parentheses to show Help\n",
    "\n",
    "#remainder \n",
    "\n",
    "print(a%b)\n",
    "print( f'{a} goes into {b}, {int(divis)} times with a remainder of {rema}' )"
   ]
  },
  {
   "cell_type": "code",
   "execution_count": 259,
   "id": "72012ba3-5a58-4ca3-9471-a0d30628848d",
   "metadata": {},
   "outputs": [
    {
     "name": "stdout",
     "output_type": "stream",
     "text": [
      "Which number you want to check?\n"
     ]
    },
    {
     "name": "stdout",
     "output_type": "stream",
     "text": [
      " 10\n"
     ]
    },
    {
     "name": "stdout",
     "output_type": "stream",
     "text": [
      "Number is even\n"
     ]
    }
   ],
   "source": [
    "#Check if number is Even or Odd\n",
    "print('Which number you want to check?')\n",
    "\n",
    "x = input()\n",
    "xint = int(x)\n",
    "\n",
    "if xint % 2:\n",
    "    print('Number is odd')\n",
    "else:\n",
    "    print('Number is even')"
   ]
  },
  {
   "cell_type": "code",
   "execution_count": 279,
   "id": "a40b408d-1e5d-4094-ace5-e586ea83f46b",
   "metadata": {},
   "outputs": [
    {
     "name": "stdout",
     "output_type": "stream",
     "text": [
      "-5 this is an odd number \n",
      "-4 this is an even number \n",
      "-3 this is an odd number \n",
      "-2 this is an even number \n",
      "-1 this is an odd number \n",
      " 0 is an odd number\n",
      " 1 is an odd number\n",
      " 2 this is an even number \n",
      " 3 is an odd number\n",
      " 4 this is an even number \n",
      " 5 is an odd number\n"
     ]
    }
   ],
   "source": [
    "#excercise\n",
    "\n",
    "for i in range(-5, 6):\n",
    "    firstch = ' '\n",
    "    \n",
    "    if i < 0 and i % 2 == 1:\n",
    "        print(f'{i} this is an odd number ')\n",
    "    elif i < 0 and i % 2 == 0:\n",
    "        print(f'{i} this is an even number ')\n",
    "    elif i > 0 and i % 2 == 0:\n",
    "        print(f'{firstch}{i} this is an even number ')\n",
    "    else:\n",
    "        print(f'{firstch}{i} is an odd number')"
   ]
  },
  {
   "cell_type": "code",
   "execution_count": 282,
   "id": "1821e6aa-cf03-44dc-9a23-c31fdfcb5e58",
   "metadata": {},
   "outputs": [
    {
     "name": "stdout",
     "output_type": "stream",
     "text": [
      "-5 is an odd number\n",
      "-4 is an even number\n",
      "-3 is an odd number\n",
      "-2 is an even number\n",
      "-1 is an odd number\n",
      " 0 is an even number\n",
      " 1 is an odd number\n",
      " 2 is an even number\n",
      " 3 is an odd number\n",
      " 4 is an even number\n",
      " 5 is an odd number\n"
     ]
    }
   ],
   "source": [
    "#Simple solution\n",
    "\n",
    "for i in range(-5, 6):\n",
    "    firstch = ' '\n",
    "    \n",
    "    if i < 0:\n",
    "        firstch = ''\n",
    "        \n",
    "    if i % 2 == 0:\n",
    "        print(f'{firstch}{i} is an even number')\n",
    "    else:\n",
    "        print(f'{firstch}{i} is an odd number')"
   ]
  },
  {
   "cell_type": "code",
   "execution_count": 295,
   "id": "65539ba8-4e22-4b81-8fa9-9fbc52dc7541",
   "metadata": {},
   "outputs": [],
   "source": [
    "#Create Interactive Math Functions\n",
    "\n",
    "def funzione(nome):\n",
    "    print(f'Benvenuto {nome}')"
   ]
  },
  {
   "cell_type": "code",
   "execution_count": 298,
   "id": "2be2db49-7ba5-4640-9e4d-7481ac3a136c",
   "metadata": {},
   "outputs": [
    {
     "name": "stdout",
     "output_type": "stream",
     "text": [
      "Benvenuto Chafik\n"
     ]
    }
   ],
   "source": [
    "funzione('Chafik')"
   ]
  },
  {
   "cell_type": "code",
   "execution_count": 322,
   "id": "e17c55f9-611c-4359-b87d-dd8f9eeebaa8",
   "metadata": {},
   "outputs": [],
   "source": [
    "#Compute Remainder\n",
    "#Input Script for divisions\n",
    "\n",
    "\n",
    "def computeremainder():\n",
    "    x = input('Insert first number of the division')\n",
    "    xint = float(x)\n",
    "    y = input('Insert second number of the division')\n",
    "    yint = float(y)\n",
    "    \n",
    "    divis = int( xint/yint )\n",
    "    remainder = xint%yint \n",
    "    \n",
    "    print(f'{yint} goes into {xint}, {divis} times with a remainder of {remainder}') "
   ]
  },
  {
   "cell_type": "code",
   "execution_count": 366,
   "id": "004786c9-5421-4217-83a0-03e2280ded79",
   "metadata": {},
   "outputs": [
    {
     "name": "stdout",
     "output_type": "stream",
     "text": [
      "Insert first number of the division 2\n",
      "Insert second number of the division 3\n"
     ]
    },
    {
     "name": "stdout",
     "output_type": "stream",
     "text": [
      "3.0 goes into 2.0, 0 times with a remainder of 2.0\n"
     ]
    }
   ],
   "source": [
    "computeremainder()"
   ]
  },
  {
   "cell_type": "code",
   "execution_count": 73,
   "id": "8782cf31-ef99-4b9b-83e6-5d8eae669154",
   "metadata": {},
   "outputs": [],
   "source": [
    "#Function to do Exponents and divisions by switching \n",
    "\n",
    "def calcola():\n",
    "    x = input('Insert first number')\n",
    "    xint = int(x)\n",
    "    y = input('Insert second number')\n",
    "    yint = int(y)\n",
    "    \n",
    "    display(Math('\\\\text{Press 1 to compute } {%g}^{%g} \\\\text{or 2 to compute } \\\\frac{%g}{%g}' %(xint, yint, xint, yint) ))\n",
    "    \n",
    "    z = input()\n",
    "    zint = int(z)\n",
    "    \n",
    "    if zint == 1:\n",
    "        display(Math( '%g^{%g} = %g' %(xint, yint, xint**yint) ))\n",
    "    elif zint == 2:\n",
    "        display(Math( '\\\\frac{%g}{%g} = %g' %(xint, yint, xint/yint) ))\n",
    "    else:\n",
    "        print('Invalid Selection')"
   ]
  },
  {
   "cell_type": "code",
   "execution_count": 75,
   "id": "e88ef0e1-267b-4086-83ce-2a5af6d1f9b2",
   "metadata": {},
   "outputs": [
    {
     "name": "stdout",
     "output_type": "stream",
     "text": [
      "Insert first number 51\n",
      "Insert second number 3\n"
     ]
    },
    {
     "data": {
      "text/latex": [
       "$\\displaystyle \\text{Press 1 to compute } {51}^{3} \\text{or 2 to compute } \\frac{51}{3}$"
      ],
      "text/plain": [
       "<IPython.core.display.Math object>"
      ]
     },
     "metadata": {},
     "output_type": "display_data"
    },
    {
     "name": "stdout",
     "output_type": "stream",
     "text": [
      " 2\n"
     ]
    },
    {
     "data": {
      "text/latex": [
       "$\\displaystyle \\frac{51}{3} = 17$"
      ],
      "text/plain": [
       "<IPython.core.display.Math object>"
      ]
     },
     "metadata": {},
     "output_type": "display_data"
    }
   ],
   "source": [
    "calcola()"
   ]
  },
  {
   "cell_type": "code",
   "execution_count": 3,
   "id": "b5697a16-2507-495f-95a8-992bb2f90058",
   "metadata": {},
   "outputs": [],
   "source": [
    "# Guess The Number game\n",
    "import random #import Random\n",
    "# from numpy import random | Different way\n",
    "\n",
    "\n",
    "def guess():\n",
    "    \n",
    "    number = random.randint(0, 1001) #random Python component\n",
    "    \n",
    "    print('Guess the number from 0 to 1000')\n",
    "    \n",
    "    while True: #infinite loop\n",
    "        a = input()\n",
    "        aint = int(a)\n",
    "\n",
    "        if aint != number: #if the input isn't equal to ( != ) the random number then:\n",
    "            if aint > number:\n",
    "                print('Less!')\n",
    "            elif aint < number: \n",
    "                print('More!')\n",
    "        else: \n",
    "            print('You found it the number was ' +  str(number) + ' and your guess was ' + str(aint) )\n",
    "            break\n"
   ]
  },
  {
   "cell_type": "code",
   "execution_count": 4,
   "id": "b1f4f73a-86a9-44a9-9d3c-607e843528b5",
   "metadata": {},
   "outputs": [
    {
     "name": "stdout",
     "output_type": "stream",
     "text": [
      "Guess the number from 0 to 1000\n"
     ]
    },
    {
     "name": "stdout",
     "output_type": "stream",
     "text": [
      " 1000\n"
     ]
    },
    {
     "name": "stdout",
     "output_type": "stream",
     "text": [
      "Less!\n"
     ]
    },
    {
     "name": "stdout",
     "output_type": "stream",
     "text": [
      " 500\n"
     ]
    },
    {
     "name": "stdout",
     "output_type": "stream",
     "text": [
      "Less!\n"
     ]
    },
    {
     "name": "stdout",
     "output_type": "stream",
     "text": [
      " 100\n"
     ]
    },
    {
     "name": "stdout",
     "output_type": "stream",
     "text": [
      "More!\n"
     ]
    },
    {
     "name": "stdout",
     "output_type": "stream",
     "text": [
      " 200\n"
     ]
    },
    {
     "name": "stdout",
     "output_type": "stream",
     "text": [
      "Less!\n"
     ]
    },
    {
     "name": "stdout",
     "output_type": "stream",
     "text": [
      " 150\n"
     ]
    },
    {
     "name": "stdout",
     "output_type": "stream",
     "text": [
      "More!\n"
     ]
    },
    {
     "name": "stdout",
     "output_type": "stream",
     "text": [
      " 180\n"
     ]
    },
    {
     "name": "stdout",
     "output_type": "stream",
     "text": [
      "More!\n"
     ]
    },
    {
     "name": "stdout",
     "output_type": "stream",
     "text": [
      " 191\n"
     ]
    },
    {
     "name": "stdout",
     "output_type": "stream",
     "text": [
      "More!\n"
     ]
    },
    {
     "name": "stdout",
     "output_type": "stream",
     "text": [
      " 199\n"
     ]
    },
    {
     "name": "stdout",
     "output_type": "stream",
     "text": [
      "Less!\n"
     ]
    },
    {
     "name": "stdout",
     "output_type": "stream",
     "text": [
      " 195\n"
     ]
    },
    {
     "name": "stdout",
     "output_type": "stream",
     "text": [
      "You found it the number was 195 and your guess was 195\n"
     ]
    }
   ],
   "source": [
    "guess()"
   ]
  },
  {
   "cell_type": "code",
   "execution_count": 2,
   "id": "510ddb87-5c08-4ba8-b2b5-e9310b7dc411",
   "metadata": {},
   "outputs": [
    {
     "name": "stdout",
     "output_type": "stream",
     "text": [
      "Interactive namespace is empty.\n"
     ]
    }
   ],
   "source": []
  }
 ],
 "metadata": {
  "kernelspec": {
   "display_name": "Python 3 (ipykernel)",
   "language": "python",
   "name": "python3"
  },
  "language_info": {
   "codemirror_mode": {
    "name": "ipython",
    "version": 3
   },
   "file_extension": ".py",
   "mimetype": "text/x-python",
   "name": "python",
   "nbconvert_exporter": "python",
   "pygments_lexer": "ipython3",
   "version": "3.8.12"
  }
 },
 "nbformat": 4,
 "nbformat_minor": 5
}
