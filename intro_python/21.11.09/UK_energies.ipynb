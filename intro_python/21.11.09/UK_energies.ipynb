{
 "cells": [
  {
   "cell_type": "code",
   "execution_count": 10,
   "metadata": {},
   "outputs": [],
   "source": [
    "import pandas as pd\n",
    "import datetime as dt\n",
    "import string\n",
    "import seaborn\n",
    "import matplotlib.pyplot as plt\n",
    "from seaborn.categorical import barplot"
   ]
  },
  {
   "cell_type": "code",
   "execution_count": 21,
   "metadata": {},
   "outputs": [
    {
     "data": {
      "text/html": [
       "<div>\n",
       "<style scoped>\n",
       "    .dataframe tbody tr th:only-of-type {\n",
       "        vertical-align: middle;\n",
       "    }\n",
       "\n",
       "    .dataframe tbody tr th {\n",
       "        vertical-align: top;\n",
       "    }\n",
       "\n",
       "    .dataframe thead th {\n",
       "        text-align: right;\n",
       "    }\n",
       "</style>\n",
       "<table border=\"1\" class=\"dataframe\">\n",
       "  <thead>\n",
       "    <tr style=\"text-align: right;\">\n",
       "      <th></th>\n",
       "      <th>timestamp</th>\n",
       "      <th>coal</th>\n",
       "      <th>nuclear</th>\n",
       "      <th>wind</th>\n",
       "      <th>hydro</th>\n",
       "      <th>solar</th>\n",
       "    </tr>\n",
       "  </thead>\n",
       "  <tbody>\n",
       "    <tr>\n",
       "      <th>0</th>\n",
       "      <td>2012-01-01 00:00:01</td>\n",
       "      <td>8693</td>\n",
       "      <td>7121</td>\n",
       "      <td>2740</td>\n",
       "      <td>728</td>\n",
       "      <td>0.0</td>\n",
       "    </tr>\n",
       "    <tr>\n",
       "      <th>1</th>\n",
       "      <td>2012-01-01 00:05:06</td>\n",
       "      <td>8650</td>\n",
       "      <td>7120</td>\n",
       "      <td>2812</td>\n",
       "      <td>732</td>\n",
       "      <td>0.0</td>\n",
       "    </tr>\n",
       "    <tr>\n",
       "      <th>2</th>\n",
       "      <td>2012-01-01 00:10:01</td>\n",
       "      <td>8880</td>\n",
       "      <td>7125</td>\n",
       "      <td>2896</td>\n",
       "      <td>744</td>\n",
       "      <td>0.0</td>\n",
       "    </tr>\n",
       "    <tr>\n",
       "      <th>3</th>\n",
       "      <td>2012-01-01 00:15:01</td>\n",
       "      <td>9111</td>\n",
       "      <td>7122</td>\n",
       "      <td>2964</td>\n",
       "      <td>748</td>\n",
       "      <td>0.0</td>\n",
       "    </tr>\n",
       "    <tr>\n",
       "      <th>4</th>\n",
       "      <td>2012-01-01 00:20:01</td>\n",
       "      <td>9195</td>\n",
       "      <td>7114</td>\n",
       "      <td>2992</td>\n",
       "      <td>750</td>\n",
       "      <td>0.0</td>\n",
       "    </tr>\n",
       "  </tbody>\n",
       "</table>\n",
       "</div>"
      ],
      "text/plain": [
       "              timestamp   coal   nuclear   wind   hydro   solar\n",
       "0   2012-01-01 00:00:01   8693      7121   2740     728     0.0\n",
       "1   2012-01-01 00:05:06   8650      7120   2812     732     0.0\n",
       "2   2012-01-01 00:10:01   8880      7125   2896     744     0.0\n",
       "3   2012-01-01 00:15:01   9111      7122   2964     748     0.0\n",
       "4   2012-01-01 00:20:01   9195      7114   2992     750     0.0"
      ]
     },
     "execution_count": 21,
     "metadata": {},
     "output_type": "execute_result"
    }
   ],
   "source": [
    "data = pandas.read_csv('energy_use_in_the_UK.csv', sep=' ;')\n",
    "data.columns\n",
    "\n",
    "# le tableau contient une unique colonne ce qui empeche de traiter les données, on définit donc un séparateur\n"
   ]
  },
  {
   "cell_type": "code",
   "execution_count": 19,
   "metadata": {},
   "outputs": [
    {
     "data": {
      "text/plain": [
       "<AxesSubplot:>"
      ]
     },
     "execution_count": 19,
     "metadata": {},
     "output_type": "execute_result"
    },
    {
     "data": {
      "image/png": "[encoded data removed]",
      "text/plain": [
       "<Figure size 432x288 with 1 Axes>"
      ]
     },
     "metadata": {
      "needs_background": "light"
     },
     "output_type": "display_data"
    }
   ],
   "source": [
    "# On affiche le graph\n",
    "data.plot()"
   ]
  },
  {
   "cell_type": "code",
   "execution_count": 35,
   "metadata": {},
   "outputs": [
    {
     "data": {
      "text/html": [
       "<div>\n",
       "<style scoped>\n",
       "    .dataframe tbody tr th:only-of-type {\n",
       "        vertical-align: middle;\n",
       "    }\n",
       "\n",
       "    .dataframe tbody tr th {\n",
       "        vertical-align: top;\n",
       "    }\n",
       "\n",
       "    .dataframe thead th {\n",
       "        text-align: right;\n",
       "    }\n",
       "</style>\n",
       "<table border=\"1\" class=\"dataframe\">\n",
       "  <thead>\n",
       "    <tr style=\"text-align: right;\">\n",
       "      <th></th>\n",
       "      <th>timestamp</th>\n",
       "      <th>coal</th>\n",
       "      <th>nuclear</th>\n",
       "      <th>wind</th>\n",
       "      <th>hydro</th>\n",
       "      <th>solar</th>\n",
       "    </tr>\n",
       "  </thead>\n",
       "  <tbody>\n",
       "    <tr>\n",
       "      <th>0</th>\n",
       "      <td>2012-01-01 00:00:01</td>\n",
       "      <td>8693</td>\n",
       "      <td>7121</td>\n",
       "      <td>2740</td>\n",
       "      <td>728</td>\n",
       "      <td>0.0</td>\n",
       "    </tr>\n",
       "    <tr>\n",
       "      <th>1</th>\n",
       "      <td>2012-01-01 00:05:06</td>\n",
       "      <td>8650</td>\n",
       "      <td>7120</td>\n",
       "      <td>2812</td>\n",
       "      <td>732</td>\n",
       "      <td>0.0</td>\n",
       "    </tr>\n",
       "    <tr>\n",
       "      <th>2</th>\n",
       "      <td>2012-01-01 00:10:01</td>\n",
       "      <td>8880</td>\n",
       "      <td>7125</td>\n",
       "      <td>2896</td>\n",
       "      <td>744</td>\n",
       "      <td>0.0</td>\n",
       "    </tr>\n",
       "    <tr>\n",
       "      <th>3</th>\n",
       "      <td>2012-01-01 00:15:01</td>\n",
       "      <td>9111</td>\n",
       "      <td>7122</td>\n",
       "      <td>2964</td>\n",
       "      <td>748</td>\n",
       "      <td>0.0</td>\n",
       "    </tr>\n",
       "    <tr>\n",
       "      <th>4</th>\n",
       "      <td>2012-01-01 00:20:01</td>\n",
       "      <td>9195</td>\n",
       "      <td>7114</td>\n",
       "      <td>2992</td>\n",
       "      <td>750</td>\n",
       "      <td>0.0</td>\n",
       "    </tr>\n",
       "    <tr>\n",
       "      <th>...</th>\n",
       "      <td>...</td>\n",
       "      <td>...</td>\n",
       "      <td>...</td>\n",
       "      <td>...</td>\n",
       "      <td>...</td>\n",
       "      <td>...</td>\n",
       "    </tr>\n",
       "    <tr>\n",
       "      <th>796448</th>\n",
       "      <td>2019-08-03 19:50:34</td>\n",
       "      <td>0</td>\n",
       "      <td>5466</td>\n",
       "      <td>687</td>\n",
       "      <td>408</td>\n",
       "      <td>119.0</td>\n",
       "    </tr>\n",
       "    <tr>\n",
       "      <th>796449</th>\n",
       "      <td>2019-08-03 19:55:37</td>\n",
       "      <td>0</td>\n",
       "      <td>5435</td>\n",
       "      <td>685</td>\n",
       "      <td>407</td>\n",
       "      <td>122.0</td>\n",
       "    </tr>\n",
       "    <tr>\n",
       "      <th>796450</th>\n",
       "      <td>2019-08-03 20:00:39</td>\n",
       "      <td>0</td>\n",
       "      <td>5404</td>\n",
       "      <td>682</td>\n",
       "      <td>405</td>\n",
       "      <td>127.0</td>\n",
       "    </tr>\n",
       "    <tr>\n",
       "      <th>796451</th>\n",
       "      <td>2019-08-03 20:05:34</td>\n",
       "      <td>0</td>\n",
       "      <td>5380</td>\n",
       "      <td>689</td>\n",
       "      <td>389</td>\n",
       "      <td>11.5</td>\n",
       "    </tr>\n",
       "    <tr>\n",
       "      <th>796452</th>\n",
       "      <td>2019-08-03 20:10:34</td>\n",
       "      <td>0</td>\n",
       "      <td>5358</td>\n",
       "      <td>709</td>\n",
       "      <td>374</td>\n",
       "      <td>11.5</td>\n",
       "    </tr>\n",
       "  </tbody>\n",
       "</table>\n",
       "<p>796453 rows × 6 columns</p>\n",
       "</div>"
      ],
      "text/plain": [
       "                 timestamp  coal  nuclear  wind  hydro  solar\n",
       "0      2012-01-01 00:00:01  8693     7121  2740    728    0.0\n",
       "1      2012-01-01 00:05:06  8650     7120  2812    732    0.0\n",
       "2      2012-01-01 00:10:01  8880     7125  2896    744    0.0\n",
       "3      2012-01-01 00:15:01  9111     7122  2964    748    0.0\n",
       "4      2012-01-01 00:20:01  9195     7114  2992    750    0.0\n",
       "...                    ...   ...      ...   ...    ...    ...\n",
       "796448 2019-08-03 19:50:34     0     5466   687    408  119.0\n",
       "796449 2019-08-03 19:55:37     0     5435   685    407  122.0\n",
       "796450 2019-08-03 20:00:39     0     5404   682    405  127.0\n",
       "796451 2019-08-03 20:05:34     0     5380   689    389   11.5\n",
       "796452 2019-08-03 20:10:34     0     5358   709    374   11.5\n",
       "\n",
       "[796453 rows x 6 columns]"
      ]
     },
     "execution_count": 35,
     "metadata": {},
     "output_type": "execute_result"
    }
   ],
   "source": [
    "# le nom de toutes les colonnes possède un espace au debut des colonnes, on va s'en debarasser\n",
    "\n",
    "data.rename(columns={\" timestamp\": \"timestamp\", \" coal\": \"coal\",\" nuclear\": \"nuclear\",\" wind\": \"wind\",\" hydro\": \"hydro\",\" solar\": \"solar\"})"
   ]
  },
  {
   "cell_type": "code",
   "execution_count": 34,
   "metadata": {},
   "outputs": [],
   "source": [
    "# On essaye d'interpoler les valeurs manquantes ou abbérantes toutes les 5min"
   ]
  },
  {
   "cell_type": "code",
   "execution_count": null,
   "metadata": {},
   "outputs": [],
   "source": [
    "# On choisit la bonne représentation"
   ]
  },
  {
   "cell_type": "code",
   "execution_count": null,
   "metadata": {},
   "outputs": [],
   "source": []
  },
  {
   "cell_type": "markdown",
   "metadata": {},
   "source": []
  }
 ],
 "metadata": {
  "interpreter": {
   "hash": "aee8b7b246df8f9039afb4144a1f6fd8d2ca17a180786b69acc140d282b71a49"
  },
  "kernelspec": {
   "display_name": "Python 3.10.0 64-bit",
   "language": "python",
   "name": "python3"
  },
  "language_info": {
   "codemirror_mode": {
    "name": "ipython",
    "version": 3
   },
   "file_extension": ".py",
   "mimetype": "text/x-python",
   "name": "python",
   "nbconvert_exporter": "python",
   "pygments_lexer": "ipython3",
   "version": "3.9.2"
  },
  "orig_nbformat": 4
 },
 "nbformat": 4,
 "nbformat_minor": 2
}
