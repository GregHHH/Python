{
 "cells": [
  {
   "cell_type": "code",
   "execution_count": 24,
   "metadata": {},
   "outputs": [],
   "source": [
    "import pandas as pd\n",
    "import numpy as np"
   ]
  },
  {
   "cell_type": "code",
   "execution_count": 25,
   "metadata": {},
   "outputs": [
    {
     "data": {
      "text/html": [
       "<div>\n",
       "<style scoped>\n",
       "    .dataframe tbody tr th:only-of-type {\n",
       "        vertical-align: middle;\n",
       "    }\n",
       "\n",
       "    .dataframe tbody tr th {\n",
       "        vertical-align: top;\n",
       "    }\n",
       "\n",
       "    .dataframe thead th {\n",
       "        text-align: right;\n",
       "    }\n",
       "</style>\n",
       "<table border=\"1\" class=\"dataframe\">\n",
       "  <thead>\n",
       "    <tr style=\"text-align: right;\">\n",
       "      <th></th>\n",
       "      <th>event</th>\n",
       "    </tr>\n",
       "  </thead>\n",
       "  <tbody>\n",
       "    <tr>\n",
       "      <th>0</th>\n",
       "      <td>il souhaite faire une loa sur une duree de 24 ...</td>\n",
       "    </tr>\n",
       "    <tr>\n",
       "      <th>1</th>\n",
       "      <td>il souhaite financer le vehicule au comptant o...</td>\n",
       "    </tr>\n",
       "    <tr>\n",
       "      <th>2</th>\n",
       "      <td>elle est a l'ecoute des offres en loa avec un ...</td>\n",
       "    </tr>\n",
       "    <tr>\n",
       "      <th>3</th>\n",
       "      <td>elle ne sait pas par quelle mode de financemen...</td>\n",
       "    </tr>\n",
       "    <tr>\n",
       "      <th>4</th>\n",
       "      <td>il souhaite un credit pour professionnel.</td>\n",
       "    </tr>\n",
       "    <tr>\n",
       "      <th>...</th>\n",
       "      <td>...</td>\n",
       "    </tr>\n",
       "    <tr>\n",
       "      <th>14054</th>\n",
       "      <td>il souhaite un credit aupres de sa banque.</td>\n",
       "    </tr>\n",
       "    <tr>\n",
       "      <th>14055</th>\n",
       "      <td>elle fait un credit partiel aupres de sa banque.</td>\n",
       "    </tr>\n",
       "    <tr>\n",
       "      <th>14056</th>\n",
       "      <td>il est a l'ecoute des offres de credit partiel.</td>\n",
       "    </tr>\n",
       "    <tr>\n",
       "      <th>14057</th>\n",
       "      <td>il souhaite une offre pour un credit a titre c...</td>\n",
       "    </tr>\n",
       "    <tr>\n",
       "      <th>14058</th>\n",
       "      <td>il souhaite un credit.</td>\n",
       "    </tr>\n",
       "  </tbody>\n",
       "</table>\n",
       "<p>14059 rows × 1 columns</p>\n",
       "</div>"
      ],
      "text/plain": [
       "                                                   event\n",
       "0      il souhaite faire une loa sur une duree de 24 ...\n",
       "1      il souhaite financer le vehicule au comptant o...\n",
       "2      elle est a l'ecoute des offres en loa avec un ...\n",
       "3      elle ne sait pas par quelle mode de financemen...\n",
       "4              il souhaite un credit pour professionnel.\n",
       "...                                                  ...\n",
       "14054         il souhaite un credit aupres de sa banque.\n",
       "14055   elle fait un credit partiel aupres de sa banque.\n",
       "14056    il est a l'ecoute des offres de credit partiel.\n",
       "14057  il souhaite une offre pour un credit a titre c...\n",
       "14058                             il souhaite un credit.\n",
       "\n",
       "[14059 rows x 1 columns]"
      ]
     },
     "execution_count": 25,
     "metadata": {},
     "output_type": "execute_result"
    }
   ],
   "source": [
    "df = pd.read_csv('comments.csv');df"
   ]
  },
  {
   "cell_type": "markdown",
   "metadata": {},
   "source": [
    "# Etape 1: \n",
    "Analyse exploratoire"
   ]
  },
  {
   "cell_type": "code",
   "execution_count": 26,
   "metadata": {},
   "outputs": [
    {
     "data": {
      "text/html": [
       "<div>\n",
       "<style scoped>\n",
       "    .dataframe tbody tr th:only-of-type {\n",
       "        vertical-align: middle;\n",
       "    }\n",
       "\n",
       "    .dataframe tbody tr th {\n",
       "        vertical-align: top;\n",
       "    }\n",
       "\n",
       "    .dataframe thead th {\n",
       "        text-align: right;\n",
       "    }\n",
       "</style>\n",
       "<table border=\"1\" class=\"dataframe\">\n",
       "  <thead>\n",
       "    <tr style=\"text-align: right;\">\n",
       "      <th></th>\n",
       "      <th>event</th>\n",
       "    </tr>\n",
       "  </thead>\n",
       "  <tbody>\n",
       "    <tr>\n",
       "      <th>count</th>\n",
       "      <td>14059</td>\n",
       "    </tr>\n",
       "    <tr>\n",
       "      <th>unique</th>\n",
       "      <td>4711</td>\n",
       "    </tr>\n",
       "    <tr>\n",
       "      <th>top</th>\n",
       "      <td>il souhaite un credit.</td>\n",
       "    </tr>\n",
       "    <tr>\n",
       "      <th>freq</th>\n",
       "      <td>375</td>\n",
       "    </tr>\n",
       "  </tbody>\n",
       "</table>\n",
       "</div>"
      ],
      "text/plain": [
       "                         event\n",
       "count                    14059\n",
       "unique                    4711\n",
       "top     il souhaite un credit.\n",
       "freq                       375"
      ]
     },
     "execution_count": 26,
     "metadata": {},
     "output_type": "execute_result"
    }
   ],
   "source": [
    "# describe\n",
    "df.describe()"
   ]
  },
  {
   "cell_type": "code",
   "execution_count": 27,
   "metadata": {},
   "outputs": [],
   "source": [
    "df_unique = df.value_counts()"
   ]
  },
  {
   "cell_type": "code",
   "execution_count": 28,
   "metadata": {},
   "outputs": [],
   "source": [
    "# nombre de mots\n",
    "# df[\"nmb_words\"] = df[\"event\"].str.split(' ').str.len()\n",
    "df[\"nmb_words\"] = df[\"event\"].apply(lambda x: len(str(x).split(' ')))"
   ]
  },
  {
   "cell_type": "code",
   "execution_count": 29,
   "metadata": {},
   "outputs": [],
   "source": [
    "# nombre de charactères\n",
    "df[\"nmb_char\"] = df[\"event\"].apply(lambda x: len(str(x)))"
   ]
  },
  {
   "cell_type": "code",
   "execution_count": 30,
   "metadata": {},
   "outputs": [],
   "source": [
    "# Nombre de phrases\n",
    "df[\"nmb_sentences\"] =df[\"event\"].apply(lambda x: len(str(x).split('.')))"
   ]
  },
  {
   "cell_type": "code",
   "execution_count": 31,
   "metadata": {},
   "outputs": [
    {
     "data": {
      "text/html": [
       "<div>\n",
       "<style scoped>\n",
       "    .dataframe tbody tr th:only-of-type {\n",
       "        vertical-align: middle;\n",
       "    }\n",
       "\n",
       "    .dataframe tbody tr th {\n",
       "        vertical-align: top;\n",
       "    }\n",
       "\n",
       "    .dataframe thead th {\n",
       "        text-align: right;\n",
       "    }\n",
       "</style>\n",
       "<table border=\"1\" class=\"dataframe\">\n",
       "  <thead>\n",
       "    <tr style=\"text-align: right;\">\n",
       "      <th></th>\n",
       "      <th>event</th>\n",
       "      <th>nmb_words</th>\n",
       "      <th>nmb_char</th>\n",
       "      <th>nmb_sentences</th>\n",
       "    </tr>\n",
       "  </thead>\n",
       "  <tbody>\n",
       "    <tr>\n",
       "      <th>0</th>\n",
       "      <td>il souhaite faire une loa sur une duree de 24 ...</td>\n",
       "      <td>11</td>\n",
       "      <td>50</td>\n",
       "      <td>1</td>\n",
       "    </tr>\n",
       "    <tr>\n",
       "      <th>1</th>\n",
       "      <td>il souhaite financer le vehicule au comptant o...</td>\n",
       "      <td>12</td>\n",
       "      <td>68</td>\n",
       "      <td>2</td>\n",
       "    </tr>\n",
       "    <tr>\n",
       "      <th>2</th>\n",
       "      <td>elle est a l'ecoute des offres en loa avec un ...</td>\n",
       "      <td>13</td>\n",
       "      <td>65</td>\n",
       "      <td>3</td>\n",
       "    </tr>\n",
       "    <tr>\n",
       "      <th>3</th>\n",
       "      <td>elle ne sait pas par quelle mode de financemen...</td>\n",
       "      <td>10</td>\n",
       "      <td>54</td>\n",
       "      <td>2</td>\n",
       "    </tr>\n",
       "    <tr>\n",
       "      <th>4</th>\n",
       "      <td>il souhaite un credit pour professionnel.</td>\n",
       "      <td>6</td>\n",
       "      <td>41</td>\n",
       "      <td>2</td>\n",
       "    </tr>\n",
       "    <tr>\n",
       "      <th>...</th>\n",
       "      <td>...</td>\n",
       "      <td>...</td>\n",
       "      <td>...</td>\n",
       "      <td>...</td>\n",
       "    </tr>\n",
       "    <tr>\n",
       "      <th>14054</th>\n",
       "      <td>il souhaite un credit aupres de sa banque.</td>\n",
       "      <td>8</td>\n",
       "      <td>42</td>\n",
       "      <td>2</td>\n",
       "    </tr>\n",
       "    <tr>\n",
       "      <th>14055</th>\n",
       "      <td>elle fait un credit partiel aupres de sa banque.</td>\n",
       "      <td>9</td>\n",
       "      <td>48</td>\n",
       "      <td>2</td>\n",
       "    </tr>\n",
       "    <tr>\n",
       "      <th>14056</th>\n",
       "      <td>il est a l'ecoute des offres de credit partiel.</td>\n",
       "      <td>9</td>\n",
       "      <td>47</td>\n",
       "      <td>2</td>\n",
       "    </tr>\n",
       "    <tr>\n",
       "      <th>14057</th>\n",
       "      <td>il souhaite une offre pour un credit a titre c...</td>\n",
       "      <td>10</td>\n",
       "      <td>56</td>\n",
       "      <td>2</td>\n",
       "    </tr>\n",
       "    <tr>\n",
       "      <th>14058</th>\n",
       "      <td>il souhaite un credit.</td>\n",
       "      <td>4</td>\n",
       "      <td>22</td>\n",
       "      <td>2</td>\n",
       "    </tr>\n",
       "  </tbody>\n",
       "</table>\n",
       "<p>14059 rows × 4 columns</p>\n",
       "</div>"
      ],
      "text/plain": [
       "                                                   event  nmb_words  nmb_char  \\\n",
       "0      il souhaite faire une loa sur une duree de 24 ...         11        50   \n",
       "1      il souhaite financer le vehicule au comptant o...         12        68   \n",
       "2      elle est a l'ecoute des offres en loa avec un ...         13        65   \n",
       "3      elle ne sait pas par quelle mode de financemen...         10        54   \n",
       "4              il souhaite un credit pour professionnel.          6        41   \n",
       "...                                                  ...        ...       ...   \n",
       "14054         il souhaite un credit aupres de sa banque.          8        42   \n",
       "14055   elle fait un credit partiel aupres de sa banque.          9        48   \n",
       "14056    il est a l'ecoute des offres de credit partiel.          9        47   \n",
       "14057  il souhaite une offre pour un credit a titre c...         10        56   \n",
       "14058                             il souhaite un credit.          4        22   \n",
       "\n",
       "       nmb_sentences  \n",
       "0                  1  \n",
       "1                  2  \n",
       "2                  3  \n",
       "3                  2  \n",
       "4                  2  \n",
       "...              ...  \n",
       "14054              2  \n",
       "14055              2  \n",
       "14056              2  \n",
       "14057              2  \n",
       "14058              2  \n",
       "\n",
       "[14059 rows x 4 columns]"
      ]
     },
     "execution_count": 31,
     "metadata": {},
     "output_type": "execute_result"
    }
   ],
   "source": [
    "df"
   ]
  },
  {
   "cell_type": "code",
   "execution_count": 32,
   "metadata": {},
   "outputs": [
    {
     "data": {
      "text/plain": [
       "7.852763354434882"
      ]
     },
     "execution_count": 32,
     "metadata": {},
     "output_type": "execute_result"
    }
   ],
   "source": [
    "df_avg_words = df[\"nmb_words\"].mean(); df_avg_words\n"
   ]
  },
  {
   "cell_type": "code",
   "execution_count": 33,
   "metadata": {},
   "outputs": [
    {
     "data": {
      "text/plain": [
       "2.0767479906109965"
      ]
     },
     "execution_count": 33,
     "metadata": {},
     "output_type": "execute_result"
    }
   ],
   "source": [
    "df_avg_sentences = df[\"nmb_sentences\"].mean(); df_avg_sentences"
   ]
  },
  {
   "cell_type": "code",
   "execution_count": 34,
   "metadata": {},
   "outputs": [
    {
     "data": {
      "text/plain": [
       "44.471584038694076"
      ]
     },
     "execution_count": 34,
     "metadata": {},
     "output_type": "execute_result"
    }
   ],
   "source": [
    "df_avg_char = df[\"nmb_char\"].mean(); df_avg_char"
   ]
  },
  {
   "cell_type": "code",
   "execution_count": 40,
   "metadata": {},
   "outputs": [],
   "source": [
    "# nombre moyen de char par phrase pour chaque ligne\n",
    "df[\"avg_char_sentences\"] = df[\"event\"].apply(lambda x: len(str(x).split('.')))\n",
    "df[\"avg_char_sentences\"] = df[\"nmb_char\"] / df[\"nmb_sentences\"]"
   ]
  },
  {
   "cell_type": "code",
   "execution_count": 42,
   "metadata": {},
   "outputs": [],
   "source": [
    "# nombre moyen de mot par phrase pour chaque ligne\n",
    "df[\"avg_words_sentences\"] = df[\"event\"].apply(lambda x: len(str(x).split('.')))\n",
    "df[\"avg_words_sentences\"] = df[\"nmb_words\"] / df[\"nmb_sentences\"]"
   ]
  },
  {
   "cell_type": "code",
   "execution_count": 47,
   "metadata": {},
   "outputs": [
    {
     "data": {
      "text/html": [
       "<div>\n",
       "<style scoped>\n",
       "    .dataframe tbody tr th:only-of-type {\n",
       "        vertical-align: middle;\n",
       "    }\n",
       "\n",
       "    .dataframe tbody tr th {\n",
       "        vertical-align: top;\n",
       "    }\n",
       "\n",
       "    .dataframe thead th {\n",
       "        text-align: right;\n",
       "    }\n",
       "</style>\n",
       "<table border=\"1\" class=\"dataframe\">\n",
       "  <thead>\n",
       "    <tr style=\"text-align: right;\">\n",
       "      <th></th>\n",
       "      <th>event</th>\n",
       "      <th>nmb_words</th>\n",
       "      <th>nmb_char</th>\n",
       "      <th>nmb_sentences</th>\n",
       "      <th>avg_char_sentences</th>\n",
       "      <th>avg_words_sentences</th>\n",
       "    </tr>\n",
       "  </thead>\n",
       "  <tbody>\n",
       "    <tr>\n",
       "      <th>0</th>\n",
       "      <td>il souhaite faire une loa sur une duree de 24 ...</td>\n",
       "      <td>11</td>\n",
       "      <td>50</td>\n",
       "      <td>1</td>\n",
       "      <td>50.000000</td>\n",
       "      <td>11.000000</td>\n",
       "    </tr>\n",
       "    <tr>\n",
       "      <th>1</th>\n",
       "      <td>il souhaite financer le vehicule au comptant o...</td>\n",
       "      <td>12</td>\n",
       "      <td>68</td>\n",
       "      <td>2</td>\n",
       "      <td>34.000000</td>\n",
       "      <td>6.000000</td>\n",
       "    </tr>\n",
       "    <tr>\n",
       "      <th>2</th>\n",
       "      <td>elle est a l'ecoute des offres en loa avec un ...</td>\n",
       "      <td>13</td>\n",
       "      <td>65</td>\n",
       "      <td>3</td>\n",
       "      <td>21.666667</td>\n",
       "      <td>4.333333</td>\n",
       "    </tr>\n",
       "    <tr>\n",
       "      <th>3</th>\n",
       "      <td>elle ne sait pas par quelle mode de financemen...</td>\n",
       "      <td>10</td>\n",
       "      <td>54</td>\n",
       "      <td>2</td>\n",
       "      <td>27.000000</td>\n",
       "      <td>5.000000</td>\n",
       "    </tr>\n",
       "    <tr>\n",
       "      <th>4</th>\n",
       "      <td>il souhaite un credit pour professionnel.</td>\n",
       "      <td>6</td>\n",
       "      <td>41</td>\n",
       "      <td>2</td>\n",
       "      <td>20.500000</td>\n",
       "      <td>3.000000</td>\n",
       "    </tr>\n",
       "    <tr>\n",
       "      <th>...</th>\n",
       "      <td>...</td>\n",
       "      <td>...</td>\n",
       "      <td>...</td>\n",
       "      <td>...</td>\n",
       "      <td>...</td>\n",
       "      <td>...</td>\n",
       "    </tr>\n",
       "    <tr>\n",
       "      <th>14054</th>\n",
       "      <td>il souhaite un credit aupres de sa banque.</td>\n",
       "      <td>8</td>\n",
       "      <td>42</td>\n",
       "      <td>2</td>\n",
       "      <td>21.000000</td>\n",
       "      <td>4.000000</td>\n",
       "    </tr>\n",
       "    <tr>\n",
       "      <th>14055</th>\n",
       "      <td>elle fait un credit partiel aupres de sa banque.</td>\n",
       "      <td>9</td>\n",
       "      <td>48</td>\n",
       "      <td>2</td>\n",
       "      <td>24.000000</td>\n",
       "      <td>4.500000</td>\n",
       "    </tr>\n",
       "    <tr>\n",
       "      <th>14056</th>\n",
       "      <td>il est a l'ecoute des offres de credit partiel.</td>\n",
       "      <td>9</td>\n",
       "      <td>47</td>\n",
       "      <td>2</td>\n",
       "      <td>23.500000</td>\n",
       "      <td>4.500000</td>\n",
       "    </tr>\n",
       "    <tr>\n",
       "      <th>14057</th>\n",
       "      <td>il souhaite une offre pour un credit a titre c...</td>\n",
       "      <td>10</td>\n",
       "      <td>56</td>\n",
       "      <td>2</td>\n",
       "      <td>28.000000</td>\n",
       "      <td>5.000000</td>\n",
       "    </tr>\n",
       "    <tr>\n",
       "      <th>14058</th>\n",
       "      <td>il souhaite un credit.</td>\n",
       "      <td>4</td>\n",
       "      <td>22</td>\n",
       "      <td>2</td>\n",
       "      <td>11.000000</td>\n",
       "      <td>2.000000</td>\n",
       "    </tr>\n",
       "  </tbody>\n",
       "</table>\n",
       "<p>14059 rows × 6 columns</p>\n",
       "</div>"
      ],
      "text/plain": [
       "                                                   event  nmb_words  nmb_char  \\\n",
       "0      il souhaite faire une loa sur une duree de 24 ...         11        50   \n",
       "1      il souhaite financer le vehicule au comptant o...         12        68   \n",
       "2      elle est a l'ecoute des offres en loa avec un ...         13        65   \n",
       "3      elle ne sait pas par quelle mode de financemen...         10        54   \n",
       "4              il souhaite un credit pour professionnel.          6        41   \n",
       "...                                                  ...        ...       ...   \n",
       "14054         il souhaite un credit aupres de sa banque.          8        42   \n",
       "14055   elle fait un credit partiel aupres de sa banque.          9        48   \n",
       "14056    il est a l'ecoute des offres de credit partiel.          9        47   \n",
       "14057  il souhaite une offre pour un credit a titre c...         10        56   \n",
       "14058                             il souhaite un credit.          4        22   \n",
       "\n",
       "       nmb_sentences  avg_char_sentences  avg_words_sentences  \n",
       "0                  1           50.000000            11.000000  \n",
       "1                  2           34.000000             6.000000  \n",
       "2                  3           21.666667             4.333333  \n",
       "3                  2           27.000000             5.000000  \n",
       "4                  2           20.500000             3.000000  \n",
       "...              ...                 ...                  ...  \n",
       "14054              2           21.000000             4.000000  \n",
       "14055              2           24.000000             4.500000  \n",
       "14056              2           23.500000             4.500000  \n",
       "14057              2           28.000000             5.000000  \n",
       "14058              2           11.000000             2.000000  \n",
       "\n",
       "[14059 rows x 6 columns]"
      ]
     },
     "execution_count": 47,
     "metadata": {},
     "output_type": "execute_result"
    }
   ],
   "source": [
    "df"
   ]
  }
 ],
 "metadata": {
  "interpreter": {
   "hash": "361deaac8fffbe9850460e0290947570dc6946d11c04bcf3d64a6949b52b1f1b"
  },
  "kernelspec": {
   "display_name": "Python 3.8.8 64-bit ('base': conda)",
   "language": "python",
   "name": "python3"
  },
  "language_info": {
   "codemirror_mode": {
    "name": "ipython",
    "version": 3
   },
   "file_extension": ".py",
   "mimetype": "text/x-python",
   "name": "python",
   "nbconvert_exporter": "python",
   "pygments_lexer": "ipython3",
   "version": "3.8.8"
  },
  "orig_nbformat": 4
 },
 "nbformat": 4,
 "nbformat_minor": 2
}
