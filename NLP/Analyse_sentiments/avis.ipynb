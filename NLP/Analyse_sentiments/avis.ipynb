{
 "cells": [
  {
   "cell_type": "code",
   "execution_count": 2,
   "metadata": {},
   "outputs": [
    {
     "ename": "ModuleNotFoundError",
     "evalue": "No module named 'spacy'",
     "output_type": "error",
     "traceback": [
      "\u001b[0;31m---------------------------------------------------------------------------\u001b[0m",
      "\u001b[0;31mModuleNotFoundError\u001b[0m                       Traceback (most recent call last)",
      "\u001b[0;32m/tmp/ipykernel_5523/1764029347.py\u001b[0m in \u001b[0;36m<module>\u001b[0;34m\u001b[0m\n\u001b[1;32m      1\u001b[0m \u001b[0;32mimport\u001b[0m \u001b[0mpandas\u001b[0m \u001b[0;32mas\u001b[0m \u001b[0mpd\u001b[0m\u001b[0;34m\u001b[0m\u001b[0;34m\u001b[0m\u001b[0m\n\u001b[1;32m      2\u001b[0m \u001b[0;32mimport\u001b[0m \u001b[0mnltk\u001b[0m\u001b[0;34m\u001b[0m\u001b[0;34m\u001b[0m\u001b[0m\n\u001b[0;32m----> 3\u001b[0;31m \u001b[0;32mimport\u001b[0m \u001b[0mspacy\u001b[0m\u001b[0;34m\u001b[0m\u001b[0;34m\u001b[0m\u001b[0m\n\u001b[0m\u001b[1;32m      4\u001b[0m \u001b[0;32mimport\u001b[0m \u001b[0mnumpy\u001b[0m\u001b[0;34m\u001b[0m\u001b[0;34m\u001b[0m\u001b[0m\n\u001b[1;32m      5\u001b[0m \u001b[0;32mimport\u001b[0m \u001b[0mmath\u001b[0m\u001b[0;34m\u001b[0m\u001b[0;34m\u001b[0m\u001b[0m\n",
      "\u001b[0;31mModuleNotFoundError\u001b[0m: No module named 'spacy'"
     ]
    }
   ],
   "source": [
    "import pandas as pd\n",
    "import nltk\n",
    "import spacy\n",
    "import numpy\n",
    "import math\n",
    "import re\n",
    "from dateutil import parser\n",
    "import seaborn as sns\n",
    "from sklearn.model_selection import train_test_split\n",
    "from datetime import datetime\n",
    "from dateutil.parser import parse\n",
    "import matplotlib.pyplot as plt\n",
    "import dateparser"
   ]
  },
  {
   "cell_type": "code",
   "execution_count": null,
   "metadata": {},
   "outputs": [
    {
     "data": {
      "text/html": [
       "<div><div id=5f3d92f0-59e8-4983-aaf3-27e17dbf6e4a style=\"display:none; background-color:#9D6CFF; color:white; width:200px; height:30px; padding-left:5px; border-radius:4px; flex-direction:row; justify-content:space-around; align-items:center;\" onmouseover=\"this.style.backgroundColor='#BA9BF8'\" onmouseout=\"this.style.backgroundColor='#9D6CFF'\" onclick=\"window.commands?.execute('create-mitosheet-from-dataframe-output');\">See Full Dataframe in Mito</div> <script> if (window.commands.hasCommand('create-mitosheet-from-dataframe-output')) document.getElementById('5f3d92f0-59e8-4983-aaf3-27e17dbf6e4a').style.display = 'flex' </script> <table border=\"1\" class=\"dataframe\">\n",
       "  <thead>\n",
       "    <tr style=\"text-align: right;\">\n",
       "      <th></th>\n",
       "      <th>Note</th>\n",
       "      <th>Description</th>\n",
       "      <th>Date</th>\n",
       "      <th>nombre_good</th>\n",
       "      <th>nombre_follow</th>\n",
       "      <th>key</th>\n",
       "    </tr>\n",
       "  </thead>\n",
       "  <tbody>\n",
       "    <tr>\n",
       "      <th>0</th>\n",
       "      <td>3,0</td>\n",
       "      <td>On s'attendait à une fin plus élaborée, clairement. Des débuts engagés de Squid Game (dénonçant l'extrême pauvreté qui touche une grande partie de la population, le désintérêt des riches face à ces prolétaires à la rue, l’appât du gain qui fait faire n'importe quoi...), sa mise en scène clinquante qui nous aguiche l’œil (les jeux comme des cours de récré mortelles, on a adoré le concept), le personnage principal (\"le bon gars, le vrai\") dont a vite pitié, quelques seconds rôles attachants (Ali... On ne s'en remet pas), retrouver \"le mec de Busan\" (oui, on a tous eu le même réflexe) pour un petit rôle, un sixième épisode en apogée dramatique de la série... Squid Game a beaucoup d'idées. Mais voilà, après cette vague immense d'atouts, la série semble ne plus savoir trop quoi en faire, et retombe dès l'épisode 7 dans le train-train habituel des films de jeux sadiques où l'on pousse un groupe de personnes à s'entretuer, nous mettant sous le nez des personnages ultra-caricaturaux (le couple du truand et de la folle - élue personnage insupportable de la série -) ou si vicieux que l'on finit par se moquer éperdument de leur sort (l'ami d'enfance du héros), et surtout, une fin à la \\nspoiler: \\nSaw\\n. On n'en revient pas d'avoir exactement le même twist, à savoir que \\nspoiler: \\nle créateur du jeu qui se cache parmi les \"morts\" et se rince l’œil sur le déroulé des épreuves\\n... On avait déjà à demi compris ce twist, lorsque la série dévoilait trop tôt que \\nspoiler: \\nle vieux ne gâte pas tant qu'il veut bien le laisser paraître (à la fin de l'épisode six) et qu'il est l'un des uniques personnages dont la mort n'est pas montrée en gros plan en face caméra (cette mise en scène des scènes de tuerie nous agace, on se l'avoue), ce qui interpelle forcément\\n. Une demi-surprise, donc, pour une déception totale, en revanche. On a aussi failli s'étrangler devant le spectacle navrant des \\nspoiler: \\n VIP masqués en animaux \"boule à facettes\" qui viennent faire des paris sur les gagnants en gloussant de plaisir à chaque mort\\n, ce qui ressemble à la ligne directrice des séries \"dark\" Netflix, qui critiquent de façon balourde, n'impressionnent que les jeunes ados (et encore), et font rire les amateurs de scénario plus fins. La fin laisse aussi la porte ouverte à plusieurs saisons, Netflix oblige, ce que l'on ne trouve pas nécessaire dans l'immédiat (à voir s'il l'on parvient à nous prouver le contraire avec une super saison 2, mais on en doute...). Si suite il y a, on préfèrera voir des alliances entre joueurs comme dans les débuts de Squid Game pour déjouer les pièges, plutôt que des gens qui se tirent dans les pattes de façon mesquine et ultra-prévisible, comme dans les films d'épouvante qu'on commence à connaître. On retient surtout le héros (\"vraiment, c'est un bon gars\"), le pauvre Ali, quelques jeux déchirants (les billes) ou surprenants (les trois premiers), une mise en scène originale, \"le mec de Busan\" et une critique acerbe de la société. Mais les épisodes 7 à 9 commencent une chute vertigineuse (sans besoin de verre faussement trempé) vers une fin des plus faciles, vue et revue si vous connaissez une certaine saga de films d'épouvante, et assez prévisible. You Win, pour cette saison, mais Game over pour la suite.</td>\n",
       "      <td>Publiée le 2 octobre 2021</td>\n",
       "      <td>22\\n\\n\\n10</td>\n",
       "      <td>Suivre son activité</td>\n",
       "      <td>0</td>\n",
       "    </tr>\n",
       "    <tr>\n",
       "      <th>1</th>\n",
       "      <td>2,5</td>\n",
       "      <td>Encore une série très sur-côtée ! Tout est prévisible au possible, l'idée n'est pas si originale que ça et la fin est vraiment mauvaise... Cependant le jeu d'acteur et la qualité visuelle sont excellents ! On se laisse prendre au fur et à mesure des épisodes mais au final on savait très bien ce qui allait se passer quand, comment et pourquoi et c'est bien dommage. On est bien loin des gros drames coréens ! Ici c'est soft, un peu débile et souvent insupportable mais tout cela reste regardable.</td>\n",
       "      <td>Publiée le 1 octobre 2021</td>\n",
       "      <td>24\\n\\n\\n12</td>\n",
       "      <td>Suivre son activité</td>\n",
       "      <td>1</td>\n",
       "    </tr>\n",
       "    <tr>\n",
       "      <th>2</th>\n",
       "      <td>4,5</td>\n",
       "      <td>Pas fan des séries coréennes en général. Je dois avouer que celle la m'a scotché de bout en bout. Incroyablement cruelle, caricaturant la société d'une façon intelligente. Je conseils !</td>\n",
       "      <td>Publiée le 22 septembre 2021</td>\n",
       "      <td>20\\n\\n\\n21</td>\n",
       "      <td>Suivre son activité</td>\n",
       "      <td>2</td>\n",
       "    </tr>\n",
       "    <tr>\n",
       "      <th>3</th>\n",
       "      <td>4,5</td>\n",
       "      <td>Disons le tout de suite, je suis fan depuis 30 ans des productions asiatiques d'extrême orient, que cela soit des films ou des séries. Avant même s'avoir entendu parlé du buzz créé par cette série, son origine et son pitch m'a terriblement plu en pensant évidemment avant tout à Battle Royale ou la série Liar Game. Bref, je me lance dedans sans hésitation et.... Je n'ai pas pu décrocher jusqu'au dernier épisode. Tout est dit, c'est intense, créatif, accrocheur et terriblement addictif. Je ne souhaite pas forcément qu'il y ait une autre saison car il est parfois bon d'avoir des zones d'ombres qui laissent le téléspectateur à ses idées propres et également bon parfois de n'avoir qu'un seul et unique jet qui se suffit à lui-même sans risquer l'essoufflement que l'appât du gain créé trop souvent.</td>\n",
       "      <td>Publiée le 5 octobre 2021</td>\n",
       "      <td>9\\n\\n\\n10</td>\n",
       "      <td>Suivre son activité</td>\n",
       "      <td>3</td>\n",
       "    </tr>\n",
       "    <tr>\n",
       "      <th>4</th>\n",
       "      <td>4,0</td>\n",
       "      <td>Visuellement recherché, très ludique, rythmé et avec une galerie de personnages intéressants (parce que jamais parfaits). Avec Squid Game, les coréens mettent encore la barre haute avec cette série !</td>\n",
       "      <td>Publiée le 25 septembre 2021</td>\n",
       "      <td>7\\n\\n\\n\\n9</td>\n",
       "      <td>Suivre son activité</td>\n",
       "      <td>4</td>\n",
       "    </tr>\n",
       "    <tr>\n",
       "      <th>...</th>\n",
       "      <td>...</td>\n",
       "      <td>...</td>\n",
       "      <td>...</td>\n",
       "      <td>...</td>\n",
       "      <td>...</td>\n",
       "      <td>...</td>\n",
       "    </tr>\n",
       "    <tr>\n",
       "      <th>336</th>\n",
       "      <td>5,0</td>\n",
       "      <td>Vraiment une des meilleures séries que j'ai vu récemment. Original comparativement à toutes ces séries américaines qui nous sont présentées sans cesse.</td>\n",
       "      <td>Publiée le 24 octobre 2021</td>\n",
       "      <td>0\\n\\n\\n1</td>\n",
       "      <td>Suivre son activité</td>\n",
       "      <td>10</td>\n",
       "    </tr>\n",
       "    <tr>\n",
       "      <th>337</th>\n",
       "      <td>4,5</td>\n",
       "      <td>Une série qui fait réfléchir.La série met en scène une multitude de métaphores extrêmement violentes pour dénoncer les inégalités sociales. Elle est très psychologique contrairement à ce que certains peuvent penser ou dire au premier abord. Je la conseille à toutes personnes recherchant une série émotionnelle et psychologique.</td>\n",
       "      <td>Publiée le 26 octobre 2021</td>\n",
       "      <td>0\\n\\n\\n0</td>\n",
       "      <td>Suivre son activité</td>\n",
       "      <td>11</td>\n",
       "    </tr>\n",
       "    <tr>\n",
       "      <th>338</th>\n",
       "      <td>4,0</td>\n",
       "      <td>très bonne série nous tiens en haleine du début à la fin de chaque épisode. Série rythmé et vivante on ne dort pas.</td>\n",
       "      <td>Publiée le 26 octobre 2021</td>\n",
       "      <td>0\\n\\n\\n0</td>\n",
       "      <td>Suivre son activité</td>\n",
       "      <td>12</td>\n",
       "    </tr>\n",
       "    <tr>\n",
       "      <th>339</th>\n",
       "      <td>3,5</td>\n",
       "      <td>Bonne série,je trouve que c'est une version soft de battle Royale avec des rebondissements surtout a la fin mais rien qui explique un quelconque succès planétaire.</td>\n",
       "      <td>Publiée le 21 octobre 2021</td>\n",
       "      <td>0\\n\\n\\n0</td>\n",
       "      <td>Suivre son activité</td>\n",
       "      <td>13</td>\n",
       "    </tr>\n",
       "    <tr>\n",
       "      <th>340</th>\n",
       "      <td>4,5</td>\n",
       "      <td>Squid Game, encore une série Coréenne exceptionnel. L'inégalité riche/pauvre est bien démontréLes pauvres sont t ils vraiment prêt à tout pour survivre ?Les jeux sont très agréable à regarder et ça nous fais pensé à notre enfance Les jeux d acteurs sont extrêmement bon On est plongé sentimentalement dans chacun des personnagesSérie quasiment parfaite, je retire 0.5 pour la fin m'as déçuMais je recommande à tous cette série !</td>\n",
       "      <td>Publiée le 26 octobre 2021</td>\n",
       "      <td>0\\n\\n\\n0</td>\n",
       "      <td>Suivre son activité</td>\n",
       "      <td>14</td>\n",
       "    </tr>\n",
       "  </tbody>\n",
       "</table></div>"
      ],
      "text/plain": [
       "    Note                                        Description  \\\n",
       "0    3,0  On s'attendait à une fin plus élaborée, claire...   \n",
       "1    2,5  Encore une série très sur-côtée ! Tout est pré...   \n",
       "2    4,5  Pas fan des séries coréennes en général. Je do...   \n",
       "3    4,5  Disons le tout de suite, je suis fan depuis 30...   \n",
       "4    4,0  Visuellement recherché, très ludique, rythmé e...   \n",
       "..   ...                                                ...   \n",
       "336  5,0  Vraiment une des meilleures séries que j'ai vu...   \n",
       "337  4,5  Une série qui fait réfléchir.La série met en s...   \n",
       "338  4,0  très bonne série nous tiens en haleine du débu...   \n",
       "339  3,5  Bonne série,je trouve que c'est une version so...   \n",
       "340  4,5  Squid Game, encore une série Coréenne exceptio...   \n",
       "\n",
       "                             Date nombre_good        nombre_follow  key  \n",
       "0       Publiée le 2 octobre 2021  22\\n\\n\\n10  Suivre son activité    0  \n",
       "1       Publiée le 1 octobre 2021  24\\n\\n\\n12  Suivre son activité    1  \n",
       "2    Publiée le 22 septembre 2021  20\\n\\n\\n21  Suivre son activité    2  \n",
       "3       Publiée le 5 octobre 2021   9\\n\\n\\n10  Suivre son activité    3  \n",
       "4    Publiée le 25 septembre 2021  7\\n\\n\\n\\n9  Suivre son activité    4  \n",
       "..                            ...         ...                  ...  ...  \n",
       "336    Publiée le 24 octobre 2021    0\\n\\n\\n1  Suivre son activité   10  \n",
       "337    Publiée le 26 octobre 2021    0\\n\\n\\n0  Suivre son activité   11  \n",
       "338    Publiée le 26 octobre 2021    0\\n\\n\\n0  Suivre son activité   12  \n",
       "339    Publiée le 21 octobre 2021    0\\n\\n\\n0  Suivre son activité   13  \n",
       "340    Publiée le 26 octobre 2021    0\\n\\n\\n0  Suivre son activité   14  \n",
       "\n",
       "[341 rows x 6 columns]"
      ]
     },
     "execution_count": 212,
     "metadata": {},
     "output_type": "execute_result"
    }
   ],
   "source": [
    "df = pd.read_csv(\"allocine_squidgame.csv\");df"
   ]
  },
  {
   "cell_type": "code",
   "execution_count": null,
   "metadata": {},
   "outputs": [
    {
     "data": {
      "text/html": [
       "<div><div id=1359635c-d151-474d-b737-1eb78aa62b4f style=\"display:none; background-color:#9D6CFF; color:white; width:200px; height:30px; padding-left:5px; border-radius:4px; flex-direction:row; justify-content:space-around; align-items:center;\" onmouseover=\"this.style.backgroundColor='#BA9BF8'\" onmouseout=\"this.style.backgroundColor='#9D6CFF'\" onclick=\"window.commands?.execute('create-mitosheet-from-dataframe-output');\">See Full Dataframe in Mito</div> <script> if (window.commands.hasCommand('create-mitosheet-from-dataframe-output')) document.getElementById('1359635c-d151-474d-b737-1eb78aa62b4f').style.display = 'flex' </script> <table border=\"1\" class=\"dataframe\">\n",
       "  <thead>\n",
       "    <tr style=\"text-align: right;\">\n",
       "      <th></th>\n",
       "      <th>key</th>\n",
       "    </tr>\n",
       "  </thead>\n",
       "  <tbody>\n",
       "    <tr>\n",
       "      <th>count</th>\n",
       "      <td>341.000000</td>\n",
       "    </tr>\n",
       "    <tr>\n",
       "      <th>mean</th>\n",
       "      <td>6.920821</td>\n",
       "    </tr>\n",
       "    <tr>\n",
       "      <th>std</th>\n",
       "      <td>4.289132</td>\n",
       "    </tr>\n",
       "    <tr>\n",
       "      <th>min</th>\n",
       "      <td>0.000000</td>\n",
       "    </tr>\n",
       "    <tr>\n",
       "      <th>25%</th>\n",
       "      <td>3.000000</td>\n",
       "    </tr>\n",
       "    <tr>\n",
       "      <th>50%</th>\n",
       "      <td>7.000000</td>\n",
       "    </tr>\n",
       "    <tr>\n",
       "      <th>75%</th>\n",
       "      <td>11.000000</td>\n",
       "    </tr>\n",
       "    <tr>\n",
       "      <th>max</th>\n",
       "      <td>14.000000</td>\n",
       "    </tr>\n",
       "  </tbody>\n",
       "</table></div>"
      ],
      "text/plain": [
       "              key\n",
       "count  341.000000\n",
       "mean     6.920821\n",
       "std      4.289132\n",
       "min      0.000000\n",
       "25%      3.000000\n",
       "50%      7.000000\n",
       "75%     11.000000\n",
       "max     14.000000"
      ]
     },
     "execution_count": 213,
     "metadata": {},
     "output_type": "execute_result"
    }
   ],
   "source": [
    "df.describe()"
   ]
  },
  {
   "cell_type": "code",
   "execution_count": null,
   "metadata": {},
   "outputs": [
    {
     "name": "stdout",
     "output_type": "stream",
     "text": [
      "<class 'pandas.core.frame.DataFrame'>\n",
      "RangeIndex: 341 entries, 0 to 340\n",
      "Data columns (total 6 columns):\n",
      " #   Column         Non-Null Count  Dtype \n",
      "---  ------         --------------  ----- \n",
      " 0   Note           341 non-null    object\n",
      " 1   Description    341 non-null    object\n",
      " 2   Date           341 non-null    object\n",
      " 3   nombre_good    341 non-null    object\n",
      " 4   nombre_follow  341 non-null    object\n",
      " 5   key            341 non-null    int64 \n",
      "dtypes: int64(1), object(5)\n",
      "memory usage: 16.1+ KB\n"
     ]
    }
   ],
   "source": [
    "df.info()"
   ]
  },
  {
   "cell_type": "code",
   "execution_count": null,
   "metadata": {},
   "outputs": [],
   "source": [
    "df = df.drop(['key', 'nombre_follow'], axis=1)"
   ]
  },
  {
   "cell_type": "code",
   "execution_count": null,
   "metadata": {},
   "outputs": [
    {
     "data": {
      "text/html": [
       "<div><div id=dc081c66-36a9-4513-b3dd-06eee422da75 style=\"display:none; background-color:#9D6CFF; color:white; width:200px; height:30px; padding-left:5px; border-radius:4px; flex-direction:row; justify-content:space-around; align-items:center;\" onmouseover=\"this.style.backgroundColor='#BA9BF8'\" onmouseout=\"this.style.backgroundColor='#9D6CFF'\" onclick=\"window.commands?.execute('create-mitosheet-from-dataframe-output');\">See Full Dataframe in Mito</div> <script> if (window.commands.hasCommand('create-mitosheet-from-dataframe-output')) document.getElementById('dc081c66-36a9-4513-b3dd-06eee422da75').style.display = 'flex' </script> <table border=\"1\" class=\"dataframe\">\n",
       "  <thead>\n",
       "    <tr style=\"text-align: right;\">\n",
       "      <th></th>\n",
       "      <th>Note</th>\n",
       "      <th>Description</th>\n",
       "      <th>Date</th>\n",
       "      <th>nombre_good</th>\n",
       "    </tr>\n",
       "  </thead>\n",
       "  <tbody>\n",
       "    <tr>\n",
       "      <th>0</th>\n",
       "      <td>3,0</td>\n",
       "      <td>On s'attendait à une fin plus élaborée, clairement. Des débuts engagés de Squid Game (dénonçant l'extrême pauvreté qui touche une grande partie de la population, le désintérêt des riches face à ces prolétaires à la rue, l’appât du gain qui fait faire n'importe quoi...), sa mise en scène clinquante qui nous aguiche l’œil (les jeux comme des cours de récré mortelles, on a adoré le concept), le personnage principal (\"le bon gars, le vrai\") dont a vite pitié, quelques seconds rôles attachants (Ali... On ne s'en remet pas), retrouver \"le mec de Busan\" (oui, on a tous eu le même réflexe) pour un petit rôle, un sixième épisode en apogée dramatique de la série... Squid Game a beaucoup d'idées. Mais voilà, après cette vague immense d'atouts, la série semble ne plus savoir trop quoi en faire, et retombe dès l'épisode 7 dans le train-train habituel des films de jeux sadiques où l'on pousse un groupe de personnes à s'entretuer, nous mettant sous le nez des personnages ultra-caricaturaux (le couple du truand et de la folle - élue personnage insupportable de la série -) ou si vicieux que l'on finit par se moquer éperdument de leur sort (l'ami d'enfance du héros), et surtout, une fin à la spoiler: Saw. On n'en revient pas d'avoir exactement le même twist, à savoir que spoiler: le créateur du jeu qui se cache parmi les \"morts\" et se rince l’œil sur le déroulé des épreuves... On avait déjà à demi compris ce twist, lorsque la série dévoilait trop tôt que spoiler: le vieux ne gâte pas tant qu'il veut bien le laisser paraître (à la fin de l'épisode six) et qu'il est l'un des uniques personnages dont la mort n'est pas montrée en gros plan en face caméra (cette mise en scène des scènes de tuerie nous agace, on se l'avoue), ce qui interpelle forcément. Une demi-surprise, donc, pour une déception totale, en revanche. On a aussi failli s'étrangler devant le spectacle navrant des spoiler:  VIP masqués en animaux \"boule à facettes\" qui viennent faire des paris sur les gagnants en gloussant de plaisir à chaque mort, ce qui ressemble à la ligne directrice des séries \"dark\" Netflix, qui critiquent de façon balourde, n'impressionnent que les jeunes ados (et encore), et font rire les amateurs de scénario plus fins. La fin laisse aussi la porte ouverte à plusieurs saisons, Netflix oblige, ce que l'on ne trouve pas nécessaire dans l'immédiat (à voir s'il l'on parvient à nous prouver le contraire avec une super saison 2, mais on en doute...). Si suite il y a, on préfèrera voir des alliances entre joueurs comme dans les débuts de Squid Game pour déjouer les pièges, plutôt que des gens qui se tirent dans les pattes de façon mesquine et ultra-prévisible, comme dans les films d'épouvante qu'on commence à connaître. On retient surtout le héros (\"vraiment, c'est un bon gars\"), le pauvre Ali, quelques jeux déchirants (les billes) ou surprenants (les trois premiers), une mise en scène originale, \"le mec de Busan\" et une critique acerbe de la société. Mais les épisodes 7 à 9 commencent une chute vertigineuse (sans besoin de verre faussement trempé) vers une fin des plus faciles, vue et revue si vous connaissez une certaine saga de films d'épouvante, et assez prévisible. You Win, pour cette saison, mais Game over pour la suite.</td>\n",
       "      <td>Publiée le 2 octobre 2021</td>\n",
       "      <td>22 - 10</td>\n",
       "    </tr>\n",
       "    <tr>\n",
       "      <th>1</th>\n",
       "      <td>2,5</td>\n",
       "      <td>Encore une série très sur-côtée ! Tout est prévisible au possible, l'idée n'est pas si originale que ça et la fin est vraiment mauvaise... Cependant le jeu d'acteur et la qualité visuelle sont excellents ! On se laisse prendre au fur et à mesure des épisodes mais au final on savait très bien ce qui allait se passer quand, comment et pourquoi et c'est bien dommage. On est bien loin des gros drames coréens ! Ici c'est soft, un peu débile et souvent insupportable mais tout cela reste regardable.</td>\n",
       "      <td>Publiée le 1 octobre 2021</td>\n",
       "      <td>24 - 12</td>\n",
       "    </tr>\n",
       "    <tr>\n",
       "      <th>2</th>\n",
       "      <td>4,5</td>\n",
       "      <td>Pas fan des séries coréennes en général. Je dois avouer que celle la m'a scotché de bout en bout. Incroyablement cruelle, caricaturant la société d'une façon intelligente. Je conseils !</td>\n",
       "      <td>Publiée le 22 septembre 2021</td>\n",
       "      <td>20 - 21</td>\n",
       "    </tr>\n",
       "    <tr>\n",
       "      <th>3</th>\n",
       "      <td>4,5</td>\n",
       "      <td>Disons le tout de suite, je suis fan depuis 30 ans des productions asiatiques d'extrême orient, que cela soit des films ou des séries. Avant même s'avoir entendu parlé du buzz créé par cette série, son origine et son pitch m'a terriblement plu en pensant évidemment avant tout à Battle Royale ou la série Liar Game. Bref, je me lance dedans sans hésitation et.... Je n'ai pas pu décrocher jusqu'au dernier épisode. Tout est dit, c'est intense, créatif, accrocheur et terriblement addictif. Je ne souhaite pas forcément qu'il y ait une autre saison car il est parfois bon d'avoir des zones d'ombres qui laissent le téléspectateur à ses idées propres et également bon parfois de n'avoir qu'un seul et unique jet qui se suffit à lui-même sans risquer l'essoufflement que l'appât du gain créé trop souvent.</td>\n",
       "      <td>Publiée le 5 octobre 2021</td>\n",
       "      <td>9 - 10</td>\n",
       "    </tr>\n",
       "    <tr>\n",
       "      <th>4</th>\n",
       "      <td>4,0</td>\n",
       "      <td>Visuellement recherché, très ludique, rythmé et avec une galerie de personnages intéressants (parce que jamais parfaits). Avec Squid Game, les coréens mettent encore la barre haute avec cette série !</td>\n",
       "      <td>Publiée le 25 septembre 2021</td>\n",
       "      <td>7 - 9</td>\n",
       "    </tr>\n",
       "    <tr>\n",
       "      <th>...</th>\n",
       "      <td>...</td>\n",
       "      <td>...</td>\n",
       "      <td>...</td>\n",
       "      <td>...</td>\n",
       "    </tr>\n",
       "    <tr>\n",
       "      <th>336</th>\n",
       "      <td>5,0</td>\n",
       "      <td>Vraiment une des meilleures séries que j'ai vu récemment. Original comparativement à toutes ces séries américaines qui nous sont présentées sans cesse.</td>\n",
       "      <td>Publiée le 24 octobre 2021</td>\n",
       "      <td>0 - 1</td>\n",
       "    </tr>\n",
       "    <tr>\n",
       "      <th>337</th>\n",
       "      <td>4,5</td>\n",
       "      <td>Une série qui fait réfléchir.La série met en scène une multitude de métaphores extrêmement violentes pour dénoncer les inégalités sociales. Elle est très psychologique contrairement à ce que certains peuvent penser ou dire au premier abord. Je la conseille à toutes personnes recherchant une série émotionnelle et psychologique.</td>\n",
       "      <td>Publiée le 26 octobre 2021</td>\n",
       "      <td>0 - 0</td>\n",
       "    </tr>\n",
       "    <tr>\n",
       "      <th>338</th>\n",
       "      <td>4,0</td>\n",
       "      <td>très bonne série nous tiens en haleine du début à la fin de chaque épisode. Série rythmé et vivante on ne dort pas.</td>\n",
       "      <td>Publiée le 26 octobre 2021</td>\n",
       "      <td>0 - 0</td>\n",
       "    </tr>\n",
       "    <tr>\n",
       "      <th>339</th>\n",
       "      <td>3,5</td>\n",
       "      <td>Bonne série,je trouve que c'est une version soft de battle Royale avec des rebondissements surtout a la fin mais rien qui explique un quelconque succès planétaire.</td>\n",
       "      <td>Publiée le 21 octobre 2021</td>\n",
       "      <td>0 - 0</td>\n",
       "    </tr>\n",
       "    <tr>\n",
       "      <th>340</th>\n",
       "      <td>4,5</td>\n",
       "      <td>Squid Game, encore une série Coréenne exceptionnel. L'inégalité riche/pauvre est bien démontréLes pauvres sont t ils vraiment prêt à tout pour survivre ?Les jeux sont très agréable à regarder et ça nous fais pensé à notre enfance Les jeux d acteurs sont extrêmement bon On est plongé sentimentalement dans chacun des personnagesSérie quasiment parfaite, je retire 0.5 pour la fin m'as déçuMais je recommande à tous cette série !</td>\n",
       "      <td>Publiée le 26 octobre 2021</td>\n",
       "      <td>0 - 0</td>\n",
       "    </tr>\n",
       "  </tbody>\n",
       "</table></div>"
      ],
      "text/plain": [
       "    Note                                        Description  \\\n",
       "0    3,0  On s'attendait à une fin plus élaborée, claire...   \n",
       "1    2,5  Encore une série très sur-côtée ! Tout est pré...   \n",
       "2    4,5  Pas fan des séries coréennes en général. Je do...   \n",
       "3    4,5  Disons le tout de suite, je suis fan depuis 30...   \n",
       "4    4,0  Visuellement recherché, très ludique, rythmé e...   \n",
       "..   ...                                                ...   \n",
       "336  5,0  Vraiment une des meilleures séries que j'ai vu...   \n",
       "337  4,5  Une série qui fait réfléchir.La série met en s...   \n",
       "338  4,0  très bonne série nous tiens en haleine du débu...   \n",
       "339  3,5  Bonne série,je trouve que c'est une version so...   \n",
       "340  4,5  Squid Game, encore une série Coréenne exceptio...   \n",
       "\n",
       "                             Date nombre_good  \n",
       "0       Publiée le 2 octobre 2021     22 - 10  \n",
       "1       Publiée le 1 octobre 2021     24 - 12  \n",
       "2    Publiée le 22 septembre 2021     20 - 21  \n",
       "3       Publiée le 5 octobre 2021      9 - 10  \n",
       "4    Publiée le 25 septembre 2021       7 - 9  \n",
       "..                            ...         ...  \n",
       "336    Publiée le 24 octobre 2021       0 - 1  \n",
       "337    Publiée le 26 octobre 2021       0 - 0  \n",
       "338    Publiée le 26 octobre 2021       0 - 0  \n",
       "339    Publiée le 21 octobre 2021       0 - 0  \n",
       "340    Publiée le 26 octobre 2021       0 - 0  \n",
       "\n",
       "[341 rows x 4 columns]"
      ]
     },
     "execution_count": 216,
     "metadata": {},
     "output_type": "execute_result"
    }
   ],
   "source": [
    "df['nombre_good'] = df['nombre_good'].apply(lambda x: x.replace('\\n\\n\\n', ' - '))\n",
    "df['nombre_good'] = df['nombre_good'].apply(lambda x: x.replace('\\n', ''))\n",
    "df['Description'] = df['Description'].str.replace(\"\\n\", \"\");df"
   ]
  },
  {
   "cell_type": "code",
   "execution_count": null,
   "metadata": {},
   "outputs": [
    {
     "name": "stderr",
     "output_type": "stream",
     "text": [
      "/home/greg/.local/lib/python3.8/site-packages/dateparser/date_parser.py:35: PytzUsageWarning: The localize method is no longer necessary, as this time zone supports the fold attribute (PEP 495). For more details on migrating to a PEP 495-compliant implementation, see https://pytz-deprecation-shim.readthedocs.io/en/latest/migration.html\n",
      "  date_obj = stz.localize(date_obj)\n"
     ]
    }
   ],
   "source": [
    "# On clean la date avec un regex pour sortir le \"Publiée le\" et garde seulement la date dans une nouvelle colonne 'Date_clean'\n",
    "import dateparser\n",
    "df['Date_clean'] = df['Date'].str.extract('Publiée le (\\d.* .* \\d.*)')\n",
    "\n",
    "\n",
    "# On utilise le parser pour renvoyer un datetime dans une nouvelle colonne 'datetime'\n",
    "df['datetime'] = df.apply(lambda row :dateparser.parse(row['Date_clean']) , axis = 1)\n",
    "\n",
    "\n",
    "\n"
   ]
  },
  {
   "cell_type": "code",
   "execution_count": null,
   "metadata": {},
   "outputs": [],
   "source": [
    "# On drop les colonnes dates inutiles\n",
    "df.drop('Date',inplace=True,axis=1)\n",
    "df.drop('Date_clean',inplace=True,axis=1);"
   ]
  },
  {
   "cell_type": "code",
   "execution_count": null,
   "metadata": {},
   "outputs": [
    {
     "data": {
      "text/html": [
       "<div><div id=9842022a-c9f8-40cb-844e-85b7cc835f34 style=\"display:none; background-color:#9D6CFF; color:white; width:200px; height:30px; padding-left:5px; border-radius:4px; flex-direction:row; justify-content:space-around; align-items:center;\" onmouseover=\"this.style.backgroundColor='#BA9BF8'\" onmouseout=\"this.style.backgroundColor='#9D6CFF'\" onclick=\"window.commands?.execute('create-mitosheet-from-dataframe-output');\">See Full Dataframe in Mito</div> <script> if (window.commands.hasCommand('create-mitosheet-from-dataframe-output')) document.getElementById('9842022a-c9f8-40cb-844e-85b7cc835f34').style.display = 'flex' </script> <table border=\"1\" class=\"dataframe\">\n",
       "  <thead>\n",
       "    <tr style=\"text-align: right;\">\n",
       "      <th></th>\n",
       "      <th>Note</th>\n",
       "      <th>Description</th>\n",
       "      <th>nombre_good</th>\n",
       "      <th>datetime</th>\n",
       "    </tr>\n",
       "  </thead>\n",
       "  <tbody>\n",
       "    <tr>\n",
       "      <th>0</th>\n",
       "      <td>3,0</td>\n",
       "      <td>On s'attendait à une fin plus élaborée, clairement. Des débuts engagés de Squid Game (dénonçant l'extrême pauvreté qui touche une grande partie de la population, le désintérêt des riches face à ces prolétaires à la rue, l’appât du gain qui fait faire n'importe quoi...), sa mise en scène clinquante qui nous aguiche l’œil (les jeux comme des cours de récré mortelles, on a adoré le concept), le personnage principal (\"le bon gars, le vrai\") dont a vite pitié, quelques seconds rôles attachants (Ali... On ne s'en remet pas), retrouver \"le mec de Busan\" (oui, on a tous eu le même réflexe) pour un petit rôle, un sixième épisode en apogée dramatique de la série... Squid Game a beaucoup d'idées. Mais voilà, après cette vague immense d'atouts, la série semble ne plus savoir trop quoi en faire, et retombe dès l'épisode 7 dans le train-train habituel des films de jeux sadiques où l'on pousse un groupe de personnes à s'entretuer, nous mettant sous le nez des personnages ultra-caricaturaux (le couple du truand et de la folle - élue personnage insupportable de la série -) ou si vicieux que l'on finit par se moquer éperdument de leur sort (l'ami d'enfance du héros), et surtout, une fin à la spoiler: Saw. On n'en revient pas d'avoir exactement le même twist, à savoir que spoiler: le créateur du jeu qui se cache parmi les \"morts\" et se rince l’œil sur le déroulé des épreuves... On avait déjà à demi compris ce twist, lorsque la série dévoilait trop tôt que spoiler: le vieux ne gâte pas tant qu'il veut bien le laisser paraître (à la fin de l'épisode six) et qu'il est l'un des uniques personnages dont la mort n'est pas montrée en gros plan en face caméra (cette mise en scène des scènes de tuerie nous agace, on se l'avoue), ce qui interpelle forcément. Une demi-surprise, donc, pour une déception totale, en revanche. On a aussi failli s'étrangler devant le spectacle navrant des spoiler:  VIP masqués en animaux \"boule à facettes\" qui viennent faire des paris sur les gagnants en gloussant de plaisir à chaque mort, ce qui ressemble à la ligne directrice des séries \"dark\" Netflix, qui critiquent de façon balourde, n'impressionnent que les jeunes ados (et encore), et font rire les amateurs de scénario plus fins. La fin laisse aussi la porte ouverte à plusieurs saisons, Netflix oblige, ce que l'on ne trouve pas nécessaire dans l'immédiat (à voir s'il l'on parvient à nous prouver le contraire avec une super saison 2, mais on en doute...). Si suite il y a, on préfèrera voir des alliances entre joueurs comme dans les débuts de Squid Game pour déjouer les pièges, plutôt que des gens qui se tirent dans les pattes de façon mesquine et ultra-prévisible, comme dans les films d'épouvante qu'on commence à connaître. On retient surtout le héros (\"vraiment, c'est un bon gars\"), le pauvre Ali, quelques jeux déchirants (les billes) ou surprenants (les trois premiers), une mise en scène originale, \"le mec de Busan\" et une critique acerbe de la société. Mais les épisodes 7 à 9 commencent une chute vertigineuse (sans besoin de verre faussement trempé) vers une fin des plus faciles, vue et revue si vous connaissez une certaine saga de films d'épouvante, et assez prévisible. You Win, pour cette saison, mais Game over pour la suite.</td>\n",
       "      <td>22 - 10</td>\n",
       "      <td>2021-10-02</td>\n",
       "    </tr>\n",
       "    <tr>\n",
       "      <th>1</th>\n",
       "      <td>2,5</td>\n",
       "      <td>Encore une série très sur-côtée ! Tout est prévisible au possible, l'idée n'est pas si originale que ça et la fin est vraiment mauvaise... Cependant le jeu d'acteur et la qualité visuelle sont excellents ! On se laisse prendre au fur et à mesure des épisodes mais au final on savait très bien ce qui allait se passer quand, comment et pourquoi et c'est bien dommage. On est bien loin des gros drames coréens ! Ici c'est soft, un peu débile et souvent insupportable mais tout cela reste regardable.</td>\n",
       "      <td>24 - 12</td>\n",
       "      <td>2021-10-01</td>\n",
       "    </tr>\n",
       "    <tr>\n",
       "      <th>2</th>\n",
       "      <td>4,5</td>\n",
       "      <td>Pas fan des séries coréennes en général. Je dois avouer que celle la m'a scotché de bout en bout. Incroyablement cruelle, caricaturant la société d'une façon intelligente. Je conseils !</td>\n",
       "      <td>20 - 21</td>\n",
       "      <td>2021-09-22</td>\n",
       "    </tr>\n",
       "    <tr>\n",
       "      <th>3</th>\n",
       "      <td>4,5</td>\n",
       "      <td>Disons le tout de suite, je suis fan depuis 30 ans des productions asiatiques d'extrême orient, que cela soit des films ou des séries. Avant même s'avoir entendu parlé du buzz créé par cette série, son origine et son pitch m'a terriblement plu en pensant évidemment avant tout à Battle Royale ou la série Liar Game. Bref, je me lance dedans sans hésitation et.... Je n'ai pas pu décrocher jusqu'au dernier épisode. Tout est dit, c'est intense, créatif, accrocheur et terriblement addictif. Je ne souhaite pas forcément qu'il y ait une autre saison car il est parfois bon d'avoir des zones d'ombres qui laissent le téléspectateur à ses idées propres et également bon parfois de n'avoir qu'un seul et unique jet qui se suffit à lui-même sans risquer l'essoufflement que l'appât du gain créé trop souvent.</td>\n",
       "      <td>9 - 10</td>\n",
       "      <td>2021-10-05</td>\n",
       "    </tr>\n",
       "    <tr>\n",
       "      <th>4</th>\n",
       "      <td>4,0</td>\n",
       "      <td>Visuellement recherché, très ludique, rythmé et avec une galerie de personnages intéressants (parce que jamais parfaits). Avec Squid Game, les coréens mettent encore la barre haute avec cette série !</td>\n",
       "      <td>7 - 9</td>\n",
       "      <td>2021-09-25</td>\n",
       "    </tr>\n",
       "    <tr>\n",
       "      <th>...</th>\n",
       "      <td>...</td>\n",
       "      <td>...</td>\n",
       "      <td>...</td>\n",
       "      <td>...</td>\n",
       "    </tr>\n",
       "    <tr>\n",
       "      <th>336</th>\n",
       "      <td>5,0</td>\n",
       "      <td>Vraiment une des meilleures séries que j'ai vu récemment. Original comparativement à toutes ces séries américaines qui nous sont présentées sans cesse.</td>\n",
       "      <td>0 - 1</td>\n",
       "      <td>2021-10-24</td>\n",
       "    </tr>\n",
       "    <tr>\n",
       "      <th>337</th>\n",
       "      <td>4,5</td>\n",
       "      <td>Une série qui fait réfléchir.La série met en scène une multitude de métaphores extrêmement violentes pour dénoncer les inégalités sociales. Elle est très psychologique contrairement à ce que certains peuvent penser ou dire au premier abord. Je la conseille à toutes personnes recherchant une série émotionnelle et psychologique.</td>\n",
       "      <td>0 - 0</td>\n",
       "      <td>2021-10-26</td>\n",
       "    </tr>\n",
       "    <tr>\n",
       "      <th>338</th>\n",
       "      <td>4,0</td>\n",
       "      <td>très bonne série nous tiens en haleine du début à la fin de chaque épisode. Série rythmé et vivante on ne dort pas.</td>\n",
       "      <td>0 - 0</td>\n",
       "      <td>2021-10-26</td>\n",
       "    </tr>\n",
       "    <tr>\n",
       "      <th>339</th>\n",
       "      <td>3,5</td>\n",
       "      <td>Bonne série,je trouve que c'est une version soft de battle Royale avec des rebondissements surtout a la fin mais rien qui explique un quelconque succès planétaire.</td>\n",
       "      <td>0 - 0</td>\n",
       "      <td>2021-10-21</td>\n",
       "    </tr>\n",
       "    <tr>\n",
       "      <th>340</th>\n",
       "      <td>4,5</td>\n",
       "      <td>Squid Game, encore une série Coréenne exceptionnel. L'inégalité riche/pauvre est bien démontréLes pauvres sont t ils vraiment prêt à tout pour survivre ?Les jeux sont très agréable à regarder et ça nous fais pensé à notre enfance Les jeux d acteurs sont extrêmement bon On est plongé sentimentalement dans chacun des personnagesSérie quasiment parfaite, je retire 0.5 pour la fin m'as déçuMais je recommande à tous cette série !</td>\n",
       "      <td>0 - 0</td>\n",
       "      <td>2021-10-26</td>\n",
       "    </tr>\n",
       "  </tbody>\n",
       "</table></div>"
      ],
      "text/plain": [
       "    Note                                        Description nombre_good  \\\n",
       "0    3,0  On s'attendait à une fin plus élaborée, claire...     22 - 10   \n",
       "1    2,5  Encore une série très sur-côtée ! Tout est pré...     24 - 12   \n",
       "2    4,5  Pas fan des séries coréennes en général. Je do...     20 - 21   \n",
       "3    4,5  Disons le tout de suite, je suis fan depuis 30...      9 - 10   \n",
       "4    4,0  Visuellement recherché, très ludique, rythmé e...       7 - 9   \n",
       "..   ...                                                ...         ...   \n",
       "336  5,0  Vraiment une des meilleures séries que j'ai vu...       0 - 1   \n",
       "337  4,5  Une série qui fait réfléchir.La série met en s...       0 - 0   \n",
       "338  4,0  très bonne série nous tiens en haleine du débu...       0 - 0   \n",
       "339  3,5  Bonne série,je trouve que c'est une version so...       0 - 0   \n",
       "340  4,5  Squid Game, encore une série Coréenne exceptio...       0 - 0   \n",
       "\n",
       "      datetime  \n",
       "0   2021-10-02  \n",
       "1   2021-10-01  \n",
       "2   2021-09-22  \n",
       "3   2021-10-05  \n",
       "4   2021-09-25  \n",
       "..         ...  \n",
       "336 2021-10-24  \n",
       "337 2021-10-26  \n",
       "338 2021-10-26  \n",
       "339 2021-10-21  \n",
       "340 2021-10-26  \n",
       "\n",
       "[341 rows x 4 columns]"
      ]
     },
     "execution_count": 219,
     "metadata": {},
     "output_type": "execute_result"
    }
   ],
   "source": [
    "df"
   ]
  },
  {
   "cell_type": "code",
   "execution_count": null,
   "metadata": {},
   "outputs": [],
   "source": [
    "df[['good', 'bad']] = df['nombre_good'].str.split(' ', n=1, expand=True)"
   ]
  },
  {
   "cell_type": "code",
   "execution_count": null,
   "metadata": {},
   "outputs": [],
   "source": [
    "df['Description'] = df['Description'].apply(lambda x: word_tokenize(x))"
   ]
  },
  {
   "cell_type": "code",
   "execution_count": null,
   "metadata": {},
   "outputs": [
    {
     "data": {
      "text/html": [
       "<div><div id=9c8a3a83-af5c-4ee3-a662-c82ace0d81bf style=\"display:none; background-color:#9D6CFF; color:white; width:200px; height:30px; padding-left:5px; border-radius:4px; flex-direction:row; justify-content:space-around; align-items:center;\" onmouseover=\"this.style.backgroundColor='#BA9BF8'\" onmouseout=\"this.style.backgroundColor='#9D6CFF'\" onclick=\"window.commands?.execute('create-mitosheet-from-dataframe-output');\">See Full Dataframe in Mito</div> <script> if (window.commands.hasCommand('create-mitosheet-from-dataframe-output')) document.getElementById('9c8a3a83-af5c-4ee3-a662-c82ace0d81bf').style.display = 'flex' </script> <table border=\"1\" class=\"dataframe\">\n",
       "  <thead>\n",
       "    <tr style=\"text-align: right;\">\n",
       "      <th></th>\n",
       "      <th>Note</th>\n",
       "      <th>Description</th>\n",
       "      <th>nombre_good</th>\n",
       "      <th>datetime</th>\n",
       "      <th>good</th>\n",
       "      <th>bad</th>\n",
       "    </tr>\n",
       "  </thead>\n",
       "  <tbody>\n",
       "    <tr>\n",
       "      <th>0</th>\n",
       "      <td>3.0</td>\n",
       "      <td>[On, s'attendait, à, une, fin, plus, élaborée, ,, clairement, ., Des, débuts, engagés, de, Squid, Game, (, dénonçant, l'extrême, pauvreté, qui, touche, une, grande, partie, de, la, population, ,, le, désintérêt, des, riches, face, à, ces, prolétaires, à, la, rue, ,, l, ’, appât, du, gain, qui, fait, faire, n'importe, quoi, ..., ), ,, sa, mise, en, scène, clinquante, qui, nous, aguiche, l, ’, œil, (, les, jeux, comme, des, cours, de, récré, mortelles, ,, on, a, adoré, le, concept, ), ,, le, personnage, principal, (, ``, le, bon, gars, ,, le, vrai, '', ), dont, a, vite, pitié, ,, ...]</td>\n",
       "      <td>22 - 10</td>\n",
       "      <td>2021-10-02</td>\n",
       "      <td>22</td>\n",
       "      <td>- 10</td>\n",
       "    </tr>\n",
       "    <tr>\n",
       "      <th>1</th>\n",
       "      <td>2.5</td>\n",
       "      <td>[Encore, une, série, très, sur-côtée, !, Tout, est, prévisible, au, possible, ,, l'idée, n'est, pas, si, originale, que, ça, et, la, fin, est, vraiment, mauvaise, ..., Cependant, le, jeu, d'acteur, et, la, qualité, visuelle, sont, excellents, !, On, se, laisse, prendre, au, fur, et, à, mesure, des, épisodes, mais, au, final, on, savait, très, bien, ce, qui, allait, se, passer, quand, ,, comment, et, pourquoi, et, c'est, bien, dommage, ., On, est, bien, loin, des, gros, drames, coréens, !, Ici, c'est, soft, ,, un, peu, débile, et, souvent, insupportable, mais, tout, cela, reste, regardable, .]</td>\n",
       "      <td>24 - 12</td>\n",
       "      <td>2021-10-01</td>\n",
       "      <td>24</td>\n",
       "      <td>- 12</td>\n",
       "    </tr>\n",
       "    <tr>\n",
       "      <th>2</th>\n",
       "      <td>4.5</td>\n",
       "      <td>[Pas, fan, des, séries, coréennes, en, général, ., Je, dois, avouer, que, celle, la, m, ', a, scotché, de, bout, en, bout, ., Incroyablement, cruelle, ,, caricaturant, la, société, d'une, façon, intelligente, ., Je, conseils, !]</td>\n",
       "      <td>20 - 21</td>\n",
       "      <td>2021-09-22</td>\n",
       "      <td>20</td>\n",
       "      <td>- 21</td>\n",
       "    </tr>\n",
       "    <tr>\n",
       "      <th>3</th>\n",
       "      <td>4.5</td>\n",
       "      <td>[Disons, le, tout, de, suite, ,, je, suis, fan, depuis, 30, ans, des, productions, asiatiques, d'extrême, orient, ,, que, cela, soit, des, films, ou, des, séries, ., Avant, même, s'avoir, entendu, parlé, du, buzz, créé, par, cette, série, ,, son, origine, et, son, pitch, m, ', a, terriblement, plu, en, pensant, évidemment, avant, tout, à, Battle, Royale, ou, la, série, Liar, Game, ., Bref, ,, je, me, lance, dedans, sans, hésitation, et, ...., Je, n'ai, pas, pu, décrocher, jusqu'au, dernier, épisode, ., Tout, est, dit, ,, c'est, intense, ,, créatif, ,, accrocheur, et, terriblement, addictif, ., Je, ne, souhaite, pas, ...]</td>\n",
       "      <td>9 - 10</td>\n",
       "      <td>2021-10-05</td>\n",
       "      <td>9</td>\n",
       "      <td>- 10</td>\n",
       "    </tr>\n",
       "    <tr>\n",
       "      <th>4</th>\n",
       "      <td>4.0</td>\n",
       "      <td>[Visuellement, recherché, ,, très, ludique, ,, rythmé, et, avec, une, galerie, de, personnages, intéressants, (, parce, que, jamais, parfaits, ), ., Avec, Squid, Game, ,, les, coréens, mettent, encore, la, barre, haute, avec, cette, série, !]</td>\n",
       "      <td>7 - 9</td>\n",
       "      <td>2021-09-25</td>\n",
       "      <td>7</td>\n",
       "      <td>- 9</td>\n",
       "    </tr>\n",
       "    <tr>\n",
       "      <th>...</th>\n",
       "      <td>...</td>\n",
       "      <td>...</td>\n",
       "      <td>...</td>\n",
       "      <td>...</td>\n",
       "      <td>...</td>\n",
       "      <td>...</td>\n",
       "    </tr>\n",
       "    <tr>\n",
       "      <th>336</th>\n",
       "      <td>5.0</td>\n",
       "      <td>[Vraiment, une, des, meilleures, séries, que, j'ai, vu, récemment, ., Original, comparativement, à, toutes, ces, séries, américaines, qui, nous, sont, présentées, sans, cesse, .]</td>\n",
       "      <td>0 - 1</td>\n",
       "      <td>2021-10-24</td>\n",
       "      <td>0</td>\n",
       "      <td>- 1</td>\n",
       "    </tr>\n",
       "    <tr>\n",
       "      <th>337</th>\n",
       "      <td>4.5</td>\n",
       "      <td>[Une, série, qui, fait, réfléchir.La, série, met, en, scène, une, multitude, de, métaphores, extrêmement, violentes, pour, dénoncer, les, inégalités, sociales, ., Elle, est, très, psychologique, contrairement, à, ce, que, certains, peuvent, penser, ou, dire, au, premier, abord, ., Je, la, conseille, à, toutes, personnes, recherchant, une, série, émotionnelle, et, psychologique, .]</td>\n",
       "      <td>0 - 0</td>\n",
       "      <td>2021-10-26</td>\n",
       "      <td>0</td>\n",
       "      <td>- 0</td>\n",
       "    </tr>\n",
       "    <tr>\n",
       "      <th>338</th>\n",
       "      <td>4.0</td>\n",
       "      <td>[très, bonne, série, nous, tiens, en, haleine, du, début, à, la, fin, de, chaque, épisode, ., Série, rythmé, et, vivante, on, ne, dort, pas, .]</td>\n",
       "      <td>0 - 0</td>\n",
       "      <td>2021-10-26</td>\n",
       "      <td>0</td>\n",
       "      <td>- 0</td>\n",
       "    </tr>\n",
       "    <tr>\n",
       "      <th>339</th>\n",
       "      <td>3.5</td>\n",
       "      <td>[Bonne, série, ,, je, trouve, que, c'est, une, version, soft, de, battle, Royale, avec, des, rebondissements, surtout, a, la, fin, mais, rien, qui, explique, un, quelconque, succès, planétaire, .]</td>\n",
       "      <td>0 - 0</td>\n",
       "      <td>2021-10-21</td>\n",
       "      <td>0</td>\n",
       "      <td>- 0</td>\n",
       "    </tr>\n",
       "    <tr>\n",
       "      <th>340</th>\n",
       "      <td>4.5</td>\n",
       "      <td>[Squid, Game, ,, encore, une, série, Coréenne, exceptionnel, ., L'inégalité, riche/pauvre, est, bien, démontréLes, pauvres, sont, t, ils, vraiment, prêt, à, tout, pour, survivre, ?, Les, jeux, sont, très, agréable, à, regarder, et, ça, nous, fais, pensé, à, notre, enfance, Les, jeux, d, acteurs, sont, extrêmement, bon, On, est, plongé, sentimentalement, dans, chacun, des, personnagesSérie, quasiment, parfaite, ,, je, retire, 0.5, pour, la, fin, m'as, déçuMais, je, recommande, à, tous, cette, série, !]</td>\n",
       "      <td>0 - 0</td>\n",
       "      <td>2021-10-26</td>\n",
       "      <td>0</td>\n",
       "      <td>- 0</td>\n",
       "    </tr>\n",
       "  </tbody>\n",
       "</table></div>"
      ],
      "text/plain": [
       "     Note                                        Description nombre_good  \\\n",
       "0     3.0  [On, s'attendait, à, une, fin, plus, élaborée,...     22 - 10   \n",
       "1     2.5  [Encore, une, série, très, sur-côtée, !, Tout,...     24 - 12   \n",
       "2     4.5  [Pas, fan, des, séries, coréennes, en, général...     20 - 21   \n",
       "3     4.5  [Disons, le, tout, de, suite, ,, je, suis, fan...      9 - 10   \n",
       "4     4.0  [Visuellement, recherché, ,, très, ludique, ,,...       7 - 9   \n",
       "..    ...                                                ...         ...   \n",
       "336   5.0  [Vraiment, une, des, meilleures, séries, que, ...       0 - 1   \n",
       "337   4.5  [Une, série, qui, fait, réfléchir.La, série, m...       0 - 0   \n",
       "338   4.0  [très, bonne, série, nous, tiens, en, haleine,...       0 - 0   \n",
       "339   3.5  [Bonne, série, ,, je, trouve, que, c'est, une,...       0 - 0   \n",
       "340   4.5  [Squid, Game, ,, encore, une, série, Coréenne,...       0 - 0   \n",
       "\n",
       "      datetime good   bad  \n",
       "0   2021-10-02   22  - 10  \n",
       "1   2021-10-01   24  - 12  \n",
       "2   2021-09-22   20  - 21  \n",
       "3   2021-10-05    9  - 10  \n",
       "4   2021-09-25    7   - 9  \n",
       "..         ...  ...   ...  \n",
       "336 2021-10-24    0   - 1  \n",
       "337 2021-10-26    0   - 0  \n",
       "338 2021-10-26    0   - 0  \n",
       "339 2021-10-21    0   - 0  \n",
       "340 2021-10-26    0   - 0  \n",
       "\n",
       "[341 rows x 6 columns]"
      ]
     },
     "execution_count": 222,
     "metadata": {},
     "output_type": "execute_result"
    }
   ],
   "source": [
    "df['Note'] = df['Note'].apply(lambda x: x.replace(',', '.'))\n",
    "df['Note'] = df['Note'].astype('float64')\n",
    "df"
   ]
  },
  {
   "cell_type": "code",
   "execution_count": null,
   "metadata": {},
   "outputs": [
    {
     "name": "stderr",
     "output_type": "stream",
     "text": [
      "/home/greg/.local/lib/python3.8/site-packages/seaborn/_decorators.py:36: FutureWarning: Pass the following variables as keyword args: x, y. From version 0.12, the only valid positional argument will be `data`, and passing other arguments without an explicit keyword will result in an error or misinterpretation.\n",
      "  warnings.warn(\n"
     ]
    },
    {
     "data": {
      "text/plain": [
       "<AxesSubplot:xlabel='datetime', ylabel='Note'>"
      ]
     },
     "execution_count": 223,
     "metadata": {},
     "output_type": "execute_result"
    },
    {
     "data": {
      "image/png": "[encoded data removed]",
      "text/plain": [
       "<Figure size 432x288 with 1 Axes>"
      ]
     },
     "metadata": {
      "needs_background": "light"
     },
     "output_type": "display_data"
    }
   ],
   "source": [
    "sns.lineplot(df['datetime'],df['Note'], sort=True)"
   ]
  },
  {
   "cell_type": "code",
   "execution_count": null,
   "metadata": {},
   "outputs": [
    {
     "data": {
      "image/png": "[encoded data removed]",
      "text/plain": [
       "<Figure size 720x360 with 1 Axes>"
      ]
     },
     "metadata": {
      "needs_background": "light"
     },
     "output_type": "display_data"
    }
   ],
   "source": [
    "plt.figure(figsize=(10,5))\n",
    "\n",
    "df['Note'].value_counts().sort_index().plot(kind='bar', color='mediumseagreen')\n",
    "\n",
    "plt.xticks(rotation=0, fontsize=14)\n",
    "\n",
    "plt.yticks(fontsize=14)\n",
    "\n",
    "plt.xlabel('Note', fontsize=16)\n",
    "\n",
    "plt.ylabel('Nombre d\\'occurrence', fontsize=16)\n",
    "\n",
    "plt.show()"
   ]
  },
  {
   "cell_type": "code",
   "execution_count": null,
   "metadata": {},
   "outputs": [],
   "source": [
    "df[\"Sentiment\"] = df['Note'].apply(lambda x: 0 if x<4 else 1)\n"
   ]
  },
  {
   "cell_type": "code",
   "execution_count": null,
   "metadata": {},
   "outputs": [],
   "source": [
    "X = df.drop('Sentiment',axis=1)\n",
    "X = X.drop('Note', axis=1)\n",
    "Y = df['Sentimentù]\n",
    "X_train, X_test, Y_train, Y_test = train_test_split(X,Y, test_size=0.3, random_state=424242)"
   ]
  },
  {
   "cell_type": "code",
   "execution_count": null,
   "metadata": {},
   "outputs": [
    {
     "ename": "NameError",
     "evalue": "name 'df' is not defined",
     "output_type": "error",
     "traceback": [
      "\u001b[0;31m---------------------------------------------------------------------------\u001b[0m",
      "\u001b[0;31mNameError\u001b[0m                                 Traceback (most recent call last)",
      "\u001b[0;32m/tmp/ipykernel_5523/4131075375.py\u001b[0m in \u001b[0;36m<module>\u001b[0;34m\u001b[0m\n\u001b[1;32m      1\u001b[0m \u001b[0;31m# Suppresion ponctuation\u001b[0m\u001b[0;34m\u001b[0m\u001b[0;34m\u001b[0m\u001b[0m\n\u001b[0;32m----> 2\u001b[0;31m \u001b[0mdf\u001b[0m\u001b[0;34m[\u001b[0m\u001b[0;34m'Description'\u001b[0m\u001b[0;34m]\u001b[0m \u001b[0;34m=\u001b[0m \u001b[0mdf\u001b[0m\u001b[0;34m[\u001b[0m\u001b[0;34m'Description'\u001b[0m\u001b[0;34m]\u001b[0m\u001b[0;34m.\u001b[0m\u001b[0mmap\u001b[0m\u001b[0;34m(\u001b[0m\u001b[0;32mlambda\u001b[0m \u001b[0mx\u001b[0m \u001b[0;34m:\u001b[0m \u001b[0mre\u001b[0m\u001b[0;34m.\u001b[0m\u001b[0msub\u001b[0m\u001b[0;34m(\u001b[0m\u001b[0;34m'[,\\.!?]'\u001b[0m\u001b[0;34m,\u001b[0m\u001b[0;34m''\u001b[0m\u001b[0;34m,\u001b[0m\u001b[0mx\u001b[0m\u001b[0;34m)\u001b[0m\u001b[0;34m)\u001b[0m\u001b[0;34m.\u001b[0m\u001b[0mmap\u001b[0m\u001b[0;34m(\u001b[0m\u001b[0;32mlambda\u001b[0m \u001b[0mx\u001b[0m \u001b[0;34m:\u001b[0m \u001b[0mre\u001b[0m\u001b[0;34m.\u001b[0m\u001b[0msub\u001b[0m\u001b[0;34m(\u001b[0m\u001b[0;34m'\\d'\u001b[0m\u001b[0;34m,\u001b[0m \u001b[0;34m''\u001b[0m\u001b[0;34m,\u001b[0m \u001b[0mx\u001b[0m\u001b[0;34m)\u001b[0m\u001b[0;34m)\u001b[0m\u001b[0;34m\u001b[0m\u001b[0;34m\u001b[0m\u001b[0m\n\u001b[0m",
      "\u001b[0;31mNameError\u001b[0m: name 'df' is not defined"
     ]
    }
   ],
   "source": [
    "# Suppresion ponctuation\n",
    "df['Description'] = df['Description'].map(lambda x : re.sub('[,\\.!?]','',x)).map(lambda x : re.sub('\\d', '', x))"
   ]
  },
  {
   "cell_type": "code",
   "execution_count": null,
   "metadata": {},
   "outputs": [
    {
     "ename": "TypeError",
     "evalue": "expected string or bytes-like object",
     "output_type": "error",
     "traceback": [
      "\u001b[0;31m---------------------------------------------------------------------------\u001b[0m",
      "\u001b[0;31mTypeError\u001b[0m                                 Traceback (most recent call last)",
      "\u001b[0;32m/tmp/ipykernel_2666/3105409802.py\u001b[0m in \u001b[0;36m<module>\u001b[0;34m\u001b[0m\n\u001b[1;32m      1\u001b[0m \u001b[0;31m#stemming\u001b[0m\u001b[0;34m\u001b[0m\u001b[0;34m\u001b[0m\u001b[0;34m\u001b[0m\u001b[0m\n\u001b[1;32m      2\u001b[0m \u001b[0;34m\u001b[0m\u001b[0m\n\u001b[0;32m----> 3\u001b[0;31m \u001b[0mdf\u001b[0m\u001b[0;34m[\u001b[0m\u001b[0;34m'Description'\u001b[0m\u001b[0;34m]\u001b[0m \u001b[0;34m=\u001b[0m \u001b[0mdf\u001b[0m\u001b[0;34m[\u001b[0m\u001b[0;34m'Description'\u001b[0m\u001b[0;34m]\u001b[0m\u001b[0;34m.\u001b[0m\u001b[0mmap\u001b[0m\u001b[0;34m(\u001b[0m\u001b[0;32mlambda\u001b[0m \u001b[0mx\u001b[0m \u001b[0;34m:\u001b[0m \u001b[0mre\u001b[0m\u001b[0;34m.\u001b[0m\u001b[0msub\u001b[0m\u001b[0;34m(\u001b[0m\u001b[0;34m'[,\\.!?]'\u001b[0m\u001b[0;34m,\u001b[0m\u001b[0;34m''\u001b[0m\u001b[0;34m,\u001b[0m\u001b[0mx\u001b[0m\u001b[0;34m)\u001b[0m\u001b[0;34m)\u001b[0m\u001b[0;34m.\u001b[0m\u001b[0mmap\u001b[0m\u001b[0;34m(\u001b[0m\u001b[0;32mlambda\u001b[0m \u001b[0mx\u001b[0m \u001b[0;34m:\u001b[0m \u001b[0mre\u001b[0m\u001b[0;34m.\u001b[0m\u001b[0msub\u001b[0m\u001b[0;34m(\u001b[0m\u001b[0;34m'\\d'\u001b[0m\u001b[0;34m,\u001b[0m \u001b[0;34m''\u001b[0m\u001b[0;34m,\u001b[0m \u001b[0mx\u001b[0m\u001b[0;34m)\u001b[0m\u001b[0;34m)\u001b[0m\u001b[0;34m\u001b[0m\u001b[0;34m\u001b[0m\u001b[0m\n\u001b[0m\u001b[1;32m      4\u001b[0m \u001b[0;34m\u001b[0m\u001b[0m\n\u001b[1;32m      5\u001b[0m \u001b[0;32mfrom\u001b[0m \u001b[0mnltk\u001b[0m\u001b[0;34m.\u001b[0m\u001b[0mstem\u001b[0m\u001b[0;34m.\u001b[0m\u001b[0msnowball\u001b[0m \u001b[0;32mimport\u001b[0m \u001b[0mFrenchStemmer\u001b[0m\u001b[0;34m\u001b[0m\u001b[0;34m\u001b[0m\u001b[0m\n",
      "\u001b[0;32m~/.local/lib/python3.8/site-packages/pandas/core/series.py\u001b[0m in \u001b[0;36mmap\u001b[0;34m(self, arg, na_action)\u001b[0m\n\u001b[1;32m   4159\u001b[0m         \u001b[0mdtype\u001b[0m\u001b[0;34m:\u001b[0m \u001b[0mobject\u001b[0m\u001b[0;34m\u001b[0m\u001b[0;34m\u001b[0m\u001b[0m\n\u001b[1;32m   4160\u001b[0m         \"\"\"\n\u001b[0;32m-> 4161\u001b[0;31m         \u001b[0mnew_values\u001b[0m \u001b[0;34m=\u001b[0m \u001b[0msuper\u001b[0m\u001b[0;34m(\u001b[0m\u001b[0;34m)\u001b[0m\u001b[0;34m.\u001b[0m\u001b[0m_map_values\u001b[0m\u001b[0;34m(\u001b[0m\u001b[0marg\u001b[0m\u001b[0;34m,\u001b[0m \u001b[0mna_action\u001b[0m\u001b[0;34m=\u001b[0m\u001b[0mna_action\u001b[0m\u001b[0;34m)\u001b[0m\u001b[0;34m\u001b[0m\u001b[0;34m\u001b[0m\u001b[0m\n\u001b[0m\u001b[1;32m   4162\u001b[0m         return self._constructor(new_values, index=self.index).__finalize__(\n\u001b[1;32m   4163\u001b[0m             \u001b[0mself\u001b[0m\u001b[0;34m,\u001b[0m \u001b[0mmethod\u001b[0m\u001b[0;34m=\u001b[0m\u001b[0;34m\"map\"\u001b[0m\u001b[0;34m\u001b[0m\u001b[0;34m\u001b[0m\u001b[0m\n",
      "\u001b[0;32m~/.local/lib/python3.8/site-packages/pandas/core/base.py\u001b[0m in \u001b[0;36m_map_values\u001b[0;34m(self, mapper, na_action)\u001b[0m\n\u001b[1;32m    868\u001b[0m \u001b[0;34m\u001b[0m\u001b[0m\n\u001b[1;32m    869\u001b[0m         \u001b[0;31m# mapper is a function\u001b[0m\u001b[0;34m\u001b[0m\u001b[0;34m\u001b[0m\u001b[0;34m\u001b[0m\u001b[0m\n\u001b[0;32m--> 870\u001b[0;31m         \u001b[0mnew_values\u001b[0m \u001b[0;34m=\u001b[0m \u001b[0mmap_f\u001b[0m\u001b[0;34m(\u001b[0m\u001b[0mvalues\u001b[0m\u001b[0;34m,\u001b[0m \u001b[0mmapper\u001b[0m\u001b[0;34m)\u001b[0m\u001b[0;34m\u001b[0m\u001b[0;34m\u001b[0m\u001b[0m\n\u001b[0m\u001b[1;32m    871\u001b[0m \u001b[0;34m\u001b[0m\u001b[0m\n\u001b[1;32m    872\u001b[0m         \u001b[0;32mreturn\u001b[0m \u001b[0mnew_values\u001b[0m\u001b[0;34m\u001b[0m\u001b[0;34m\u001b[0m\u001b[0m\n",
      "\u001b[0;32m~/.local/lib/python3.8/site-packages/pandas/_libs/lib.pyx\u001b[0m in \u001b[0;36mpandas._libs.lib.map_infer\u001b[0;34m()\u001b[0m\n",
      "\u001b[0;32m/tmp/ipykernel_2666/3105409802.py\u001b[0m in \u001b[0;36m<lambda>\u001b[0;34m(x)\u001b[0m\n\u001b[1;32m      1\u001b[0m \u001b[0;31m#stemming\u001b[0m\u001b[0;34m\u001b[0m\u001b[0;34m\u001b[0m\u001b[0;34m\u001b[0m\u001b[0m\n\u001b[1;32m      2\u001b[0m \u001b[0;34m\u001b[0m\u001b[0m\n\u001b[0;32m----> 3\u001b[0;31m \u001b[0mdf\u001b[0m\u001b[0;34m[\u001b[0m\u001b[0;34m'Description'\u001b[0m\u001b[0;34m]\u001b[0m \u001b[0;34m=\u001b[0m \u001b[0mdf\u001b[0m\u001b[0;34m[\u001b[0m\u001b[0;34m'Description'\u001b[0m\u001b[0;34m]\u001b[0m\u001b[0;34m.\u001b[0m\u001b[0mmap\u001b[0m\u001b[0;34m(\u001b[0m\u001b[0;32mlambda\u001b[0m \u001b[0mx\u001b[0m \u001b[0;34m:\u001b[0m \u001b[0mre\u001b[0m\u001b[0;34m.\u001b[0m\u001b[0msub\u001b[0m\u001b[0;34m(\u001b[0m\u001b[0;34m'[,\\.!?]'\u001b[0m\u001b[0;34m,\u001b[0m\u001b[0;34m''\u001b[0m\u001b[0;34m,\u001b[0m\u001b[0mx\u001b[0m\u001b[0;34m)\u001b[0m\u001b[0;34m)\u001b[0m\u001b[0;34m.\u001b[0m\u001b[0mmap\u001b[0m\u001b[0;34m(\u001b[0m\u001b[0;32mlambda\u001b[0m \u001b[0mx\u001b[0m \u001b[0;34m:\u001b[0m \u001b[0mre\u001b[0m\u001b[0;34m.\u001b[0m\u001b[0msub\u001b[0m\u001b[0;34m(\u001b[0m\u001b[0;34m'\\d'\u001b[0m\u001b[0;34m,\u001b[0m \u001b[0;34m''\u001b[0m\u001b[0;34m,\u001b[0m \u001b[0mx\u001b[0m\u001b[0;34m)\u001b[0m\u001b[0;34m)\u001b[0m\u001b[0;34m\u001b[0m\u001b[0;34m\u001b[0m\u001b[0m\n\u001b[0m\u001b[1;32m      4\u001b[0m \u001b[0;34m\u001b[0m\u001b[0m\n\u001b[1;32m      5\u001b[0m \u001b[0;32mfrom\u001b[0m \u001b[0mnltk\u001b[0m\u001b[0;34m.\u001b[0m\u001b[0mstem\u001b[0m\u001b[0;34m.\u001b[0m\u001b[0msnowball\u001b[0m \u001b[0;32mimport\u001b[0m \u001b[0mFrenchStemmer\u001b[0m\u001b[0;34m\u001b[0m\u001b[0;34m\u001b[0m\u001b[0m\n",
      "\u001b[0;32m/usr/lib/python3.8/re.py\u001b[0m in \u001b[0;36msub\u001b[0;34m(pattern, repl, string, count, flags)\u001b[0m\n\u001b[1;32m    208\u001b[0m     \u001b[0ma\u001b[0m \u001b[0mcallable\u001b[0m\u001b[0;34m,\u001b[0m \u001b[0mit\u001b[0m\u001b[0;31m'\u001b[0m\u001b[0ms\u001b[0m \u001b[0mpassed\u001b[0m \u001b[0mthe\u001b[0m \u001b[0mMatch\u001b[0m \u001b[0mobject\u001b[0m \u001b[0;32mand\u001b[0m \u001b[0mmust\u001b[0m \u001b[0;32mreturn\u001b[0m\u001b[0;34m\u001b[0m\u001b[0;34m\u001b[0m\u001b[0m\n\u001b[1;32m    209\u001b[0m     a replacement string to be used.\"\"\"\n\u001b[0;32m--> 210\u001b[0;31m     \u001b[0;32mreturn\u001b[0m \u001b[0m_compile\u001b[0m\u001b[0;34m(\u001b[0m\u001b[0mpattern\u001b[0m\u001b[0;34m,\u001b[0m \u001b[0mflags\u001b[0m\u001b[0;34m)\u001b[0m\u001b[0;34m.\u001b[0m\u001b[0msub\u001b[0m\u001b[0;34m(\u001b[0m\u001b[0mrepl\u001b[0m\u001b[0;34m,\u001b[0m \u001b[0mstring\u001b[0m\u001b[0;34m,\u001b[0m \u001b[0mcount\u001b[0m\u001b[0;34m)\u001b[0m\u001b[0;34m\u001b[0m\u001b[0;34m\u001b[0m\u001b[0m\n\u001b[0m\u001b[1;32m    211\u001b[0m \u001b[0;34m\u001b[0m\u001b[0m\n\u001b[1;32m    212\u001b[0m \u001b[0;32mdef\u001b[0m \u001b[0msubn\u001b[0m\u001b[0;34m(\u001b[0m\u001b[0mpattern\u001b[0m\u001b[0;34m,\u001b[0m \u001b[0mrepl\u001b[0m\u001b[0;34m,\u001b[0m \u001b[0mstring\u001b[0m\u001b[0;34m,\u001b[0m \u001b[0mcount\u001b[0m\u001b[0;34m=\u001b[0m\u001b[0;36m0\u001b[0m\u001b[0;34m,\u001b[0m \u001b[0mflags\u001b[0m\u001b[0;34m=\u001b[0m\u001b[0;36m0\u001b[0m\u001b[0;34m)\u001b[0m\u001b[0;34m:\u001b[0m\u001b[0;34m\u001b[0m\u001b[0;34m\u001b[0m\u001b[0m\n",
      "\u001b[0;31mTypeError\u001b[0m: expected string or bytes-like object"
     ]
    }
   ],
   "source": [
    "#stemming\n",
    "\n",
    "\n",
    "\n",
    "from nltk.stem.snowball import FrenchStemmer\n",
    "stemmer = FrenchStemmer()\n",
    "df['Description'] = df.Description.apply(lambda x: [stemmer.stem(item) for item in x])\n",
    "df\n"
   ]
  },
  {
   "cell_type": "code",
   "execution_count": null,
   "metadata": {},
   "outputs": [],
   "source": [
    "#count vect ou freqlist"
   ]
  },
  {
   "cell_type": "code",
   "execution_count": null,
   "metadata": {},
   "outputs": [],
   "source": []
  }
 ],
 "metadata": {
  "kernelspec": {
   "display_name": "Python 3 (ipykernel)",
   "language": "python",
   "name": "python3"
  },
  "language_info": {
   "codemirror_mode": {
    "name": "ipython",
    "version": 3
   },
   "file_extension": ".py",
   "mimetype": "text/x-python",
   "name": "python",
   "nbconvert_exporter": "python",
   "pygments_lexer": "ipython3",
   "version": "3.9.7"
  },
  "orig_nbformat": 4
 },
 "nbformat": 4,
 "nbformat_minor": 2
}
